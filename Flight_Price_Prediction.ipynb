{
  "nbformat": 4,
  "nbformat_minor": 0,
  "metadata": {
    "colab": {
      "name": "Flight Price Prediction.ipynb",
      "provenance": []
    },
    "kernelspec": {
      "name": "python3",
      "display_name": "Python 3"
    }
  },
  "cells": [
    {
      "cell_type": "markdown",
      "metadata": {
        "id": "C1nSQXntSS0z"
      },
      "source": [
        "#Importing Libraries"
      ]
    },
    {
      "cell_type": "code",
      "metadata": {
        "id": "Wu8NImRpRZbh"
      },
      "source": [
        "#Importing libraries\n",
        "import pandas as pd\n",
        "import numpy as np\n",
        "import matplotlib.pyplot as plt\n",
        "import seaborn as sns\n",
        "from sklearn.model_selection import train_test_split\n",
        "from sklearn.feature_extraction.text import CountVectorizer\n",
        "from sklearn.feature_extraction.text import TfidfTransformer\n",
        "from sklearn.feature_extraction.text import TfidfVectorizer"
      ],
      "execution_count": 479,
      "outputs": []
    },
    {
      "cell_type": "code",
      "metadata": {
        "id": "i5cZ5jb-RnLt"
      },
      "source": [
        "#Loading train file into df\n",
        "df = pd.read_csv('train.csv')\n",
        "  "
      ],
      "execution_count": 480,
      "outputs": []
    },
    {
      "cell_type": "code",
      "metadata": {
        "id": "8IYbd9e8T9Gz"
      },
      "source": [
        "#Loading train file into df\n",
        "df_test = pd.read_csv('test.csv')"
      ],
      "execution_count": 481,
      "outputs": []
    },
    {
      "cell_type": "markdown",
      "metadata": {
        "id": "82X_CBw7SPP3"
      },
      "source": [
        "#Gaining basic Insights from the data and Data Cleansing"
      ]
    },
    {
      "cell_type": "markdown",
      "metadata": {
        "id": "H3YCDfru6E1H"
      },
      "source": [
        "The Train data is for 2019 and for the months March, April, May, June"
      ]
    },
    {
      "cell_type": "code",
      "metadata": {
        "id": "_cf36th6Seqr",
        "colab": {
          "base_uri": "https://localhost:8080/",
          "height": 202
        },
        "outputId": "e1439d8a-82b9-401a-952f-075669652f27"
      },
      "source": [
        "#Reading the top 5 rows of the dataset\n",
        "df.head(5)"
      ],
      "execution_count": 482,
      "outputs": [
        {
          "output_type": "execute_result",
          "data": {
            "text/html": [
              "<div>\n",
              "<style scoped>\n",
              "    .dataframe tbody tr th:only-of-type {\n",
              "        vertical-align: middle;\n",
              "    }\n",
              "\n",
              "    .dataframe tbody tr th {\n",
              "        vertical-align: top;\n",
              "    }\n",
              "\n",
              "    .dataframe thead th {\n",
              "        text-align: right;\n",
              "    }\n",
              "</style>\n",
              "<table border=\"1\" class=\"dataframe\">\n",
              "  <thead>\n",
              "    <tr style=\"text-align: right;\">\n",
              "      <th></th>\n",
              "      <th>Airline</th>\n",
              "      <th>Date_of_Journey</th>\n",
              "      <th>Source</th>\n",
              "      <th>Destination</th>\n",
              "      <th>Route</th>\n",
              "      <th>Dep_Time</th>\n",
              "      <th>Arrival_Time</th>\n",
              "      <th>Duration</th>\n",
              "      <th>Total_Stops</th>\n",
              "      <th>Additional_Info</th>\n",
              "      <th>Price</th>\n",
              "    </tr>\n",
              "  </thead>\n",
              "  <tbody>\n",
              "    <tr>\n",
              "      <th>0</th>\n",
              "      <td>Airline C</td>\n",
              "      <td>12/06/2019</td>\n",
              "      <td>Delhi</td>\n",
              "      <td>Cochin</td>\n",
              "      <td>DEL → MAA → COK</td>\n",
              "      <td>20:40</td>\n",
              "      <td>09:25 13 Jun</td>\n",
              "      <td>12h 45m</td>\n",
              "      <td>1 stop</td>\n",
              "      <td>No info</td>\n",
              "      <td>7480</td>\n",
              "    </tr>\n",
              "    <tr>\n",
              "      <th>1</th>\n",
              "      <td>Airline A</td>\n",
              "      <td>18/06/2019</td>\n",
              "      <td>Banglore</td>\n",
              "      <td>Delhi</td>\n",
              "      <td>BLR → DEL</td>\n",
              "      <td>18:55</td>\n",
              "      <td>22:00</td>\n",
              "      <td>3h 5m</td>\n",
              "      <td>non-stop</td>\n",
              "      <td>No info</td>\n",
              "      <td>8016</td>\n",
              "    </tr>\n",
              "    <tr>\n",
              "      <th>2</th>\n",
              "      <td>Airline C</td>\n",
              "      <td>18/05/2019</td>\n",
              "      <td>Delhi</td>\n",
              "      <td>Cochin</td>\n",
              "      <td>DEL → BOM → COK</td>\n",
              "      <td>03:50</td>\n",
              "      <td>19:15</td>\n",
              "      <td>15h 25m</td>\n",
              "      <td>1 stop</td>\n",
              "      <td>No info</td>\n",
              "      <td>8879</td>\n",
              "    </tr>\n",
              "    <tr>\n",
              "      <th>3</th>\n",
              "      <td>Airline A</td>\n",
              "      <td>6/05/2019</td>\n",
              "      <td>Kolkata</td>\n",
              "      <td>Banglore</td>\n",
              "      <td>CCU → BOM → BLR</td>\n",
              "      <td>20:00</td>\n",
              "      <td>08:15 07 May</td>\n",
              "      <td>12h 15m</td>\n",
              "      <td>1 stop</td>\n",
              "      <td>In-flight meal not included</td>\n",
              "      <td>9663</td>\n",
              "    </tr>\n",
              "    <tr>\n",
              "      <th>4</th>\n",
              "      <td>Airline A</td>\n",
              "      <td>9/05/2019</td>\n",
              "      <td>Kolkata</td>\n",
              "      <td>Banglore</td>\n",
              "      <td>CCU → BOM → BLR</td>\n",
              "      <td>06:30</td>\n",
              "      <td>12:00</td>\n",
              "      <td>5h 30m</td>\n",
              "      <td>1 stop</td>\n",
              "      <td>In-flight meal not included</td>\n",
              "      <td>9663</td>\n",
              "    </tr>\n",
              "  </tbody>\n",
              "</table>\n",
              "</div>"
            ],
            "text/plain": [
              "     Airline Date_of_Journey  ...              Additional_Info Price\n",
              "0  Airline C      12/06/2019  ...                      No info  7480\n",
              "1  Airline A      18/06/2019  ...                      No info  8016\n",
              "2  Airline C      18/05/2019  ...                      No info  8879\n",
              "3  Airline A       6/05/2019  ...  In-flight meal not included  9663\n",
              "4  Airline A       9/05/2019  ...  In-flight meal not included  9663\n",
              "\n",
              "[5 rows x 11 columns]"
            ]
          },
          "metadata": {
            "tags": []
          },
          "execution_count": 482
        }
      ]
    },
    {
      "cell_type": "code",
      "metadata": {
        "id": "ZCBQm4u85Oyr",
        "colab": {
          "base_uri": "https://localhost:8080/",
          "height": 254
        },
        "outputId": "4416acc4-81fc-4968-b5b2-45872b723b95"
      },
      "source": [
        "#Reading bottom 5 rows of the dataset\n",
        "df.tail()"
      ],
      "execution_count": 483,
      "outputs": [
        {
          "output_type": "execute_result",
          "data": {
            "text/html": [
              "<div>\n",
              "<style scoped>\n",
              "    .dataframe tbody tr th:only-of-type {\n",
              "        vertical-align: middle;\n",
              "    }\n",
              "\n",
              "    .dataframe tbody tr th {\n",
              "        vertical-align: top;\n",
              "    }\n",
              "\n",
              "    .dataframe thead th {\n",
              "        text-align: right;\n",
              "    }\n",
              "</style>\n",
              "<table border=\"1\" class=\"dataframe\">\n",
              "  <thead>\n",
              "    <tr style=\"text-align: right;\">\n",
              "      <th></th>\n",
              "      <th>Airline</th>\n",
              "      <th>Date_of_Journey</th>\n",
              "      <th>Source</th>\n",
              "      <th>Destination</th>\n",
              "      <th>Route</th>\n",
              "      <th>Dep_Time</th>\n",
              "      <th>Arrival_Time</th>\n",
              "      <th>Duration</th>\n",
              "      <th>Total_Stops</th>\n",
              "      <th>Additional_Info</th>\n",
              "      <th>Price</th>\n",
              "    </tr>\n",
              "  </thead>\n",
              "  <tbody>\n",
              "    <tr>\n",
              "      <th>8007</th>\n",
              "      <td>Airline A</td>\n",
              "      <td>12/06/2019</td>\n",
              "      <td>Kolkata</td>\n",
              "      <td>Banglore</td>\n",
              "      <td>CCU → BOM → BLR</td>\n",
              "      <td>06:30</td>\n",
              "      <td>04:40 13 Jun</td>\n",
              "      <td>22h 10m</td>\n",
              "      <td>1 stop</td>\n",
              "      <td>In-flight meal not included</td>\n",
              "      <td>7594</td>\n",
              "    </tr>\n",
              "    <tr>\n",
              "      <th>8008</th>\n",
              "      <td>Airline C</td>\n",
              "      <td>9/06/2019</td>\n",
              "      <td>Delhi</td>\n",
              "      <td>Cochin</td>\n",
              "      <td>DEL → GOI → BOM → COK</td>\n",
              "      <td>22:00</td>\n",
              "      <td>19:15 10 Jun</td>\n",
              "      <td>21h 15m</td>\n",
              "      <td>2 stops</td>\n",
              "      <td>No info</td>\n",
              "      <td>10651</td>\n",
              "    </tr>\n",
              "    <tr>\n",
              "      <th>8009</th>\n",
              "      <td>Airline A</td>\n",
              "      <td>3/03/2019</td>\n",
              "      <td>Delhi</td>\n",
              "      <td>Cochin</td>\n",
              "      <td>DEL → BOM → COK</td>\n",
              "      <td>08:00</td>\n",
              "      <td>04:25 04 Mar</td>\n",
              "      <td>20h 25m</td>\n",
              "      <td>1 stop</td>\n",
              "      <td>No info</td>\n",
              "      <td>17024</td>\n",
              "    </tr>\n",
              "    <tr>\n",
              "      <th>8010</th>\n",
              "      <td>Airline A</td>\n",
              "      <td>18/05/2019</td>\n",
              "      <td>Delhi</td>\n",
              "      <td>Cochin</td>\n",
              "      <td>DEL → BOM → COK</td>\n",
              "      <td>11:30</td>\n",
              "      <td>12:35 19 May</td>\n",
              "      <td>25h 5m</td>\n",
              "      <td>1 stop</td>\n",
              "      <td>In-flight meal not included</td>\n",
              "      <td>12373</td>\n",
              "    </tr>\n",
              "    <tr>\n",
              "      <th>8011</th>\n",
              "      <td>Airline A</td>\n",
              "      <td>9/05/2019</td>\n",
              "      <td>Kolkata</td>\n",
              "      <td>Banglore</td>\n",
              "      <td>CCU → DEL → BLR</td>\n",
              "      <td>20:25</td>\n",
              "      <td>23:35 10 May</td>\n",
              "      <td>27h 10m</td>\n",
              "      <td>1 stop</td>\n",
              "      <td>No info</td>\n",
              "      <td>13067</td>\n",
              "    </tr>\n",
              "  </tbody>\n",
              "</table>\n",
              "</div>"
            ],
            "text/plain": [
              "        Airline Date_of_Journey  ...              Additional_Info  Price\n",
              "8007  Airline A      12/06/2019  ...  In-flight meal not included   7594\n",
              "8008  Airline C       9/06/2019  ...                      No info  10651\n",
              "8009  Airline A       3/03/2019  ...                      No info  17024\n",
              "8010  Airline A      18/05/2019  ...  In-flight meal not included  12373\n",
              "8011  Airline A       9/05/2019  ...                      No info  13067\n",
              "\n",
              "[5 rows x 11 columns]"
            ]
          },
          "metadata": {
            "tags": []
          },
          "execution_count": 483
        }
      ]
    },
    {
      "cell_type": "code",
      "metadata": {
        "id": "TXIUNI2ZSk5z",
        "colab": {
          "base_uri": "https://localhost:8080/"
        },
        "outputId": "587d13bc-fc47-4f84-807b-7d5b79324268"
      },
      "source": [
        "#Checking the dimensions of the dataset\n",
        "df.shape"
      ],
      "execution_count": 484,
      "outputs": [
        {
          "output_type": "execute_result",
          "data": {
            "text/plain": [
              "(8012, 11)"
            ]
          },
          "metadata": {
            "tags": []
          },
          "execution_count": 484
        }
      ]
    },
    {
      "cell_type": "code",
      "metadata": {
        "id": "FubNv8l9b-BR",
        "colab": {
          "base_uri": "https://localhost:8080/"
        },
        "outputId": "9915200e-3d94-4de7-f09b-87eebd640715"
      },
      "source": [
        "#Checking the dimensions of the dataset\n",
        "df_test.shape"
      ],
      "execution_count": 485,
      "outputs": [
        {
          "output_type": "execute_result",
          "data": {
            "text/plain": [
              "(2671, 10)"
            ]
          },
          "metadata": {
            "tags": []
          },
          "execution_count": 485
        }
      ]
    },
    {
      "cell_type": "code",
      "metadata": {
        "id": "lMRK-v_uSnrs",
        "colab": {
          "base_uri": "https://localhost:8080/"
        },
        "outputId": "63796fcd-d186-4ea1-b424-bc325e472c26"
      },
      "source": [
        "#Checking datatypes\n",
        "df.dtypes"
      ],
      "execution_count": 486,
      "outputs": [
        {
          "output_type": "execute_result",
          "data": {
            "text/plain": [
              "Airline            object\n",
              "Date_of_Journey    object\n",
              "Source             object\n",
              "Destination        object\n",
              "Route              object\n",
              "Dep_Time           object\n",
              "Arrival_Time       object\n",
              "Duration           object\n",
              "Total_Stops        object\n",
              "Additional_Info    object\n",
              "Price               int64\n",
              "dtype: object"
            ]
          },
          "metadata": {
            "tags": []
          },
          "execution_count": 486
        }
      ]
    },
    {
      "cell_type": "code",
      "metadata": {
        "id": "NwIhtXHmcFyU",
        "colab": {
          "base_uri": "https://localhost:8080/"
        },
        "outputId": "c8060749-de25-499f-fc60-eaee6042115e"
      },
      "source": [
        "df_test.dtypes"
      ],
      "execution_count": 487,
      "outputs": [
        {
          "output_type": "execute_result",
          "data": {
            "text/plain": [
              "Airline            object\n",
              "Date_of_Journey    object\n",
              "Source             object\n",
              "Destination        object\n",
              "Route              object\n",
              "Dep_Time           object\n",
              "Arrival_Time       object\n",
              "Duration           object\n",
              "Total_Stops        object\n",
              "Additional_Info    object\n",
              "dtype: object"
            ]
          },
          "metadata": {
            "tags": []
          },
          "execution_count": 487
        }
      ]
    },
    {
      "cell_type": "markdown",
      "metadata": {
        "id": "mtRh-3EoSsHH"
      },
      "source": [
        "Only 1 Numerical Field, 10 Categorical Fields"
      ]
    },
    {
      "cell_type": "code",
      "metadata": {
        "id": "Y-DLsw5SUHtj",
        "colab": {
          "base_uri": "https://localhost:8080/"
        },
        "outputId": "623c94b1-72e3-41b1-9004-2ea5f27b56f1"
      },
      "source": [
        "#checking the Info\n",
        "df.info()"
      ],
      "execution_count": 488,
      "outputs": [
        {
          "output_type": "stream",
          "text": [
            "<class 'pandas.core.frame.DataFrame'>\n",
            "RangeIndex: 8012 entries, 0 to 8011\n",
            "Data columns (total 11 columns):\n",
            " #   Column           Non-Null Count  Dtype \n",
            "---  ------           --------------  ----- \n",
            " 0   Airline          8012 non-null   object\n",
            " 1   Date_of_Journey  8012 non-null   object\n",
            " 2   Source           8012 non-null   object\n",
            " 3   Destination      8012 non-null   object\n",
            " 4   Route            8011 non-null   object\n",
            " 5   Dep_Time         8012 non-null   object\n",
            " 6   Arrival_Time     8012 non-null   object\n",
            " 7   Duration         8012 non-null   object\n",
            " 8   Total_Stops      8011 non-null   object\n",
            " 9   Additional_Info  8012 non-null   object\n",
            " 10  Price            8012 non-null   int64 \n",
            "dtypes: int64(1), object(10)\n",
            "memory usage: 688.7+ KB\n"
          ],
          "name": "stdout"
        }
      ]
    },
    {
      "cell_type": "code",
      "metadata": {
        "id": "3Gby42pobUKm",
        "colab": {
          "base_uri": "https://localhost:8080/"
        },
        "outputId": "ba8c9eda-9c72-4ada-bd95-5026cb489c5c"
      },
      "source": [
        "#checking for null values\n",
        "print(df.isnull().sum())"
      ],
      "execution_count": 489,
      "outputs": [
        {
          "output_type": "stream",
          "text": [
            "Airline            0\n",
            "Date_of_Journey    0\n",
            "Source             0\n",
            "Destination        0\n",
            "Route              1\n",
            "Dep_Time           0\n",
            "Arrival_Time       0\n",
            "Duration           0\n",
            "Total_Stops        1\n",
            "Additional_Info    0\n",
            "Price              0\n",
            "dtype: int64\n"
          ],
          "name": "stdout"
        }
      ]
    },
    {
      "cell_type": "code",
      "metadata": {
        "id": "5CV17K_FcPP8",
        "colab": {
          "base_uri": "https://localhost:8080/"
        },
        "outputId": "a85b721d-4914-40b6-9cd0-9a2e8a6d1858"
      },
      "source": [
        "#checking for null values\n",
        "print(df_test.isnull().sum())"
      ],
      "execution_count": 490,
      "outputs": [
        {
          "output_type": "stream",
          "text": [
            "Airline            0\n",
            "Date_of_Journey    0\n",
            "Source             0\n",
            "Destination        0\n",
            "Route              0\n",
            "Dep_Time           0\n",
            "Arrival_Time       0\n",
            "Duration           0\n",
            "Total_Stops        0\n",
            "Additional_Info    0\n",
            "dtype: int64\n"
          ],
          "name": "stdout"
        }
      ]
    },
    {
      "cell_type": "markdown",
      "metadata": {
        "id": "M-lZBNLUUSw0"
      },
      "source": [
        "only 1 null values present in the dataset we would drop them"
      ]
    },
    {
      "cell_type": "code",
      "metadata": {
        "id": "gveUfU35Ugmw"
      },
      "source": [
        "df.dropna(inplace=True)"
      ],
      "execution_count": 491,
      "outputs": []
    },
    {
      "cell_type": "code",
      "metadata": {
        "id": "95wVlywnUp0Q",
        "colab": {
          "base_uri": "https://localhost:8080/"
        },
        "outputId": "d3e3b920-240d-4688-f5e6-274768bdf0a9"
      },
      "source": [
        "df.shape\n"
      ],
      "execution_count": 492,
      "outputs": [
        {
          "output_type": "execute_result",
          "data": {
            "text/plain": [
              "(8011, 11)"
            ]
          },
          "metadata": {
            "tags": []
          },
          "execution_count": 492
        }
      ]
    },
    {
      "cell_type": "markdown",
      "metadata": {
        "id": "JDuZPDRMU0Z8"
      },
      "source": [
        "The Data point having null Route was also having null value for Total Stops\n"
      ]
    },
    {
      "cell_type": "code",
      "metadata": {
        "id": "jZUH6KooS3EK",
        "colab": {
          "base_uri": "https://localhost:8080/",
          "height": 294
        },
        "outputId": "c078010b-5b96-401a-d810-74e0c31efa20"
      },
      "source": [
        "#Ananlysing basic statistical details\n",
        "df.describe()"
      ],
      "execution_count": 493,
      "outputs": [
        {
          "output_type": "execute_result",
          "data": {
            "text/html": [
              "<div>\n",
              "<style scoped>\n",
              "    .dataframe tbody tr th:only-of-type {\n",
              "        vertical-align: middle;\n",
              "    }\n",
              "\n",
              "    .dataframe tbody tr th {\n",
              "        vertical-align: top;\n",
              "    }\n",
              "\n",
              "    .dataframe thead th {\n",
              "        text-align: right;\n",
              "    }\n",
              "</style>\n",
              "<table border=\"1\" class=\"dataframe\">\n",
              "  <thead>\n",
              "    <tr style=\"text-align: right;\">\n",
              "      <th></th>\n",
              "      <th>Price</th>\n",
              "    </tr>\n",
              "  </thead>\n",
              "  <tbody>\n",
              "    <tr>\n",
              "      <th>count</th>\n",
              "      <td>8011.000000</td>\n",
              "    </tr>\n",
              "    <tr>\n",
              "      <th>mean</th>\n",
              "      <td>9062.235426</td>\n",
              "    </tr>\n",
              "    <tr>\n",
              "      <th>std</th>\n",
              "      <td>4626.848090</td>\n",
              "    </tr>\n",
              "    <tr>\n",
              "      <th>min</th>\n",
              "      <td>1759.000000</td>\n",
              "    </tr>\n",
              "    <tr>\n",
              "      <th>25%</th>\n",
              "      <td>5277.000000</td>\n",
              "    </tr>\n",
              "    <tr>\n",
              "      <th>50%</th>\n",
              "      <td>8371.000000</td>\n",
              "    </tr>\n",
              "    <tr>\n",
              "      <th>75%</th>\n",
              "      <td>12373.000000</td>\n",
              "    </tr>\n",
              "    <tr>\n",
              "      <th>max</th>\n",
              "      <td>79512.000000</td>\n",
              "    </tr>\n",
              "  </tbody>\n",
              "</table>\n",
              "</div>"
            ],
            "text/plain": [
              "              Price\n",
              "count   8011.000000\n",
              "mean    9062.235426\n",
              "std     4626.848090\n",
              "min     1759.000000\n",
              "25%     5277.000000\n",
              "50%     8371.000000\n",
              "75%    12373.000000\n",
              "max    79512.000000"
            ]
          },
          "metadata": {
            "tags": []
          },
          "execution_count": 493
        }
      ]
    },
    {
      "cell_type": "code",
      "metadata": {
        "id": "myH_N_PETF_Y",
        "colab": {
          "base_uri": "https://localhost:8080/"
        },
        "outputId": "77595972-765a-40d7-953b-90d830896f40"
      },
      "source": [
        "df['Date_of_Journey'].value_counts()"
      ],
      "execution_count": 494,
      "outputs": [
        {
          "output_type": "execute_result",
          "data": {
            "text/plain": [
              "6/06/2019     390\n",
              "18/05/2019    385\n",
              "9/06/2019     384\n",
              "12/06/2019    379\n",
              "9/05/2019     363\n",
              "21/05/2019    351\n",
              "21/03/2019    316\n",
              "15/05/2019    314\n",
              "27/05/2019    293\n",
              "24/06/2019    264\n",
              "15/06/2019    255\n",
              "27/06/2019    253\n",
              "1/06/2019     250\n",
              "24/03/2019    245\n",
              "3/06/2019     243\n",
              "27/03/2019    227\n",
              "6/03/2019     226\n",
              "24/05/2019    224\n",
              "12/05/2019    202\n",
              "1/05/2019     201\n",
              "6/05/2019     199\n",
              "1/04/2019     195\n",
              "9/03/2019     156\n",
              "3/03/2019     139\n",
              "15/03/2019    122\n",
              "18/03/2019    119\n",
              "01/03/2019    115\n",
              "12/03/2019    102\n",
              "9/04/2019      92\n",
              "6/04/2019      80\n",
              "18/06/2019     79\n",
              "3/04/2019      79\n",
              "21/06/2019     78\n",
              "09/03/2019     77\n",
              "06/03/2019     74\n",
              "15/04/2019     72\n",
              "03/03/2019     72\n",
              "24/04/2019     67\n",
              "3/05/2019      65\n",
              "27/04/2019     64\n",
              "21/04/2019     59\n",
              "18/04/2019     52\n",
              "12/04/2019     50\n",
              "1/03/2019      39\n",
              "Name: Date_of_Journey, dtype: int64"
            ]
          },
          "metadata": {
            "tags": []
          },
          "execution_count": 494
        }
      ]
    },
    {
      "cell_type": "code",
      "metadata": {
        "id": "lO41vOTEcVoW",
        "colab": {
          "base_uri": "https://localhost:8080/"
        },
        "outputId": "2607bed6-38bd-49b9-8589-2a4092837833"
      },
      "source": [
        "df[\"Airline\"].value_counts()\n",
        "#df.Airline.value_counts()"
      ],
      "execution_count": 495,
      "outputs": [
        {
          "output_type": "execute_result",
          "data": {
            "text/plain": [
              "Airline A    2881\n",
              "Airline B    1550\n",
              "Airline C    1286\n",
              "Airline D     906\n",
              "Airline E     625\n",
              "Airline F     360\n",
              "Airline G     235\n",
              "Airline H     146\n",
              "Airline I      12\n",
              "Airline J       6\n",
              "Airline K       3\n",
              "Airline L       1\n",
              "Name: Airline, dtype: int64"
            ]
          },
          "metadata": {
            "tags": []
          },
          "execution_count": 495
        }
      ]
    },
    {
      "cell_type": "code",
      "metadata": {
        "id": "KFe0nIE7TXDj",
        "colab": {
          "base_uri": "https://localhost:8080/"
        },
        "outputId": "2042461a-2474-4d19-ca7f-0b4b2da8cabd"
      },
      "source": [
        "#Checking for duplicate values\n",
        "duplicate_rows_df = df[df.duplicated()]\n",
        "print(\"number of duplicate rows: {}\".format(duplicate_rows_df.shape))"
      ],
      "execution_count": 496,
      "outputs": [
        {
          "output_type": "stream",
          "text": [
            "number of duplicate rows: (117, 11)\n"
          ],
          "name": "stdout"
        }
      ]
    },
    {
      "cell_type": "markdown",
      "metadata": {
        "id": "KEJVHTyKT7dk"
      },
      "source": [
        "117 Duplicate Rows"
      ]
    },
    {
      "cell_type": "code",
      "metadata": {
        "id": "0vWR2CYQUBZJ",
        "colab": {
          "base_uri": "https://localhost:8080/"
        },
        "outputId": "0518b25d-0dc1-4824-8c54-821da97da593"
      },
      "source": [
        "#Checking for duplicate host_ID and host_name values\n",
        "print('Number of duplicate Airlines: {}'.format(df.duplicated(subset = 'Airline').value_counts()))\n",
        "#print('Number of duplicate Host names {}'.format(df.duplicated(subset = 'host_name').value_counts()))"
      ],
      "execution_count": 497,
      "outputs": [
        {
          "output_type": "stream",
          "text": [
            "Number of duplicate Airlines: True     7999\n",
            "False      12\n",
            "dtype: int64\n"
          ],
          "name": "stdout"
        }
      ]
    },
    {
      "cell_type": "markdown",
      "metadata": {
        "id": "IZhrLqnEcdMz"
      },
      "source": [
        "#Extracting day,month,year,weekday from Date of Journey\n"
      ]
    },
    {
      "cell_type": "markdown",
      "metadata": {
        "id": "vI1g1B1RV0x6"
      },
      "source": [
        "Date_of_Journey is a object data type \n",
        "Therefore, we have to convert this datatype into timestamp so as to use this column properly for prediction\n",
        "\n",
        "For this we require pandas to_datetime to convert object data type to datetime dtype.\n",
        "\n",
        ".dt.day method will extract only day of that date\n",
        "\n",
        ".dt.month method will extract only month of that date"
      ]
    },
    {
      "cell_type": "code",
      "metadata": {
        "id": "WtqFk4tqccWC"
      },
      "source": [
        "df['Journey_Day'] = pd.to_datetime(df.Date_of_Journey, format='%d/%m/%Y').dt.day\n",
        "df['Journey_Month'] = pd.to_datetime(df.Date_of_Journey, format='%d/%m/%Y').dt.month\n",
        "df['weekday']= pd.to_datetime(df.Date_of_Journey, format='%d/%m/%Y').dt.weekday\n"
      ],
      "execution_count": 498,
      "outputs": []
    },
    {
      "cell_type": "code",
      "metadata": {
        "id": "CawqdgDf4qJ5"
      },
      "source": [
        "#df['Date']=df['Date_of_Journey'].str.split('/').str[0]\n",
        "#df['Month']=df['Date_of_Journey'].str.split('/').str[1]\n",
        "#df['Year']=df['Date_of_Journey'].str.split('/').str[2]\n",
        "df['Year']=df['Date_of_Journey'].str.split('/').str[2]"
      ],
      "execution_count": 499,
      "outputs": []
    },
    {
      "cell_type": "code",
      "metadata": {
        "id": "PXMZ1PSp58KY",
        "colab": {
          "base_uri": "https://localhost:8080/"
        },
        "outputId": "26561ead-deb8-4b46-fdab-e9d8519839b6"
      },
      "source": [
        "df['Year'].value_counts()"
      ],
      "execution_count": 500,
      "outputs": [
        {
          "output_type": "execute_result",
          "data": {
            "text/plain": [
              "2019    8011\n",
              "Name: Year, dtype: int64"
            ]
          },
          "metadata": {
            "tags": []
          },
          "execution_count": 500
        }
      ]
    },
    {
      "cell_type": "code",
      "metadata": {
        "id": "nrMQwlE-cwWV",
        "colab": {
          "base_uri": "https://localhost:8080/",
          "height": 534
        },
        "outputId": "a30fcd23-f270-4065-d494-b8e4ea319695"
      },
      "source": [
        "df.head()"
      ],
      "execution_count": 501,
      "outputs": [
        {
          "output_type": "execute_result",
          "data": {
            "text/html": [
              "<div>\n",
              "<style scoped>\n",
              "    .dataframe tbody tr th:only-of-type {\n",
              "        vertical-align: middle;\n",
              "    }\n",
              "\n",
              "    .dataframe tbody tr th {\n",
              "        vertical-align: top;\n",
              "    }\n",
              "\n",
              "    .dataframe thead th {\n",
              "        text-align: right;\n",
              "    }\n",
              "</style>\n",
              "<table border=\"1\" class=\"dataframe\">\n",
              "  <thead>\n",
              "    <tr style=\"text-align: right;\">\n",
              "      <th></th>\n",
              "      <th>Airline</th>\n",
              "      <th>Date_of_Journey</th>\n",
              "      <th>Source</th>\n",
              "      <th>Destination</th>\n",
              "      <th>Route</th>\n",
              "      <th>Dep_Time</th>\n",
              "      <th>Arrival_Time</th>\n",
              "      <th>Duration</th>\n",
              "      <th>Total_Stops</th>\n",
              "      <th>Additional_Info</th>\n",
              "      <th>Price</th>\n",
              "      <th>Journey_Day</th>\n",
              "      <th>Journey_Month</th>\n",
              "      <th>weekday</th>\n",
              "      <th>Year</th>\n",
              "    </tr>\n",
              "  </thead>\n",
              "  <tbody>\n",
              "    <tr>\n",
              "      <th>0</th>\n",
              "      <td>Airline C</td>\n",
              "      <td>12/06/2019</td>\n",
              "      <td>Delhi</td>\n",
              "      <td>Cochin</td>\n",
              "      <td>DEL → MAA → COK</td>\n",
              "      <td>20:40</td>\n",
              "      <td>09:25 13 Jun</td>\n",
              "      <td>12h 45m</td>\n",
              "      <td>1 stop</td>\n",
              "      <td>No info</td>\n",
              "      <td>7480</td>\n",
              "      <td>12</td>\n",
              "      <td>6</td>\n",
              "      <td>2</td>\n",
              "      <td>2019</td>\n",
              "    </tr>\n",
              "    <tr>\n",
              "      <th>1</th>\n",
              "      <td>Airline A</td>\n",
              "      <td>18/06/2019</td>\n",
              "      <td>Banglore</td>\n",
              "      <td>Delhi</td>\n",
              "      <td>BLR → DEL</td>\n",
              "      <td>18:55</td>\n",
              "      <td>22:00</td>\n",
              "      <td>3h 5m</td>\n",
              "      <td>non-stop</td>\n",
              "      <td>No info</td>\n",
              "      <td>8016</td>\n",
              "      <td>18</td>\n",
              "      <td>6</td>\n",
              "      <td>1</td>\n",
              "      <td>2019</td>\n",
              "    </tr>\n",
              "    <tr>\n",
              "      <th>2</th>\n",
              "      <td>Airline C</td>\n",
              "      <td>18/05/2019</td>\n",
              "      <td>Delhi</td>\n",
              "      <td>Cochin</td>\n",
              "      <td>DEL → BOM → COK</td>\n",
              "      <td>03:50</td>\n",
              "      <td>19:15</td>\n",
              "      <td>15h 25m</td>\n",
              "      <td>1 stop</td>\n",
              "      <td>No info</td>\n",
              "      <td>8879</td>\n",
              "      <td>18</td>\n",
              "      <td>5</td>\n",
              "      <td>5</td>\n",
              "      <td>2019</td>\n",
              "    </tr>\n",
              "    <tr>\n",
              "      <th>3</th>\n",
              "      <td>Airline A</td>\n",
              "      <td>6/05/2019</td>\n",
              "      <td>Kolkata</td>\n",
              "      <td>Banglore</td>\n",
              "      <td>CCU → BOM → BLR</td>\n",
              "      <td>20:00</td>\n",
              "      <td>08:15 07 May</td>\n",
              "      <td>12h 15m</td>\n",
              "      <td>1 stop</td>\n",
              "      <td>In-flight meal not included</td>\n",
              "      <td>9663</td>\n",
              "      <td>6</td>\n",
              "      <td>5</td>\n",
              "      <td>0</td>\n",
              "      <td>2019</td>\n",
              "    </tr>\n",
              "    <tr>\n",
              "      <th>4</th>\n",
              "      <td>Airline A</td>\n",
              "      <td>9/05/2019</td>\n",
              "      <td>Kolkata</td>\n",
              "      <td>Banglore</td>\n",
              "      <td>CCU → BOM → BLR</td>\n",
              "      <td>06:30</td>\n",
              "      <td>12:00</td>\n",
              "      <td>5h 30m</td>\n",
              "      <td>1 stop</td>\n",
              "      <td>In-flight meal not included</td>\n",
              "      <td>9663</td>\n",
              "      <td>9</td>\n",
              "      <td>5</td>\n",
              "      <td>3</td>\n",
              "      <td>2019</td>\n",
              "    </tr>\n",
              "  </tbody>\n",
              "</table>\n",
              "</div>"
            ],
            "text/plain": [
              "     Airline Date_of_Journey    Source  ... Journey_Month weekday  Year\n",
              "0  Airline C      12/06/2019     Delhi  ...             6       2  2019\n",
              "1  Airline A      18/06/2019  Banglore  ...             6       1  2019\n",
              "2  Airline C      18/05/2019     Delhi  ...             5       5  2019\n",
              "3  Airline A       6/05/2019   Kolkata  ...             5       0  2019\n",
              "4  Airline A       9/05/2019   Kolkata  ...             5       3  2019\n",
              "\n",
              "[5 rows x 15 columns]"
            ]
          },
          "metadata": {
            "tags": []
          },
          "execution_count": 501
        }
      ]
    },
    {
      "cell_type": "code",
      "metadata": {
        "id": "NdkONNGMybll",
        "colab": {
          "base_uri": "https://localhost:8080/"
        },
        "outputId": "71c4ae0e-46f1-482d-9a03-38cb4481f7ed"
      },
      "source": [
        "df.columns"
      ],
      "execution_count": 502,
      "outputs": [
        {
          "output_type": "execute_result",
          "data": {
            "text/plain": [
              "Index(['Airline', 'Date_of_Journey', 'Source', 'Destination', 'Route',\n",
              "       'Dep_Time', 'Arrival_Time', 'Duration', 'Total_Stops',\n",
              "       'Additional_Info', 'Price', 'Journey_Day', 'Journey_Month', 'weekday',\n",
              "       'Year'],\n",
              "      dtype='object')"
            ]
          },
          "metadata": {
            "tags": []
          },
          "execution_count": 502
        }
      ]
    },
    {
      "cell_type": "code",
      "metadata": {
        "id": "o5o8BGoQhGC-"
      },
      "source": [
        "# Since we have converted Date_of_Journey column into integers, Now we can drop as it is of no use.\n",
        "df.drop(labels = 'Date_of_Journey',axis = 1, inplace = True)\n",
        "\n"
      ],
      "execution_count": 503,
      "outputs": []
    },
    {
      "cell_type": "code",
      "metadata": {
        "id": "d6yVvFi-647b"
      },
      "source": [
        "df.drop(labels = 'Year', axis = 1, inplace = True)"
      ],
      "execution_count": 504,
      "outputs": []
    },
    {
      "cell_type": "code",
      "metadata": {
        "id": "mplk4L1G7DDI",
        "colab": {
          "base_uri": "https://localhost:8080/"
        },
        "outputId": "acc4fb85-3d04-4df3-ad24-056a28745a1b"
      },
      "source": [
        "df.columns"
      ],
      "execution_count": 505,
      "outputs": [
        {
          "output_type": "execute_result",
          "data": {
            "text/plain": [
              "Index(['Airline', 'Source', 'Destination', 'Route', 'Dep_Time', 'Arrival_Time',\n",
              "       'Duration', 'Total_Stops', 'Additional_Info', 'Price', 'Journey_Day',\n",
              "       'Journey_Month', 'weekday'],\n",
              "      dtype='object')"
            ]
          },
          "metadata": {
            "tags": []
          },
          "execution_count": 505
        }
      ]
    },
    {
      "cell_type": "markdown",
      "metadata": {
        "id": "zHcR_xGnXPf_"
      },
      "source": [
        "#Extracting Hours and Minutes from Departure Time"
      ]
    },
    {
      "cell_type": "code",
      "metadata": {
        "id": "TQjBw_TCxgba"
      },
      "source": [
        "# Departure time is when a plane leaves the gate. \n",
        "# Similar to Date_of_Journey we can extract values from Dep_Time\n",
        "\n",
        "# Extracting Hours\n",
        "df[\"Dep_hour\"] = pd.to_datetime(df[\"Dep_Time\"]).dt.hour\n",
        "\n",
        "# Extracting Minutes\n",
        "df[\"Dep_min\"] = pd.to_datetime(df[\"Dep_Time\"]).dt.minute\n",
        "\n",
        "# Now we can drop Dep_Time as it is of no use\n",
        "df.drop([\"Dep_Time\"], axis = 1, inplace = True)"
      ],
      "execution_count": 506,
      "outputs": []
    },
    {
      "cell_type": "code",
      "metadata": {
        "id": "QobAqOihWK85",
        "colab": {
          "base_uri": "https://localhost:8080/",
          "height": 0
        },
        "outputId": "cfae4c93-fb95-4f56-fed1-84710788308b"
      },
      "source": [
        "df.head()"
      ],
      "execution_count": 507,
      "outputs": [
        {
          "output_type": "execute_result",
          "data": {
            "text/html": [
              "<div>\n",
              "<style scoped>\n",
              "    .dataframe tbody tr th:only-of-type {\n",
              "        vertical-align: middle;\n",
              "    }\n",
              "\n",
              "    .dataframe tbody tr th {\n",
              "        vertical-align: top;\n",
              "    }\n",
              "\n",
              "    .dataframe thead th {\n",
              "        text-align: right;\n",
              "    }\n",
              "</style>\n",
              "<table border=\"1\" class=\"dataframe\">\n",
              "  <thead>\n",
              "    <tr style=\"text-align: right;\">\n",
              "      <th></th>\n",
              "      <th>Airline</th>\n",
              "      <th>Source</th>\n",
              "      <th>Destination</th>\n",
              "      <th>Route</th>\n",
              "      <th>Arrival_Time</th>\n",
              "      <th>Duration</th>\n",
              "      <th>Total_Stops</th>\n",
              "      <th>Additional_Info</th>\n",
              "      <th>Price</th>\n",
              "      <th>Journey_Day</th>\n",
              "      <th>Journey_Month</th>\n",
              "      <th>weekday</th>\n",
              "      <th>Dep_hour</th>\n",
              "      <th>Dep_min</th>\n",
              "    </tr>\n",
              "  </thead>\n",
              "  <tbody>\n",
              "    <tr>\n",
              "      <th>0</th>\n",
              "      <td>Airline C</td>\n",
              "      <td>Delhi</td>\n",
              "      <td>Cochin</td>\n",
              "      <td>DEL → MAA → COK</td>\n",
              "      <td>09:25 13 Jun</td>\n",
              "      <td>12h 45m</td>\n",
              "      <td>1 stop</td>\n",
              "      <td>No info</td>\n",
              "      <td>7480</td>\n",
              "      <td>12</td>\n",
              "      <td>6</td>\n",
              "      <td>2</td>\n",
              "      <td>20</td>\n",
              "      <td>40</td>\n",
              "    </tr>\n",
              "    <tr>\n",
              "      <th>1</th>\n",
              "      <td>Airline A</td>\n",
              "      <td>Banglore</td>\n",
              "      <td>Delhi</td>\n",
              "      <td>BLR → DEL</td>\n",
              "      <td>22:00</td>\n",
              "      <td>3h 5m</td>\n",
              "      <td>non-stop</td>\n",
              "      <td>No info</td>\n",
              "      <td>8016</td>\n",
              "      <td>18</td>\n",
              "      <td>6</td>\n",
              "      <td>1</td>\n",
              "      <td>18</td>\n",
              "      <td>55</td>\n",
              "    </tr>\n",
              "    <tr>\n",
              "      <th>2</th>\n",
              "      <td>Airline C</td>\n",
              "      <td>Delhi</td>\n",
              "      <td>Cochin</td>\n",
              "      <td>DEL → BOM → COK</td>\n",
              "      <td>19:15</td>\n",
              "      <td>15h 25m</td>\n",
              "      <td>1 stop</td>\n",
              "      <td>No info</td>\n",
              "      <td>8879</td>\n",
              "      <td>18</td>\n",
              "      <td>5</td>\n",
              "      <td>5</td>\n",
              "      <td>3</td>\n",
              "      <td>50</td>\n",
              "    </tr>\n",
              "    <tr>\n",
              "      <th>3</th>\n",
              "      <td>Airline A</td>\n",
              "      <td>Kolkata</td>\n",
              "      <td>Banglore</td>\n",
              "      <td>CCU → BOM → BLR</td>\n",
              "      <td>08:15 07 May</td>\n",
              "      <td>12h 15m</td>\n",
              "      <td>1 stop</td>\n",
              "      <td>In-flight meal not included</td>\n",
              "      <td>9663</td>\n",
              "      <td>6</td>\n",
              "      <td>5</td>\n",
              "      <td>0</td>\n",
              "      <td>20</td>\n",
              "      <td>0</td>\n",
              "    </tr>\n",
              "    <tr>\n",
              "      <th>4</th>\n",
              "      <td>Airline A</td>\n",
              "      <td>Kolkata</td>\n",
              "      <td>Banglore</td>\n",
              "      <td>CCU → BOM → BLR</td>\n",
              "      <td>12:00</td>\n",
              "      <td>5h 30m</td>\n",
              "      <td>1 stop</td>\n",
              "      <td>In-flight meal not included</td>\n",
              "      <td>9663</td>\n",
              "      <td>9</td>\n",
              "      <td>5</td>\n",
              "      <td>3</td>\n",
              "      <td>6</td>\n",
              "      <td>30</td>\n",
              "    </tr>\n",
              "  </tbody>\n",
              "</table>\n",
              "</div>"
            ],
            "text/plain": [
              "     Airline    Source Destination  ... weekday Dep_hour Dep_min\n",
              "0  Airline C     Delhi      Cochin  ...       2       20      40\n",
              "1  Airline A  Banglore       Delhi  ...       1       18      55\n",
              "2  Airline C     Delhi      Cochin  ...       5        3      50\n",
              "3  Airline A   Kolkata    Banglore  ...       0       20       0\n",
              "4  Airline A   Kolkata    Banglore  ...       3        6      30\n",
              "\n",
              "[5 rows x 14 columns]"
            ]
          },
          "metadata": {
            "tags": []
          },
          "execution_count": 507
        }
      ]
    },
    {
      "cell_type": "markdown",
      "metadata": {
        "id": "d32R04i2YaW-"
      },
      "source": [
        "#Extracting Hours and Minutes from Arrival Time"
      ]
    },
    {
      "cell_type": "code",
      "metadata": {
        "id": "az3CVotZWYWW"
      },
      "source": [
        "# Arrival time is when the plane pulls up to the gate.\n",
        "# Similar to Date_of_Journey we can extract values from Arrival_Time\n",
        "\n",
        "# Extracting Hours\n",
        "df[\"Arrival_hour\"] = pd.to_datetime(df.Arrival_Time).dt.hour\n",
        "\n",
        "# Extracting Minutes\n",
        "df[\"Arrival_min\"] = pd.to_datetime(df.Arrival_Time).dt.minute\n",
        "\n",
        "# Now we can drop Arrival_Time as it is of no use\n",
        "df.drop([\"Arrival_Time\"], axis = 1, inplace = True)"
      ],
      "execution_count": 508,
      "outputs": []
    },
    {
      "cell_type": "code",
      "metadata": {
        "id": "rdiUXA3VWhzD",
        "colab": {
          "base_uri": "https://localhost:8080/"
        },
        "outputId": "4536aab4-94b7-42b4-c0b3-86e44094cbbd"
      },
      "source": [
        "df.columns"
      ],
      "execution_count": 509,
      "outputs": [
        {
          "output_type": "execute_result",
          "data": {
            "text/plain": [
              "Index(['Airline', 'Source', 'Destination', 'Route', 'Duration', 'Total_Stops',\n",
              "       'Additional_Info', 'Price', 'Journey_Day', 'Journey_Month', 'weekday',\n",
              "       'Dep_hour', 'Dep_min', 'Arrival_hour', 'Arrival_min'],\n",
              "      dtype='object')"
            ]
          },
          "metadata": {
            "tags": []
          },
          "execution_count": 509
        }
      ]
    },
    {
      "cell_type": "code",
      "metadata": {
        "id": "zIyj9oOsW6G_",
        "colab": {
          "base_uri": "https://localhost:8080/",
          "height": 0
        },
        "outputId": "e1714a9a-a086-4b9c-beea-5069fcad6c2b"
      },
      "source": [
        "df.head(2)"
      ],
      "execution_count": 510,
      "outputs": [
        {
          "output_type": "execute_result",
          "data": {
            "text/html": [
              "<div>\n",
              "<style scoped>\n",
              "    .dataframe tbody tr th:only-of-type {\n",
              "        vertical-align: middle;\n",
              "    }\n",
              "\n",
              "    .dataframe tbody tr th {\n",
              "        vertical-align: top;\n",
              "    }\n",
              "\n",
              "    .dataframe thead th {\n",
              "        text-align: right;\n",
              "    }\n",
              "</style>\n",
              "<table border=\"1\" class=\"dataframe\">\n",
              "  <thead>\n",
              "    <tr style=\"text-align: right;\">\n",
              "      <th></th>\n",
              "      <th>Airline</th>\n",
              "      <th>Source</th>\n",
              "      <th>Destination</th>\n",
              "      <th>Route</th>\n",
              "      <th>Duration</th>\n",
              "      <th>Total_Stops</th>\n",
              "      <th>Additional_Info</th>\n",
              "      <th>Price</th>\n",
              "      <th>Journey_Day</th>\n",
              "      <th>Journey_Month</th>\n",
              "      <th>weekday</th>\n",
              "      <th>Dep_hour</th>\n",
              "      <th>Dep_min</th>\n",
              "      <th>Arrival_hour</th>\n",
              "      <th>Arrival_min</th>\n",
              "    </tr>\n",
              "  </thead>\n",
              "  <tbody>\n",
              "    <tr>\n",
              "      <th>0</th>\n",
              "      <td>Airline C</td>\n",
              "      <td>Delhi</td>\n",
              "      <td>Cochin</td>\n",
              "      <td>DEL → MAA → COK</td>\n",
              "      <td>12h 45m</td>\n",
              "      <td>1 stop</td>\n",
              "      <td>No info</td>\n",
              "      <td>7480</td>\n",
              "      <td>12</td>\n",
              "      <td>6</td>\n",
              "      <td>2</td>\n",
              "      <td>20</td>\n",
              "      <td>40</td>\n",
              "      <td>9</td>\n",
              "      <td>25</td>\n",
              "    </tr>\n",
              "    <tr>\n",
              "      <th>1</th>\n",
              "      <td>Airline A</td>\n",
              "      <td>Banglore</td>\n",
              "      <td>Delhi</td>\n",
              "      <td>BLR → DEL</td>\n",
              "      <td>3h 5m</td>\n",
              "      <td>non-stop</td>\n",
              "      <td>No info</td>\n",
              "      <td>8016</td>\n",
              "      <td>18</td>\n",
              "      <td>6</td>\n",
              "      <td>1</td>\n",
              "      <td>18</td>\n",
              "      <td>55</td>\n",
              "      <td>22</td>\n",
              "      <td>0</td>\n",
              "    </tr>\n",
              "  </tbody>\n",
              "</table>\n",
              "</div>"
            ],
            "text/plain": [
              "     Airline    Source Destination  ... Dep_min Arrival_hour Arrival_min\n",
              "0  Airline C     Delhi      Cochin  ...      40            9          25\n",
              "1  Airline A  Banglore       Delhi  ...      55           22           0\n",
              "\n",
              "[2 rows x 15 columns]"
            ]
          },
          "metadata": {
            "tags": []
          },
          "execution_count": 510
        }
      ]
    },
    {
      "cell_type": "markdown",
      "metadata": {
        "id": "VTWdTLp_YsXJ"
      },
      "source": [
        "#Converting duration into minutes"
      ]
    },
    {
      "cell_type": "code",
      "metadata": {
        "id": "l2PfHH0qYub1"
      },
      "source": [
        "def duration(test):\n",
        "    test = test.strip()\n",
        "    total=test.split(' ')\n",
        "    to=total[0]\n",
        "    hrs=(int)(to[:-1])*60\n",
        "    if((len(total))==2):\n",
        "        mint=(int)(total[1][:-1])\n",
        "        hrs=hrs+mint\n",
        "    test=str(hrs)\n",
        "    return test\n",
        "df['Duration']=df['Duration'].apply(duration)\n"
      ],
      "execution_count": 511,
      "outputs": []
    },
    {
      "cell_type": "code",
      "metadata": {
        "id": "9mv9YniTY0CM",
        "colab": {
          "base_uri": "https://localhost:8080/"
        },
        "outputId": "7a9daff0-15b5-4468-fc79-741f8b8443ee"
      },
      "source": [
        "df['Duration'].nunique()"
      ],
      "execution_count": 512,
      "outputs": [
        {
          "output_type": "execute_result",
          "data": {
            "text/plain": [
              "352"
            ]
          },
          "metadata": {
            "tags": []
          },
          "execution_count": 512
        }
      ]
    },
    {
      "cell_type": "code",
      "metadata": {
        "id": "IaT9Ib1GY8xL",
        "colab": {
          "base_uri": "https://localhost:8080/"
        },
        "outputId": "52ebae4c-8248-4f1f-8d8f-6e64647efb51"
      },
      "source": [
        "df.columns"
      ],
      "execution_count": 513,
      "outputs": [
        {
          "output_type": "execute_result",
          "data": {
            "text/plain": [
              "Index(['Airline', 'Source', 'Destination', 'Route', 'Duration', 'Total_Stops',\n",
              "       'Additional_Info', 'Price', 'Journey_Day', 'Journey_Month', 'weekday',\n",
              "       'Dep_hour', 'Dep_min', 'Arrival_hour', 'Arrival_min'],\n",
              "      dtype='object')"
            ]
          },
          "metadata": {
            "tags": []
          },
          "execution_count": 513
        }
      ]
    },
    {
      "cell_type": "code",
      "metadata": {
        "id": "fgQFMTPLZGty",
        "colab": {
          "base_uri": "https://localhost:8080/",
          "height": 0
        },
        "outputId": "8346c708-6581-422c-a5f7-b3fb77a8d415"
      },
      "source": [
        "df.head(2)"
      ],
      "execution_count": 514,
      "outputs": [
        {
          "output_type": "execute_result",
          "data": {
            "text/html": [
              "<div>\n",
              "<style scoped>\n",
              "    .dataframe tbody tr th:only-of-type {\n",
              "        vertical-align: middle;\n",
              "    }\n",
              "\n",
              "    .dataframe tbody tr th {\n",
              "        vertical-align: top;\n",
              "    }\n",
              "\n",
              "    .dataframe thead th {\n",
              "        text-align: right;\n",
              "    }\n",
              "</style>\n",
              "<table border=\"1\" class=\"dataframe\">\n",
              "  <thead>\n",
              "    <tr style=\"text-align: right;\">\n",
              "      <th></th>\n",
              "      <th>Airline</th>\n",
              "      <th>Source</th>\n",
              "      <th>Destination</th>\n",
              "      <th>Route</th>\n",
              "      <th>Duration</th>\n",
              "      <th>Total_Stops</th>\n",
              "      <th>Additional_Info</th>\n",
              "      <th>Price</th>\n",
              "      <th>Journey_Day</th>\n",
              "      <th>Journey_Month</th>\n",
              "      <th>weekday</th>\n",
              "      <th>Dep_hour</th>\n",
              "      <th>Dep_min</th>\n",
              "      <th>Arrival_hour</th>\n",
              "      <th>Arrival_min</th>\n",
              "    </tr>\n",
              "  </thead>\n",
              "  <tbody>\n",
              "    <tr>\n",
              "      <th>0</th>\n",
              "      <td>Airline C</td>\n",
              "      <td>Delhi</td>\n",
              "      <td>Cochin</td>\n",
              "      <td>DEL → MAA → COK</td>\n",
              "      <td>765</td>\n",
              "      <td>1 stop</td>\n",
              "      <td>No info</td>\n",
              "      <td>7480</td>\n",
              "      <td>12</td>\n",
              "      <td>6</td>\n",
              "      <td>2</td>\n",
              "      <td>20</td>\n",
              "      <td>40</td>\n",
              "      <td>9</td>\n",
              "      <td>25</td>\n",
              "    </tr>\n",
              "    <tr>\n",
              "      <th>1</th>\n",
              "      <td>Airline A</td>\n",
              "      <td>Banglore</td>\n",
              "      <td>Delhi</td>\n",
              "      <td>BLR → DEL</td>\n",
              "      <td>185</td>\n",
              "      <td>non-stop</td>\n",
              "      <td>No info</td>\n",
              "      <td>8016</td>\n",
              "      <td>18</td>\n",
              "      <td>6</td>\n",
              "      <td>1</td>\n",
              "      <td>18</td>\n",
              "      <td>55</td>\n",
              "      <td>22</td>\n",
              "      <td>0</td>\n",
              "    </tr>\n",
              "  </tbody>\n",
              "</table>\n",
              "</div>"
            ],
            "text/plain": [
              "     Airline    Source Destination  ... Dep_min Arrival_hour Arrival_min\n",
              "0  Airline C     Delhi      Cochin  ...      40            9          25\n",
              "1  Airline A  Banglore       Delhi  ...      55           22           0\n",
              "\n",
              "[2 rows x 15 columns]"
            ]
          },
          "metadata": {
            "tags": []
          },
          "execution_count": 514
        }
      ]
    },
    {
      "cell_type": "markdown",
      "metadata": {
        "id": "GUKqELMrZ-Pl"
      },
      "source": [
        "#Extracting whether its a morning,evening,night or afternoon flight from departure time & arrival time of the flight"
      ]
    },
    {
      "cell_type": "code",
      "metadata": {
        "id": "gaEsGA1NaioK",
        "colab": {
          "base_uri": "https://localhost:8080/"
        },
        "outputId": "9de7c95b-6e6f-4877-a67f-14df6d8cce4c"
      },
      "source": [
        "df.columns"
      ],
      "execution_count": 515,
      "outputs": [
        {
          "output_type": "execute_result",
          "data": {
            "text/plain": [
              "Index(['Airline', 'Source', 'Destination', 'Route', 'Duration', 'Total_Stops',\n",
              "       'Additional_Info', 'Price', 'Journey_Day', 'Journey_Month', 'weekday',\n",
              "       'Dep_hour', 'Dep_min', 'Arrival_hour', 'Arrival_min'],\n",
              "      dtype='object')"
            ]
          },
          "metadata": {
            "tags": []
          },
          "execution_count": 515
        }
      ]
    },
    {
      "cell_type": "code",
      "metadata": {
        "id": "kWR3a8VZaAN7"
      },
      "source": [
        "def deparrtime(tt):\n",
        "    if(tt>=16 and tt<21):\n",
        "        x='Evening'\n",
        "    elif(tt>=21 or tt<5):\n",
        "        x='Night'\n",
        "    elif(tt>=5 and tt<11):\n",
        "        x='Morning'\n",
        "    elif(tt>=11 and tt<16):\n",
        "        x='Afternoon'\n",
        "    return x\n",
        "df['Travel_Time_Arrival']=df['Arrival_hour'].apply(deparrtime)\n",
        "df['Travel_Time_Dep']=df['Dep_hour'].apply(deparrtime)"
      ],
      "execution_count": 516,
      "outputs": []
    },
    {
      "cell_type": "code",
      "metadata": {
        "id": "0N5Gl-OVbIuh",
        "colab": {
          "base_uri": "https://localhost:8080/"
        },
        "outputId": "778735c0-58bb-4114-f5d1-5f1e1aaf7477"
      },
      "source": [
        "df.columns"
      ],
      "execution_count": 517,
      "outputs": [
        {
          "output_type": "execute_result",
          "data": {
            "text/plain": [
              "Index(['Airline', 'Source', 'Destination', 'Route', 'Duration', 'Total_Stops',\n",
              "       'Additional_Info', 'Price', 'Journey_Day', 'Journey_Month', 'weekday',\n",
              "       'Dep_hour', 'Dep_min', 'Arrival_hour', 'Arrival_min',\n",
              "       'Travel_Time_Arrival', 'Travel_Time_Dep'],\n",
              "      dtype='object')"
            ]
          },
          "metadata": {
            "tags": []
          },
          "execution_count": 517
        }
      ]
    },
    {
      "cell_type": "code",
      "metadata": {
        "id": "ftwNXdtrbMG-",
        "colab": {
          "base_uri": "https://localhost:8080/",
          "height": 0
        },
        "outputId": "ff9a5721-381b-4bd4-bb9b-ce7b8ca3ed70"
      },
      "source": [
        "df.head(2)"
      ],
      "execution_count": 518,
      "outputs": [
        {
          "output_type": "execute_result",
          "data": {
            "text/html": [
              "<div>\n",
              "<style scoped>\n",
              "    .dataframe tbody tr th:only-of-type {\n",
              "        vertical-align: middle;\n",
              "    }\n",
              "\n",
              "    .dataframe tbody tr th {\n",
              "        vertical-align: top;\n",
              "    }\n",
              "\n",
              "    .dataframe thead th {\n",
              "        text-align: right;\n",
              "    }\n",
              "</style>\n",
              "<table border=\"1\" class=\"dataframe\">\n",
              "  <thead>\n",
              "    <tr style=\"text-align: right;\">\n",
              "      <th></th>\n",
              "      <th>Airline</th>\n",
              "      <th>Source</th>\n",
              "      <th>Destination</th>\n",
              "      <th>Route</th>\n",
              "      <th>Duration</th>\n",
              "      <th>Total_Stops</th>\n",
              "      <th>Additional_Info</th>\n",
              "      <th>Price</th>\n",
              "      <th>Journey_Day</th>\n",
              "      <th>Journey_Month</th>\n",
              "      <th>weekday</th>\n",
              "      <th>Dep_hour</th>\n",
              "      <th>Dep_min</th>\n",
              "      <th>Arrival_hour</th>\n",
              "      <th>Arrival_min</th>\n",
              "      <th>Travel_Time_Arrival</th>\n",
              "      <th>Travel_Time_Dep</th>\n",
              "    </tr>\n",
              "  </thead>\n",
              "  <tbody>\n",
              "    <tr>\n",
              "      <th>0</th>\n",
              "      <td>Airline C</td>\n",
              "      <td>Delhi</td>\n",
              "      <td>Cochin</td>\n",
              "      <td>DEL → MAA → COK</td>\n",
              "      <td>765</td>\n",
              "      <td>1 stop</td>\n",
              "      <td>No info</td>\n",
              "      <td>7480</td>\n",
              "      <td>12</td>\n",
              "      <td>6</td>\n",
              "      <td>2</td>\n",
              "      <td>20</td>\n",
              "      <td>40</td>\n",
              "      <td>9</td>\n",
              "      <td>25</td>\n",
              "      <td>Morning</td>\n",
              "      <td>Evening</td>\n",
              "    </tr>\n",
              "    <tr>\n",
              "      <th>1</th>\n",
              "      <td>Airline A</td>\n",
              "      <td>Banglore</td>\n",
              "      <td>Delhi</td>\n",
              "      <td>BLR → DEL</td>\n",
              "      <td>185</td>\n",
              "      <td>non-stop</td>\n",
              "      <td>No info</td>\n",
              "      <td>8016</td>\n",
              "      <td>18</td>\n",
              "      <td>6</td>\n",
              "      <td>1</td>\n",
              "      <td>18</td>\n",
              "      <td>55</td>\n",
              "      <td>22</td>\n",
              "      <td>0</td>\n",
              "      <td>Night</td>\n",
              "      <td>Evening</td>\n",
              "    </tr>\n",
              "  </tbody>\n",
              "</table>\n",
              "</div>"
            ],
            "text/plain": [
              "     Airline    Source  ... Travel_Time_Arrival Travel_Time_Dep\n",
              "0  Airline C     Delhi  ...             Morning         Evening\n",
              "1  Airline A  Banglore  ...               Night         Evening\n",
              "\n",
              "[2 rows x 17 columns]"
            ]
          },
          "metadata": {
            "tags": []
          },
          "execution_count": 518
        }
      ]
    },
    {
      "cell_type": "markdown",
      "metadata": {
        "id": "FtZTdojXcBN5"
      },
      "source": [
        "#Converting total_stops to 0,1,2,3 and so on.."
      ]
    },
    {
      "cell_type": "code",
      "metadata": {
        "id": "12sJkRBFtlxB",
        "colab": {
          "base_uri": "https://localhost:8080/"
        },
        "outputId": "ee7a62c6-46ec-4efa-efa8-ef12d26862c5"
      },
      "source": [
        "df[\"Total_Stops\"].value_counts() "
      ],
      "execution_count": 519,
      "outputs": [
        {
          "output_type": "execute_result",
          "data": {
            "text/plain": [
              "1 stop      4235\n",
              "non-stop    2630\n",
              "2 stops     1112\n",
              "3 stops       34\n",
              "Name: Total_Stops, dtype: int64"
            ]
          },
          "metadata": {
            "tags": []
          },
          "execution_count": 519
        }
      ]
    },
    {
      "cell_type": "code",
      "metadata": {
        "id": "-mHN9SMMcDdw"
      },
      "source": [
        "def stops(x):\n",
        "    if(x=='non-stop'):\n",
        "        x=str(0)\n",
        "    else:\n",
        "        x.strip()\n",
        "        stps=x.split(' ')[0]\n",
        "        x=stps\n",
        "    return x\n",
        "df['Total_Stops']=df['Total_Stops'].apply(stops)\n",
        "\n",
        "#df.replace({\"non-stop\": 0, \"1 stop\": 1, \"2 stops\": 2, \"3 stops\": 3, \"4 stops\": 4}, inplace = True)"
      ],
      "execution_count": 520,
      "outputs": []
    },
    {
      "cell_type": "code",
      "metadata": {
        "id": "hy820M7HdDuS"
      },
      "source": [
        "pd.options.mode.chained_assignment = None \n",
        "for i in range(df.shape[0]):\n",
        "    if(df.iloc[i]['Additional_Info']=='No info'):\n",
        "        df.iloc[i]['Additional_Info']='No Info' "
      ],
      "execution_count": 521,
      "outputs": []
    },
    {
      "cell_type": "code",
      "metadata": {
        "id": "sUyJf7i2djfB"
      },
      "source": [
        "#we don't need it as we already have total_stops\n",
        "df=df.drop(['Route'], axis=1)"
      ],
      "execution_count": 522,
      "outputs": []
    },
    {
      "cell_type": "code",
      "metadata": {
        "id": "bm6EJJiqdpsI",
        "colab": {
          "base_uri": "https://localhost:8080/",
          "height": 0
        },
        "outputId": "d44a6e90-4a82-4aef-9d1b-8ce1098a9ed8"
      },
      "source": [
        "df.head(2)"
      ],
      "execution_count": 523,
      "outputs": [
        {
          "output_type": "execute_result",
          "data": {
            "text/html": [
              "<div>\n",
              "<style scoped>\n",
              "    .dataframe tbody tr th:only-of-type {\n",
              "        vertical-align: middle;\n",
              "    }\n",
              "\n",
              "    .dataframe tbody tr th {\n",
              "        vertical-align: top;\n",
              "    }\n",
              "\n",
              "    .dataframe thead th {\n",
              "        text-align: right;\n",
              "    }\n",
              "</style>\n",
              "<table border=\"1\" class=\"dataframe\">\n",
              "  <thead>\n",
              "    <tr style=\"text-align: right;\">\n",
              "      <th></th>\n",
              "      <th>Airline</th>\n",
              "      <th>Source</th>\n",
              "      <th>Destination</th>\n",
              "      <th>Duration</th>\n",
              "      <th>Total_Stops</th>\n",
              "      <th>Additional_Info</th>\n",
              "      <th>Price</th>\n",
              "      <th>Journey_Day</th>\n",
              "      <th>Journey_Month</th>\n",
              "      <th>weekday</th>\n",
              "      <th>Dep_hour</th>\n",
              "      <th>Dep_min</th>\n",
              "      <th>Arrival_hour</th>\n",
              "      <th>Arrival_min</th>\n",
              "      <th>Travel_Time_Arrival</th>\n",
              "      <th>Travel_Time_Dep</th>\n",
              "    </tr>\n",
              "  </thead>\n",
              "  <tbody>\n",
              "    <tr>\n",
              "      <th>0</th>\n",
              "      <td>Airline C</td>\n",
              "      <td>Delhi</td>\n",
              "      <td>Cochin</td>\n",
              "      <td>765</td>\n",
              "      <td>1</td>\n",
              "      <td>No info</td>\n",
              "      <td>7480</td>\n",
              "      <td>12</td>\n",
              "      <td>6</td>\n",
              "      <td>2</td>\n",
              "      <td>20</td>\n",
              "      <td>40</td>\n",
              "      <td>9</td>\n",
              "      <td>25</td>\n",
              "      <td>Morning</td>\n",
              "      <td>Evening</td>\n",
              "    </tr>\n",
              "    <tr>\n",
              "      <th>1</th>\n",
              "      <td>Airline A</td>\n",
              "      <td>Banglore</td>\n",
              "      <td>Delhi</td>\n",
              "      <td>185</td>\n",
              "      <td>0</td>\n",
              "      <td>No info</td>\n",
              "      <td>8016</td>\n",
              "      <td>18</td>\n",
              "      <td>6</td>\n",
              "      <td>1</td>\n",
              "      <td>18</td>\n",
              "      <td>55</td>\n",
              "      <td>22</td>\n",
              "      <td>0</td>\n",
              "      <td>Night</td>\n",
              "      <td>Evening</td>\n",
              "    </tr>\n",
              "  </tbody>\n",
              "</table>\n",
              "</div>"
            ],
            "text/plain": [
              "     Airline    Source  ... Travel_Time_Arrival Travel_Time_Dep\n",
              "0  Airline C     Delhi  ...             Morning         Evening\n",
              "1  Airline A  Banglore  ...               Night         Evening\n",
              "\n",
              "[2 rows x 16 columns]"
            ]
          },
          "metadata": {
            "tags": []
          },
          "execution_count": 523
        }
      ]
    },
    {
      "cell_type": "code",
      "metadata": {
        "id": "vhm8k-6Ud6uP",
        "colab": {
          "base_uri": "https://localhost:8080/"
        },
        "outputId": "642ceb0f-6484-4934-8f93-ec6dabc62d68"
      },
      "source": [
        "df.info()"
      ],
      "execution_count": 524,
      "outputs": [
        {
          "output_type": "stream",
          "text": [
            "<class 'pandas.core.frame.DataFrame'>\n",
            "Int64Index: 8011 entries, 0 to 8011\n",
            "Data columns (total 16 columns):\n",
            " #   Column               Non-Null Count  Dtype \n",
            "---  ------               --------------  ----- \n",
            " 0   Airline              8011 non-null   object\n",
            " 1   Source               8011 non-null   object\n",
            " 2   Destination          8011 non-null   object\n",
            " 3   Duration             8011 non-null   object\n",
            " 4   Total_Stops          8011 non-null   object\n",
            " 5   Additional_Info      8011 non-null   object\n",
            " 6   Price                8011 non-null   int64 \n",
            " 7   Journey_Day          8011 non-null   int64 \n",
            " 8   Journey_Month        8011 non-null   int64 \n",
            " 9   weekday              8011 non-null   int64 \n",
            " 10  Dep_hour             8011 non-null   int64 \n",
            " 11  Dep_min              8011 non-null   int64 \n",
            " 12  Arrival_hour         8011 non-null   int64 \n",
            " 13  Arrival_min          8011 non-null   int64 \n",
            " 14  Travel_Time_Arrival  8011 non-null   object\n",
            " 15  Travel_Time_Dep      8011 non-null   object\n",
            "dtypes: int64(8), object(8)\n",
            "memory usage: 1.0+ MB\n"
          ],
          "name": "stdout"
        }
      ]
    },
    {
      "cell_type": "markdown",
      "metadata": {
        "id": "LTIBHoh2eslM"
      },
      "source": [
        "# Basic Conversions"
      ]
    },
    {
      "cell_type": "code",
      "metadata": {
        "id": "BLV2DQf7exKx"
      },
      "source": [
        "df[\"Duration\"] = df[\"Duration\"].astype(int)\n",
        "df[\"Journey_Month\"] = df[\"Journey_Month\"].astype(object)"
      ],
      "execution_count": 525,
      "outputs": []
    },
    {
      "cell_type": "code",
      "metadata": {
        "id": "MC_1LixMfYNF",
        "colab": {
          "base_uri": "https://localhost:8080/"
        },
        "outputId": "0c128aa5-b339-4b2e-86c6-d895ded21388"
      },
      "source": [
        "df.info()"
      ],
      "execution_count": 526,
      "outputs": [
        {
          "output_type": "stream",
          "text": [
            "<class 'pandas.core.frame.DataFrame'>\n",
            "Int64Index: 8011 entries, 0 to 8011\n",
            "Data columns (total 16 columns):\n",
            " #   Column               Non-Null Count  Dtype \n",
            "---  ------               --------------  ----- \n",
            " 0   Airline              8011 non-null   object\n",
            " 1   Source               8011 non-null   object\n",
            " 2   Destination          8011 non-null   object\n",
            " 3   Duration             8011 non-null   int64 \n",
            " 4   Total_Stops          8011 non-null   object\n",
            " 5   Additional_Info      8011 non-null   object\n",
            " 6   Price                8011 non-null   int64 \n",
            " 7   Journey_Day          8011 non-null   int64 \n",
            " 8   Journey_Month        8011 non-null   object\n",
            " 9   weekday              8011 non-null   int64 \n",
            " 10  Dep_hour             8011 non-null   int64 \n",
            " 11  Dep_min              8011 non-null   int64 \n",
            " 12  Arrival_hour         8011 non-null   int64 \n",
            " 13  Arrival_min          8011 non-null   int64 \n",
            " 14  Travel_Time_Arrival  8011 non-null   object\n",
            " 15  Travel_Time_Dep      8011 non-null   object\n",
            "dtypes: int64(8), object(8)\n",
            "memory usage: 1.0+ MB\n"
          ],
          "name": "stdout"
        }
      ]
    },
    {
      "cell_type": "markdown",
      "metadata": {
        "id": "vz6W9tgvtICt"
      },
      "source": [
        "#EDA\n"
      ]
    },
    {
      "cell_type": "code",
      "metadata": {
        "id": "dwsCUZi5tMzh",
        "colab": {
          "base_uri": "https://localhost:8080/"
        },
        "outputId": "54056472-e88d-40ee-9db1-4028e7861763"
      },
      "source": [
        "df[\"Source\"].value_counts()"
      ],
      "execution_count": 527,
      "outputs": [
        {
          "output_type": "execute_result",
          "data": {
            "text/plain": [
              "Delhi       3397\n",
              "Kolkata     2152\n",
              "Banglore    1650\n",
              "Mumbai       523\n",
              "Chennai      289\n",
              "Name: Source, dtype: int64"
            ]
          },
          "metadata": {
            "tags": []
          },
          "execution_count": 527
        }
      ]
    },
    {
      "cell_type": "code",
      "metadata": {
        "id": "7YEAPIJgtPud",
        "colab": {
          "base_uri": "https://localhost:8080/",
          "height": 311
        },
        "outputId": "1bd85e98-a1fc-4697-a987-7c8fcbd189c0"
      },
      "source": [
        "# Source vs Price\n",
        "\n",
        "sns.catplot(y = \"Price\", x = \"Source\", data = df.sort_values(\"Price\", ascending = False), kind=\"boxen\", height = 4, aspect = 3)\n",
        "plt.show()"
      ],
      "execution_count": 528,
      "outputs": [
        {
          "output_type": "display_data",
          "data": {
            "image/png": "[encoded data removed]",
            "text/plain": [
              "<Figure size 864x288 with 1 Axes>"
            ]
          },
          "metadata": {
            "tags": [],
            "needs_background": "light"
          }
        }
      ]
    },
    {
      "cell_type": "code",
      "metadata": {
        "id": "wGAYFgOP34QJ",
        "colab": {
          "base_uri": "https://localhost:8080/",
          "height": 424
        },
        "outputId": "c1870017-bb2d-466c-b9a8-bfd41d90e04c"
      },
      "source": [
        "# Destination vs AveragePrice\n",
        "sns.catplot(y='Price',x='Destination',data= df.sort_values('Price',ascending=False),kind=\"boxen\",height=6, aspect=3)\n",
        "plt.show"
      ],
      "execution_count": 529,
      "outputs": [
        {
          "output_type": "execute_result",
          "data": {
            "text/plain": [
              "<function matplotlib.pyplot.show>"
            ]
          },
          "metadata": {
            "tags": []
          },
          "execution_count": 529
        },
        {
          "output_type": "display_data",
          "data": {
            "image/png": "[encoded data removed]",
            "text/plain": [
              "<Figure size 1296x432 with 1 Axes>"
            ]
          },
          "metadata": {
            "tags": [],
            "needs_background": "light"
          }
        }
      ]
    },
    {
      "cell_type": "code",
      "metadata": {
        "id": "Ew8e0YuoumDQ",
        "colab": {
          "base_uri": "https://localhost:8080/",
          "height": 391
        },
        "outputId": "6ad49337-38d3-4a33-afd1-d9d056aa013f"
      },
      "source": [
        "sns.pairplot(data=df,vars=['Price','Travel_Time_Dep'])"
      ],
      "execution_count": 530,
      "outputs": [
        {
          "output_type": "execute_result",
          "data": {
            "text/plain": [
              "<seaborn.axisgrid.PairGrid at 0x7fc3c09aa710>"
            ]
          },
          "metadata": {
            "tags": []
          },
          "execution_count": 530
        },
        {
          "output_type": "display_data",
          "data": {
            "image/png": "[encoded data removed]",
            "text/plain": [
              "<Figure size 360x360 with 6 Axes>"
            ]
          },
          "metadata": {
            "tags": [],
            "needs_background": "light"
          }
        }
      ]
    },
    {
      "cell_type": "code",
      "metadata": {
        "id": "DkiFXPjfxfLK",
        "colab": {
          "base_uri": "https://localhost:8080/",
          "height": 459
        },
        "outputId": "e578f542-b475-4b71-a92d-4901a5ea4504"
      },
      "source": [
        "sns.jointplot(x='Duration',y='Price',data=df,kind = 'reg')"
      ],
      "execution_count": 531,
      "outputs": [
        {
          "output_type": "execute_result",
          "data": {
            "text/plain": [
              "<seaborn.axisgrid.JointGrid at 0x7fc3c077fd50>"
            ]
          },
          "metadata": {
            "tags": []
          },
          "execution_count": 531
        },
        {
          "output_type": "display_data",
          "data": {
            "image/png": "[encoded data removed]",
            "text/plain": [
              "<Figure size 432x432 with 3 Axes>"
            ]
          },
          "metadata": {
            "tags": [],
            "needs_background": "light"
          }
        }
      ]
    },
    {
      "cell_type": "code",
      "metadata": {
        "id": "KnirzrK3zjBM",
        "colab": {
          "base_uri": "https://localhost:8080/",
          "height": 407
        },
        "outputId": "e37e5f97-9b69-4e8b-889c-b14c2b0205a7"
      },
      "source": [
        "# From graph we can see that Airline J have the highest Price.\n",
        "\n",
        "# Airline vs Price\n",
        "sns.catplot(y = \"Price\", x = \"Airline\", data = df.sort_values(\"Price\", ascending = False), kind=\"boxen\", height = 6, aspect = 3)\n",
        "plt.show()"
      ],
      "execution_count": 532,
      "outputs": [
        {
          "output_type": "display_data",
          "data": {
            "image/png": "[encoded data removed]",
            "text/plain": [
              "<Figure size 1296x432 with 1 Axes>"
            ]
          },
          "metadata": {
            "tags": [],
            "needs_background": "light"
          }
        }
      ]
    },
    {
      "cell_type": "code",
      "metadata": {
        "id": "kKpYOHNG0YIk",
        "colab": {
          "base_uri": "https://localhost:8080/"
        },
        "outputId": "8efd8430-d4ec-4929-b73f-8c1ab44a9b09"
      },
      "source": [
        "df['Journey_Month'].value_counts()"
      ],
      "execution_count": 533,
      "outputs": [
        {
          "output_type": "execute_result",
          "data": {
            "text/plain": [
              "5    2597\n",
              "6    2575\n",
              "3    2029\n",
              "4     810\n",
              "Name: Journey_Month, dtype: int64"
            ]
          },
          "metadata": {
            "tags": []
          },
          "execution_count": 533
        }
      ]
    },
    {
      "cell_type": "code",
      "metadata": {
        "id": "YeKAR5bQ1NE8",
        "colab": {
          "base_uri": "https://localhost:8080/"
        },
        "outputId": "a023a431-69cd-416d-f05b-654e35caf351"
      },
      "source": [
        "#assigning month names\n",
        "df[\"Journey_Month\"]=df[\"Journey_Month\"].replace({3:\"March\",4:\"April\",5:\"May\",6:\"June\"})\n",
        "df['Journey_Month'].value_counts()"
      ],
      "execution_count": 534,
      "outputs": [
        {
          "output_type": "execute_result",
          "data": {
            "text/plain": [
              "May      2597\n",
              "June     2575\n",
              "March    2029\n",
              "April     810\n",
              "Name: Journey_Month, dtype: int64"
            ]
          },
          "metadata": {
            "tags": []
          },
          "execution_count": 534
        }
      ]
    },
    {
      "cell_type": "code",
      "metadata": {
        "id": "UxE8WYeH0l-T",
        "colab": {
          "base_uri": "https://localhost:8080/",
          "height": 391
        },
        "outputId": "8dc0f007-1085-4020-e23c-0a791dc77aaf"
      },
      "source": [
        "sns.pairplot(data=df,vars=['Price','Journey_Month'])"
      ],
      "execution_count": 535,
      "outputs": [
        {
          "output_type": "execute_result",
          "data": {
            "text/plain": [
              "<seaborn.axisgrid.PairGrid at 0x7fc3c0536bd0>"
            ]
          },
          "metadata": {
            "tags": []
          },
          "execution_count": 535
        },
        {
          "output_type": "display_data",
          "data": {
            "image/png": "[encoded data removed]",
            "text/plain": [
              "<Figure size 360x360 with 6 Axes>"
            ]
          },
          "metadata": {
            "tags": [],
            "needs_background": "light"
          }
        }
      ]
    },
    {
      "cell_type": "code",
      "metadata": {
        "id": "ULu1oZxq2NPD",
        "colab": {
          "base_uri": "https://localhost:8080/",
          "height": 387
        },
        "outputId": "e95777f6-641b-4119-b04e-51e5475f47eb"
      },
      "source": [
        "#Journey month v/s total fare\n",
        "v1=sns.barplot(x='Journey_Month', y='Price', data=df,estimator=sum)\n",
        "v1.set_title('Monthv/sPrice')\n",
        "v1.set_ylabel('Price')\n",
        "v1.set_xlabel('Month of booking')\n",
        "v1.set_xticklabels(v1.get_xticklabels(), rotation=80)"
      ],
      "execution_count": 536,
      "outputs": [
        {
          "output_type": "execute_result",
          "data": {
            "text/plain": [
              "[Text(0, 0, 'June'),\n",
              " Text(0, 0, 'May'),\n",
              " Text(0, 0, 'March'),\n",
              " Text(0, 0, 'April')]"
            ]
          },
          "metadata": {
            "tags": []
          },
          "execution_count": 536
        },
        {
          "output_type": "display_data",
          "data": {
            "image/png": "[encoded data removed]",
            "text/plain": [
              "<Figure size 432x288 with 1 Axes>"
            ]
          },
          "metadata": {
            "tags": [],
            "needs_background": "light"
          }
        }
      ]
    },
    {
      "cell_type": "code",
      "metadata": {
        "id": "tDfdrU3hDSFx",
        "colab": {
          "base_uri": "https://localhost:8080/",
          "height": 655
        },
        "outputId": "fdcbdf3e-5fdf-4a30-a116-6099b7bd27c2"
      },
      "source": [
        "#Count of flights v/s Airline\n",
        "plt.figure(figsize = (15, 10))\n",
        "plt.title('Count of flights with different Airlines')\n",
        "ax=sns.countplot(x = 'Airline', data =df)\n",
        "plt.xlabel('Airline')\n",
        "plt.ylabel('Count of flights')\n",
        "plt.xticks(rotation = 90)\n",
        "for p in ax.patches:\n",
        "    ax.annotate(int(p.get_height()), (p.get_x()+0.25, p.get_height()+1), va='bottom',\n",
        "                    color= 'black')"
      ],
      "execution_count": 537,
      "outputs": [
        {
          "output_type": "display_data",
          "data": {
            "image/png": "[encoded data removed]",
            "text/plain": [
              "<Figure size 1080x720 with 1 Axes>"
            ]
          },
          "metadata": {
            "tags": [],
            "needs_background": "light"
          }
        }
      ]
    },
    {
      "cell_type": "code",
      "metadata": {
        "id": "kinFYL3hE1Xo",
        "colab": {
          "base_uri": "https://localhost:8080/",
          "height": 424
        },
        "outputId": "7142e331-c5f1-45c7-c6a9-925ff26dfa58"
      },
      "source": [
        "sns.catplot(y='Price',x='Airline',data= df.sort_values('Price',ascending=False),kind=\"boxen\",height=6, aspect=3)\n",
        "plt.show"
      ],
      "execution_count": 538,
      "outputs": [
        {
          "output_type": "execute_result",
          "data": {
            "text/plain": [
              "<function matplotlib.pyplot.show>"
            ]
          },
          "metadata": {
            "tags": []
          },
          "execution_count": 538
        },
        {
          "output_type": "display_data",
          "data": {
            "image/png": "[encoded data removed]",
            "text/plain": [
              "<Figure size 1296x432 with 1 Axes>"
            ]
          },
          "metadata": {
            "tags": [],
            "needs_background": "light"
          }
        }
      ]
    },
    {
      "cell_type": "code",
      "metadata": {
        "id": "RD5p0bUoFRxM",
        "colab": {
          "base_uri": "https://localhost:8080/",
          "height": 297
        },
        "outputId": "cc76a0e2-6af0-4d92-aede-6be857c7fa90"
      },
      "source": [
        "#duration v/s AveragePrice\n",
        "sns.scatterplot(data=df, x='Duration', y='Price')"
      ],
      "execution_count": 539,
      "outputs": [
        {
          "output_type": "execute_result",
          "data": {
            "text/plain": [
              "<matplotlib.axes._subplots.AxesSubplot at 0x7fc3c0114fd0>"
            ]
          },
          "metadata": {
            "tags": []
          },
          "execution_count": 539
        },
        {
          "output_type": "display_data",
          "data": {
            "image/png": "[encoded data removed]",
            "text/plain": [
              "<Figure size 432x288 with 1 Axes>"
            ]
          },
          "metadata": {
            "tags": [],
            "needs_background": "light"
          }
        }
      ]
    },
    {
      "cell_type": "code",
      "metadata": {
        "id": "_SgK9kXiGzTO",
        "colab": {
          "base_uri": "https://localhost:8080/",
          "height": 393
        },
        "outputId": "543df784-72fb-426b-a78a-996ea6c5e9c5"
      },
      "source": [
        "#Deptarure time v/s AveragePrice\n",
        "v2=sns.barplot(x='Travel_Time_Dep', y='Price', data=df)\n",
        "v2.set_ylabel('Price')\n",
        "v2.set_xlabel('Time of dept')\n",
        "v2.set_xticklabels(v2.get_xticklabels(), rotation=80)"
      ],
      "execution_count": 540,
      "outputs": [
        {
          "output_type": "execute_result",
          "data": {
            "text/plain": [
              "[Text(0, 0, 'Evening'),\n",
              " Text(0, 0, 'Night'),\n",
              " Text(0, 0, 'Morning'),\n",
              " Text(0, 0, 'Afternoon')]"
            ]
          },
          "metadata": {
            "tags": []
          },
          "execution_count": 540
        },
        {
          "output_type": "display_data",
          "data": {
            "image/png": "[encoded data removed]",
            "text/plain": [
              "<Figure size 432x288 with 1 Axes>"
            ]
          },
          "metadata": {
            "tags": [],
            "needs_background": "light"
          }
        }
      ]
    },
    {
      "cell_type": "code",
      "metadata": {
        "id": "9tiLs2OxHUFH",
        "colab": {
          "base_uri": "https://localhost:8080/"
        },
        "outputId": "16e8cc83-5161-4a0c-dcfe-f68cf945ccdd"
      },
      "source": [
        "# time of departure v/s count of flights\n",
        "df.Travel_Time_Dep.value_counts().head(10)\n"
      ],
      "execution_count": 541,
      "outputs": [
        {
          "output_type": "execute_result",
          "data": {
            "text/plain": [
              "Morning      3266\n",
              "Evening      2102\n",
              "Afternoon    1519\n",
              "Night        1124\n",
              "Name: Travel_Time_Dep, dtype: int64"
            ]
          },
          "metadata": {
            "tags": []
          },
          "execution_count": 541
        }
      ]
    },
    {
      "cell_type": "code",
      "metadata": {
        "id": "A2PoVYssHjTD",
        "colab": {
          "base_uri": "https://localhost:8080/",
          "height": 405
        },
        "outputId": "5205e791-0239-435f-a498-2b80cfe3e165"
      },
      "source": [
        "#TIME OF ARRIVAL V/S average price\n",
        "v3=sns.barplot(x='Travel_Time_Arrival', y='Price', data=df)\n",
        "v3.set_title('TIME OF ARRIVALV/S PRICE')\n",
        "v3.set_ylabel('Price')\n",
        "v3.set_xlabel('Arrival_time')\n",
        "v3.set_xticklabels(v3.get_xticklabels(), rotation=80)"
      ],
      "execution_count": 542,
      "outputs": [
        {
          "output_type": "execute_result",
          "data": {
            "text/plain": [
              "[Text(0, 0, 'Morning'),\n",
              " Text(0, 0, 'Night'),\n",
              " Text(0, 0, 'Evening'),\n",
              " Text(0, 0, 'Afternoon')]"
            ]
          },
          "metadata": {
            "tags": []
          },
          "execution_count": 542
        },
        {
          "output_type": "display_data",
          "data": {
            "image/png": "[encoded data removed]",
            "text/plain": [
              "<Figure size 432x288 with 1 Axes>"
            ]
          },
          "metadata": {
            "tags": [],
            "needs_background": "light"
          }
        }
      ]
    },
    {
      "cell_type": "code",
      "metadata": {
        "id": "AHXxCq4OH9qC",
        "colab": {
          "base_uri": "https://localhost:8080/",
          "height": 311
        },
        "outputId": "7a024334-5273-4264-b43c-52349746e672"
      },
      "source": [
        "#total stops v/s average price\n",
        "v4=sns.barplot(x='Total_Stops', y='Price', data=df)\n",
        "v4.set_title('NO. OF STOPS V/S PRICE')\n",
        "v4.set_ylabel('Price')\n",
        "v4.set_xlabel('Total_Stops')\n",
        "v4.set_xticklabels(v4.get_xticklabels(), rotation=80)"
      ],
      "execution_count": 543,
      "outputs": [
        {
          "output_type": "execute_result",
          "data": {
            "text/plain": [
              "[Text(0, 0, '1'), Text(0, 0, '0'), Text(0, 0, '2'), Text(0, 0, '3')]"
            ]
          },
          "metadata": {
            "tags": []
          },
          "execution_count": 543
        },
        {
          "output_type": "display_data",
          "data": {
            "image/png": "[encoded data removed]",
            "text/plain": [
              "<Figure size 432x288 with 1 Axes>"
            ]
          },
          "metadata": {
            "tags": [],
            "needs_background": "light"
          }
        }
      ]
    },
    {
      "cell_type": "code",
      "metadata": {
        "id": "uC52E00YIIRR",
        "colab": {
          "base_uri": "https://localhost:8080/",
          "height": 415
        },
        "outputId": "79d94845-c277-4bb5-fa3e-964f890cf14b"
      },
      "source": [
        "#WEEKDAY V/S average price\n",
        "v4=sns.barplot(x='weekday', y='Price', data=df)\n",
        "v4.set_title('WEEKDAY V/S PRICE')\n",
        "v4.set_ylabel('Price')\n",
        "v4.set_xlabel('WEEKDAY')\n",
        "v4.set_xticklabels(v4.get_xticklabels(), rotation=80)"
      ],
      "execution_count": 544,
      "outputs": [
        {
          "output_type": "execute_result",
          "data": {
            "text/plain": [
              "[Text(0, 0, '0'),\n",
              " Text(0, 0, '1'),\n",
              " Text(0, 0, '2'),\n",
              " Text(0, 0, '3'),\n",
              " Text(0, 0, '4'),\n",
              " Text(0, 0, '5'),\n",
              " Text(0, 0, '6')]"
            ]
          },
          "metadata": {
            "tags": []
          },
          "execution_count": 544
        },
        {
          "output_type": "display_data",
          "data": {
            "image/png": "[encoded data removed]",
            "text/plain": [
              "<Figure size 432x288 with 1 Axes>"
            ]
          },
          "metadata": {
            "tags": [],
            "needs_background": "light"
          }
        }
      ]
    },
    {
      "cell_type": "markdown",
      "metadata": {
        "id": "-zEcNX9G3UiX"
      },
      "source": [
        "#Analysis\n",
        "\n",
        "\n",
        "*  We see that the total count of flight is maximum towards the month-May which can also be concluded from the above bar plot which shows that the sum of fare is maximum in May.This can be due to : Summer vacations in the month of may for schools/colleges, hence most families are also generally going for vacations around this time.\n",
        "\n",
        "\n",
        "*   The count of flights is lowest on the month of April, this can be because : Schools,colleges have their final exams around this time, offices are mostly busy in the month of April as it is the end of Quarter 1.\n",
        "*   We see that the average fare price is highest the month of March , this can be because people usually book the fights 2-3 months prior to their date of journey which leads to higher demand and hence higher fare prices.(since the count of tickets booked for travelling in May is the most, prior bookings are done in March)\n",
        "\n",
        "*   The airfare price range for Bangalore as Source & New Delhi as Destination is the maximum\n",
        "\n",
        "\n",
        "*   From the Observation we can see that Airline A have the highest price\n",
        "\n",
        "*   As Observed the Distance or the Duration and the Price there is no such pattern here\n",
        "\n",
        "*   Early Morning flights are always cheaper and so are midnight flight prices.\n",
        "Evening flight fares are expensive due to more demand and is the most convenient time to travel for most people.\n",
        "\n",
        "*   As a direct/non-stop flight is accounting for fare of only one flight for a trip, its average fair is the least. As the no. of stops/layovers increase, the fare price goes up accounting for no. of flights and due to other resources being used up for the same.\n",
        "\n",
        "*   We see that prices are highest on a friday, that may be because this is when airlines start raising prices to make up for the lower prices before and also because weekdays are off for most people so they are mostly travelling to or travelling back.\n",
        "\n",
        "\n",
        "\n",
        "\n",
        "\n",
        "\n",
        "\n",
        "\n"
      ]
    },
    {
      "cell_type": "markdown",
      "metadata": {
        "id": "yur6g93HIshu"
      },
      "source": [
        "#Handling Categorical Data"
      ]
    },
    {
      "cell_type": "markdown",
      "metadata": {
        "id": "dDMK-wlCI2Ir"
      },
      "source": [
        "One can find many ways to handle categorical data. Some of them categorical data are,\n",
        "\n",
        "Nominal data --> data are not in any order --> OneHotEncoder is used in this case\n",
        "\n",
        "Ordinal data --> data are in order --> LabelEncoder is used in this case "
      ]
    },
    {
      "cell_type": "code",
      "metadata": {
        "id": "obiHwXm0ITLO",
        "colab": {
          "base_uri": "https://localhost:8080/"
        },
        "outputId": "e927de6f-7341-4301-977c-78da3a2ac275"
      },
      "source": [
        "df[\"Airline\"].value_counts()"
      ],
      "execution_count": 545,
      "outputs": [
        {
          "output_type": "execute_result",
          "data": {
            "text/plain": [
              "Airline A    2881\n",
              "Airline B    1550\n",
              "Airline C    1286\n",
              "Airline D     906\n",
              "Airline E     625\n",
              "Airline F     360\n",
              "Airline G     235\n",
              "Airline H     146\n",
              "Airline I      12\n",
              "Airline J       6\n",
              "Airline K       3\n",
              "Airline L       1\n",
              "Name: Airline, dtype: int64"
            ]
          },
          "metadata": {
            "tags": []
          },
          "execution_count": 545
        }
      ]
    },
    {
      "cell_type": "code",
      "metadata": {
        "id": "uHncs_VMJWEk",
        "colab": {
          "base_uri": "https://localhost:8080/",
          "height": 239
        },
        "outputId": "2bba049b-6a6d-47a4-9234-6e63d35e9c02"
      },
      "source": [
        "# As Airline is Nominal Categorical data we will perform OneHotEncoding\n",
        "\n",
        "Airline = df[[\"Airline\"]]\n",
        "\n",
        "Airline = pd.get_dummies(Airline, drop_first= True)\n",
        "\n",
        "Airline.head()"
      ],
      "execution_count": 546,
      "outputs": [
        {
          "output_type": "execute_result",
          "data": {
            "text/html": [
              "<div>\n",
              "<style scoped>\n",
              "    .dataframe tbody tr th:only-of-type {\n",
              "        vertical-align: middle;\n",
              "    }\n",
              "\n",
              "    .dataframe tbody tr th {\n",
              "        vertical-align: top;\n",
              "    }\n",
              "\n",
              "    .dataframe thead th {\n",
              "        text-align: right;\n",
              "    }\n",
              "</style>\n",
              "<table border=\"1\" class=\"dataframe\">\n",
              "  <thead>\n",
              "    <tr style=\"text-align: right;\">\n",
              "      <th></th>\n",
              "      <th>Airline_Airline B</th>\n",
              "      <th>Airline_Airline C</th>\n",
              "      <th>Airline_Airline D</th>\n",
              "      <th>Airline_Airline E</th>\n",
              "      <th>Airline_Airline F</th>\n",
              "      <th>Airline_Airline G</th>\n",
              "      <th>Airline_Airline H</th>\n",
              "      <th>Airline_Airline I</th>\n",
              "      <th>Airline_Airline J</th>\n",
              "      <th>Airline_Airline K</th>\n",
              "      <th>Airline_Airline L</th>\n",
              "    </tr>\n",
              "  </thead>\n",
              "  <tbody>\n",
              "    <tr>\n",
              "      <th>0</th>\n",
              "      <td>0</td>\n",
              "      <td>1</td>\n",
              "      <td>0</td>\n",
              "      <td>0</td>\n",
              "      <td>0</td>\n",
              "      <td>0</td>\n",
              "      <td>0</td>\n",
              "      <td>0</td>\n",
              "      <td>0</td>\n",
              "      <td>0</td>\n",
              "      <td>0</td>\n",
              "    </tr>\n",
              "    <tr>\n",
              "      <th>1</th>\n",
              "      <td>0</td>\n",
              "      <td>0</td>\n",
              "      <td>0</td>\n",
              "      <td>0</td>\n",
              "      <td>0</td>\n",
              "      <td>0</td>\n",
              "      <td>0</td>\n",
              "      <td>0</td>\n",
              "      <td>0</td>\n",
              "      <td>0</td>\n",
              "      <td>0</td>\n",
              "    </tr>\n",
              "    <tr>\n",
              "      <th>2</th>\n",
              "      <td>0</td>\n",
              "      <td>1</td>\n",
              "      <td>0</td>\n",
              "      <td>0</td>\n",
              "      <td>0</td>\n",
              "      <td>0</td>\n",
              "      <td>0</td>\n",
              "      <td>0</td>\n",
              "      <td>0</td>\n",
              "      <td>0</td>\n",
              "      <td>0</td>\n",
              "    </tr>\n",
              "    <tr>\n",
              "      <th>3</th>\n",
              "      <td>0</td>\n",
              "      <td>0</td>\n",
              "      <td>0</td>\n",
              "      <td>0</td>\n",
              "      <td>0</td>\n",
              "      <td>0</td>\n",
              "      <td>0</td>\n",
              "      <td>0</td>\n",
              "      <td>0</td>\n",
              "      <td>0</td>\n",
              "      <td>0</td>\n",
              "    </tr>\n",
              "    <tr>\n",
              "      <th>4</th>\n",
              "      <td>0</td>\n",
              "      <td>0</td>\n",
              "      <td>0</td>\n",
              "      <td>0</td>\n",
              "      <td>0</td>\n",
              "      <td>0</td>\n",
              "      <td>0</td>\n",
              "      <td>0</td>\n",
              "      <td>0</td>\n",
              "      <td>0</td>\n",
              "      <td>0</td>\n",
              "    </tr>\n",
              "  </tbody>\n",
              "</table>\n",
              "</div>"
            ],
            "text/plain": [
              "   Airline_Airline B  Airline_Airline C  ...  Airline_Airline K  Airline_Airline L\n",
              "0                  0                  1  ...                  0                  0\n",
              "1                  0                  0  ...                  0                  0\n",
              "2                  0                  1  ...                  0                  0\n",
              "3                  0                  0  ...                  0                  0\n",
              "4                  0                  0  ...                  0                  0\n",
              "\n",
              "[5 rows x 11 columns]"
            ]
          },
          "metadata": {
            "tags": []
          },
          "execution_count": 546
        }
      ]
    },
    {
      "cell_type": "code",
      "metadata": {
        "id": "2P5dOIMkJlew",
        "colab": {
          "base_uri": "https://localhost:8080/"
        },
        "outputId": "914c382d-c413-4226-e3a6-3523bc7dcf0d"
      },
      "source": [
        "df[\"Source\"].value_counts()"
      ],
      "execution_count": 547,
      "outputs": [
        {
          "output_type": "execute_result",
          "data": {
            "text/plain": [
              "Delhi       3397\n",
              "Kolkata     2152\n",
              "Banglore    1650\n",
              "Mumbai       523\n",
              "Chennai      289\n",
              "Name: Source, dtype: int64"
            ]
          },
          "metadata": {
            "tags": []
          },
          "execution_count": 547
        }
      ]
    },
    {
      "cell_type": "code",
      "metadata": {
        "id": "oejYP2mvJrvp",
        "colab": {
          "base_uri": "https://localhost:8080/",
          "height": 202
        },
        "outputId": "fed32dc5-278e-4d65-f754-6df084111c85"
      },
      "source": [
        "# As Source is Nominal Categorical data we will perform OneHotEncoding\n",
        "\n",
        "Source = df[[\"Source\"]]\n",
        "\n",
        "Source = pd.get_dummies(Source, drop_first= True)\n",
        "\n",
        "Source.head()"
      ],
      "execution_count": 548,
      "outputs": [
        {
          "output_type": "execute_result",
          "data": {
            "text/html": [
              "<div>\n",
              "<style scoped>\n",
              "    .dataframe tbody tr th:only-of-type {\n",
              "        vertical-align: middle;\n",
              "    }\n",
              "\n",
              "    .dataframe tbody tr th {\n",
              "        vertical-align: top;\n",
              "    }\n",
              "\n",
              "    .dataframe thead th {\n",
              "        text-align: right;\n",
              "    }\n",
              "</style>\n",
              "<table border=\"1\" class=\"dataframe\">\n",
              "  <thead>\n",
              "    <tr style=\"text-align: right;\">\n",
              "      <th></th>\n",
              "      <th>Source_Chennai</th>\n",
              "      <th>Source_Delhi</th>\n",
              "      <th>Source_Kolkata</th>\n",
              "      <th>Source_Mumbai</th>\n",
              "    </tr>\n",
              "  </thead>\n",
              "  <tbody>\n",
              "    <tr>\n",
              "      <th>0</th>\n",
              "      <td>0</td>\n",
              "      <td>1</td>\n",
              "      <td>0</td>\n",
              "      <td>0</td>\n",
              "    </tr>\n",
              "    <tr>\n",
              "      <th>1</th>\n",
              "      <td>0</td>\n",
              "      <td>0</td>\n",
              "      <td>0</td>\n",
              "      <td>0</td>\n",
              "    </tr>\n",
              "    <tr>\n",
              "      <th>2</th>\n",
              "      <td>0</td>\n",
              "      <td>1</td>\n",
              "      <td>0</td>\n",
              "      <td>0</td>\n",
              "    </tr>\n",
              "    <tr>\n",
              "      <th>3</th>\n",
              "      <td>0</td>\n",
              "      <td>0</td>\n",
              "      <td>1</td>\n",
              "      <td>0</td>\n",
              "    </tr>\n",
              "    <tr>\n",
              "      <th>4</th>\n",
              "      <td>0</td>\n",
              "      <td>0</td>\n",
              "      <td>1</td>\n",
              "      <td>0</td>\n",
              "    </tr>\n",
              "  </tbody>\n",
              "</table>\n",
              "</div>"
            ],
            "text/plain": [
              "   Source_Chennai  Source_Delhi  Source_Kolkata  Source_Mumbai\n",
              "0               0             1               0              0\n",
              "1               0             0               0              0\n",
              "2               0             1               0              0\n",
              "3               0             0               1              0\n",
              "4               0             0               1              0"
            ]
          },
          "metadata": {
            "tags": []
          },
          "execution_count": 548
        }
      ]
    },
    {
      "cell_type": "code",
      "metadata": {
        "id": "jwJ7nRKnJwpE",
        "colab": {
          "base_uri": "https://localhost:8080/"
        },
        "outputId": "66add2ed-9aed-464e-945c-5cf8058e6663"
      },
      "source": [
        "df[\"Destination\"].value_counts()"
      ],
      "execution_count": 549,
      "outputs": [
        {
          "output_type": "execute_result",
          "data": {
            "text/plain": [
              "Cochin       3397\n",
              "Banglore     2152\n",
              "Delhi         956\n",
              "New Delhi     694\n",
              "Hyderabad     523\n",
              "Kolkata       289\n",
              "Name: Destination, dtype: int64"
            ]
          },
          "metadata": {
            "tags": []
          },
          "execution_count": 549
        }
      ]
    },
    {
      "cell_type": "code",
      "metadata": {
        "id": "VPQqywhRJ1qt",
        "colab": {
          "base_uri": "https://localhost:8080/",
          "height": 202
        },
        "outputId": "d3b148bb-1376-4533-af75-a1b064eeadf5"
      },
      "source": [
        "# As Destination is Nominal Categorical data we will perform OneHotEncoding\n",
        "\n",
        "Destination = df[[\"Destination\"]]\n",
        "\n",
        "Destination = pd.get_dummies(Destination, drop_first = True)\n",
        "\n",
        "Destination.head()"
      ],
      "execution_count": 550,
      "outputs": [
        {
          "output_type": "execute_result",
          "data": {
            "text/html": [
              "<div>\n",
              "<style scoped>\n",
              "    .dataframe tbody tr th:only-of-type {\n",
              "        vertical-align: middle;\n",
              "    }\n",
              "\n",
              "    .dataframe tbody tr th {\n",
              "        vertical-align: top;\n",
              "    }\n",
              "\n",
              "    .dataframe thead th {\n",
              "        text-align: right;\n",
              "    }\n",
              "</style>\n",
              "<table border=\"1\" class=\"dataframe\">\n",
              "  <thead>\n",
              "    <tr style=\"text-align: right;\">\n",
              "      <th></th>\n",
              "      <th>Destination_Cochin</th>\n",
              "      <th>Destination_Delhi</th>\n",
              "      <th>Destination_Hyderabad</th>\n",
              "      <th>Destination_Kolkata</th>\n",
              "      <th>Destination_New Delhi</th>\n",
              "    </tr>\n",
              "  </thead>\n",
              "  <tbody>\n",
              "    <tr>\n",
              "      <th>0</th>\n",
              "      <td>1</td>\n",
              "      <td>0</td>\n",
              "      <td>0</td>\n",
              "      <td>0</td>\n",
              "      <td>0</td>\n",
              "    </tr>\n",
              "    <tr>\n",
              "      <th>1</th>\n",
              "      <td>0</td>\n",
              "      <td>1</td>\n",
              "      <td>0</td>\n",
              "      <td>0</td>\n",
              "      <td>0</td>\n",
              "    </tr>\n",
              "    <tr>\n",
              "      <th>2</th>\n",
              "      <td>1</td>\n",
              "      <td>0</td>\n",
              "      <td>0</td>\n",
              "      <td>0</td>\n",
              "      <td>0</td>\n",
              "    </tr>\n",
              "    <tr>\n",
              "      <th>3</th>\n",
              "      <td>0</td>\n",
              "      <td>0</td>\n",
              "      <td>0</td>\n",
              "      <td>0</td>\n",
              "      <td>0</td>\n",
              "    </tr>\n",
              "    <tr>\n",
              "      <th>4</th>\n",
              "      <td>0</td>\n",
              "      <td>0</td>\n",
              "      <td>0</td>\n",
              "      <td>0</td>\n",
              "      <td>0</td>\n",
              "    </tr>\n",
              "  </tbody>\n",
              "</table>\n",
              "</div>"
            ],
            "text/plain": [
              "   Destination_Cochin  ...  Destination_New Delhi\n",
              "0                   1  ...                      0\n",
              "1                   0  ...                      0\n",
              "2                   1  ...                      0\n",
              "3                   0  ...                      0\n",
              "4                   0  ...                      0\n",
              "\n",
              "[5 rows x 5 columns]"
            ]
          },
          "metadata": {
            "tags": []
          },
          "execution_count": 550
        }
      ]
    },
    {
      "cell_type": "code",
      "metadata": {
        "id": "3-uVzmGfJ4zW",
        "colab": {
          "base_uri": "https://localhost:8080/"
        },
        "outputId": "65bf1a39-9bd8-46e0-d25e-0ce77096ebfe"
      },
      "source": [
        "df.columns"
      ],
      "execution_count": 551,
      "outputs": [
        {
          "output_type": "execute_result",
          "data": {
            "text/plain": [
              "Index(['Airline', 'Source', 'Destination', 'Duration', 'Total_Stops',\n",
              "       'Additional_Info', 'Price', 'Journey_Day', 'Journey_Month', 'weekday',\n",
              "       'Dep_hour', 'Dep_min', 'Arrival_hour', 'Arrival_min',\n",
              "       'Travel_Time_Arrival', 'Travel_Time_Dep'],\n",
              "      dtype='object')"
            ]
          },
          "metadata": {
            "tags": []
          },
          "execution_count": 551
        }
      ]
    },
    {
      "cell_type": "code",
      "metadata": {
        "id": "_Wc41Hx2KSOt",
        "colab": {
          "base_uri": "https://localhost:8080/"
        },
        "outputId": "e834259f-4ea8-4bad-dda7-4e460494eb1b"
      },
      "source": [
        "df[\"Additional_Info\"].value_counts()"
      ],
      "execution_count": 552,
      "outputs": [
        {
          "output_type": "execute_result",
          "data": {
            "text/plain": [
              "No info                         6250\n",
              "In-flight meal not included     1492\n",
              "No check-in baggage included     249\n",
              "1 Long layover                     9\n",
              "Business class                     3\n",
              "No Info                            3\n",
              "Change airports                    2\n",
              "Red-eye flight                     1\n",
              "1 Short layover                    1\n",
              "2 Long layover                     1\n",
              "Name: Additional_Info, dtype: int64"
            ]
          },
          "metadata": {
            "tags": []
          },
          "execution_count": 552
        }
      ]
    },
    {
      "cell_type": "code",
      "metadata": {
        "id": "F7zMP0uGKKwg"
      },
      "source": [
        "# Additional_Info contains almost 80% no_info\n",
        "df.drop([\"Additional_Info\"], axis = 1, inplace = True)"
      ],
      "execution_count": 553,
      "outputs": []
    },
    {
      "cell_type": "code",
      "metadata": {
        "id": "WRNcbu4nLQ7n",
        "colab": {
          "base_uri": "https://localhost:8080/"
        },
        "outputId": "deeb69ac-fb93-4516-e64f-4f0ebb3f8a7d"
      },
      "source": [
        "df[\"Total_Stops\"].value_counts()"
      ],
      "execution_count": 554,
      "outputs": [
        {
          "output_type": "execute_result",
          "data": {
            "text/plain": [
              "1    4235\n",
              "0    2630\n",
              "2    1112\n",
              "3      34\n",
              "Name: Total_Stops, dtype: int64"
            ]
          },
          "metadata": {
            "tags": []
          },
          "execution_count": 554
        }
      ]
    },
    {
      "cell_type": "code",
      "metadata": {
        "id": "3x1CefVFMZpk"
      },
      "source": [
        "# Concatenate dataframe --> train_data + Airline + Source + Destination\n",
        "\n",
        "df_train = pd.concat([df, Airline, Source, Destination], axis = 1)"
      ],
      "execution_count": 555,
      "outputs": []
    },
    {
      "cell_type": "code",
      "metadata": {
        "id": "qlzrvAKxLiKe"
      },
      "source": [
        "#Dropping the categorical columns\n",
        "df.drop([\"Airline\", \"Destination\",\"Source\"], axis = 1, inplace = True)\n",
        "df_train.drop([\"Airline\", \"Destination\",\"Source\"], axis = 1, inplace = True)"
      ],
      "execution_count": 556,
      "outputs": []
    },
    {
      "cell_type": "code",
      "metadata": {
        "id": "TggluKflMCCY",
        "colab": {
          "base_uri": "https://localhost:8080/"
        },
        "outputId": "6e3a4809-1191-4371-a3ee-bee5ac03dd70"
      },
      "source": [
        "df.columns"
      ],
      "execution_count": 557,
      "outputs": [
        {
          "output_type": "execute_result",
          "data": {
            "text/plain": [
              "Index(['Duration', 'Total_Stops', 'Price', 'Journey_Day', 'Journey_Month',\n",
              "       'weekday', 'Dep_hour', 'Dep_min', 'Arrival_hour', 'Arrival_min',\n",
              "       'Travel_Time_Arrival', 'Travel_Time_Dep'],\n",
              "      dtype='object')"
            ]
          },
          "metadata": {
            "tags": []
          },
          "execution_count": 557
        }
      ]
    },
    {
      "cell_type": "code",
      "metadata": {
        "id": "jdvtttk9M4TL",
        "colab": {
          "base_uri": "https://localhost:8080/"
        },
        "outputId": "010023ff-2d26-49ba-b3f9-173c435b0c57"
      },
      "source": [
        "df_train.columns"
      ],
      "execution_count": 558,
      "outputs": [
        {
          "output_type": "execute_result",
          "data": {
            "text/plain": [
              "Index(['Duration', 'Total_Stops', 'Price', 'Journey_Day', 'Journey_Month',\n",
              "       'weekday', 'Dep_hour', 'Dep_min', 'Arrival_hour', 'Arrival_min',\n",
              "       'Travel_Time_Arrival', 'Travel_Time_Dep', 'Airline_Airline B',\n",
              "       'Airline_Airline C', 'Airline_Airline D', 'Airline_Airline E',\n",
              "       'Airline_Airline F', 'Airline_Airline G', 'Airline_Airline H',\n",
              "       'Airline_Airline I', 'Airline_Airline J', 'Airline_Airline K',\n",
              "       'Airline_Airline L', 'Source_Chennai', 'Source_Delhi', 'Source_Kolkata',\n",
              "       'Source_Mumbai', 'Destination_Cochin', 'Destination_Delhi',\n",
              "       'Destination_Hyderabad', 'Destination_Kolkata',\n",
              "       'Destination_New Delhi'],\n",
              "      dtype='object')"
            ]
          },
          "metadata": {
            "tags": []
          },
          "execution_count": 558
        }
      ]
    },
    {
      "cell_type": "code",
      "metadata": {
        "id": "ik_cN0NkMGYJ",
        "colab": {
          "base_uri": "https://localhost:8080/"
        },
        "outputId": "ca2fba78-af84-47d9-c420-2a3425735c84"
      },
      "source": [
        "df.info()"
      ],
      "execution_count": 559,
      "outputs": [
        {
          "output_type": "stream",
          "text": [
            "<class 'pandas.core.frame.DataFrame'>\n",
            "Int64Index: 8011 entries, 0 to 8011\n",
            "Data columns (total 12 columns):\n",
            " #   Column               Non-Null Count  Dtype \n",
            "---  ------               --------------  ----- \n",
            " 0   Duration             8011 non-null   int64 \n",
            " 1   Total_Stops          8011 non-null   object\n",
            " 2   Price                8011 non-null   int64 \n",
            " 3   Journey_Day          8011 non-null   int64 \n",
            " 4   Journey_Month        8011 non-null   object\n",
            " 5   weekday              8011 non-null   int64 \n",
            " 6   Dep_hour             8011 non-null   int64 \n",
            " 7   Dep_min              8011 non-null   int64 \n",
            " 8   Arrival_hour         8011 non-null   int64 \n",
            " 9   Arrival_min          8011 non-null   int64 \n",
            " 10  Travel_Time_Arrival  8011 non-null   object\n",
            " 11  Travel_Time_Dep      8011 non-null   object\n",
            "dtypes: int64(8), object(4)\n",
            "memory usage: 1.1+ MB\n"
          ],
          "name": "stdout"
        }
      ]
    },
    {
      "cell_type": "code",
      "metadata": {
        "id": "hSgyIo7qM-xu",
        "colab": {
          "base_uri": "https://localhost:8080/"
        },
        "outputId": "17649c37-cba4-4c7b-cb04-b09b22b4330a"
      },
      "source": [
        "df_train.info()\n"
      ],
      "execution_count": 560,
      "outputs": [
        {
          "output_type": "stream",
          "text": [
            "<class 'pandas.core.frame.DataFrame'>\n",
            "Int64Index: 8011 entries, 0 to 8011\n",
            "Data columns (total 32 columns):\n",
            " #   Column                 Non-Null Count  Dtype \n",
            "---  ------                 --------------  ----- \n",
            " 0   Duration               8011 non-null   int64 \n",
            " 1   Total_Stops            8011 non-null   object\n",
            " 2   Price                  8011 non-null   int64 \n",
            " 3   Journey_Day            8011 non-null   int64 \n",
            " 4   Journey_Month          8011 non-null   object\n",
            " 5   weekday                8011 non-null   int64 \n",
            " 6   Dep_hour               8011 non-null   int64 \n",
            " 7   Dep_min                8011 non-null   int64 \n",
            " 8   Arrival_hour           8011 non-null   int64 \n",
            " 9   Arrival_min            8011 non-null   int64 \n",
            " 10  Travel_Time_Arrival    8011 non-null   object\n",
            " 11  Travel_Time_Dep        8011 non-null   object\n",
            " 12  Airline_Airline B      8011 non-null   uint8 \n",
            " 13  Airline_Airline C      8011 non-null   uint8 \n",
            " 14  Airline_Airline D      8011 non-null   uint8 \n",
            " 15  Airline_Airline E      8011 non-null   uint8 \n",
            " 16  Airline_Airline F      8011 non-null   uint8 \n",
            " 17  Airline_Airline G      8011 non-null   uint8 \n",
            " 18  Airline_Airline H      8011 non-null   uint8 \n",
            " 19  Airline_Airline I      8011 non-null   uint8 \n",
            " 20  Airline_Airline J      8011 non-null   uint8 \n",
            " 21  Airline_Airline K      8011 non-null   uint8 \n",
            " 22  Airline_Airline L      8011 non-null   uint8 \n",
            " 23  Source_Chennai         8011 non-null   uint8 \n",
            " 24  Source_Delhi           8011 non-null   uint8 \n",
            " 25  Source_Kolkata         8011 non-null   uint8 \n",
            " 26  Source_Mumbai          8011 non-null   uint8 \n",
            " 27  Destination_Cochin     8011 non-null   uint8 \n",
            " 28  Destination_Delhi      8011 non-null   uint8 \n",
            " 29  Destination_Hyderabad  8011 non-null   uint8 \n",
            " 30  Destination_Kolkata    8011 non-null   uint8 \n",
            " 31  Destination_New Delhi  8011 non-null   uint8 \n",
            "dtypes: int64(8), object(4), uint8(20)\n",
            "memory usage: 1.3+ MB\n"
          ],
          "name": "stdout"
        }
      ]
    },
    {
      "cell_type": "code",
      "metadata": {
        "id": "kEZU3NJykycz"
      },
      "source": [
        "df_train[\"Total_Stops\"] = df_train[\"Total_Stops\"].astype(int)"
      ],
      "execution_count": 561,
      "outputs": []
    },
    {
      "cell_type": "code",
      "metadata": {
        "id": "NxJdcaNLjGOm"
      },
      "source": [
        "df_train[\"Journey_Month\"]=df_train[\"Journey_Month\"].replace({\"March\":3,\"April\":4,\"May\":5,\"June\":6})"
      ],
      "execution_count": 562,
      "outputs": []
    },
    {
      "cell_type": "code",
      "metadata": {
        "colab": {
          "base_uri": "https://localhost:8080/"
        },
        "id": "jRxYX9364rID",
        "outputId": "088fda37-8085-4ae8-f722-d7a2e4ee5400"
      },
      "source": [
        "df_train.Travel_Time_Arrival.value_counts()"
      ],
      "execution_count": 563,
      "outputs": [
        {
          "output_type": "execute_result",
          "data": {
            "text/plain": [
              "Night        2735\n",
              "Evening      2308\n",
              "Afternoon    1488\n",
              "Morning      1480\n",
              "Name: Travel_Time_Arrival, dtype: int64"
            ]
          },
          "metadata": {
            "tags": []
          },
          "execution_count": 563
        }
      ]
    },
    {
      "cell_type": "code",
      "metadata": {
        "id": "4clEv3wy5Nw8"
      },
      "source": [
        "df_train[\"Travel_Time_Arrival\"]=df_train[\"Travel_Time_Arrival\"].replace({\"Morning\":1,\"Afternoon\":2,\"Evening\":3,\"Night\":4})"
      ],
      "execution_count": 564,
      "outputs": []
    },
    {
      "cell_type": "code",
      "metadata": {
        "colab": {
          "base_uri": "https://localhost:8080/"
        },
        "id": "RfLj7DIe4rLR",
        "outputId": "5125f3ce-2741-40ff-a175-b3f24ccb59bd"
      },
      "source": [
        "df_train.Travel_Time_Dep.value_counts()"
      ],
      "execution_count": 565,
      "outputs": [
        {
          "output_type": "execute_result",
          "data": {
            "text/plain": [
              "Morning      3266\n",
              "Evening      2102\n",
              "Afternoon    1519\n",
              "Night        1124\n",
              "Name: Travel_Time_Dep, dtype: int64"
            ]
          },
          "metadata": {
            "tags": []
          },
          "execution_count": 565
        }
      ]
    },
    {
      "cell_type": "code",
      "metadata": {
        "id": "viffKdH64395"
      },
      "source": [
        "df_train[\"Travel_Time_Dep\"]=df_train[\"Travel_Time_Dep\"].replace({\"Morning\":1,\"Afternoon\":2,\"Evening\":3,\"Night\":4})"
      ],
      "execution_count": 566,
      "outputs": []
    },
    {
      "cell_type": "code",
      "metadata": {
        "id": "2MqoZVJ8jTb6",
        "colab": {
          "base_uri": "https://localhost:8080/"
        },
        "outputId": "0d69e851-8d0b-44ed-a715-9234a48fc63f"
      },
      "source": [
        "df_train.info()"
      ],
      "execution_count": 567,
      "outputs": [
        {
          "output_type": "stream",
          "text": [
            "<class 'pandas.core.frame.DataFrame'>\n",
            "Int64Index: 8011 entries, 0 to 8011\n",
            "Data columns (total 32 columns):\n",
            " #   Column                 Non-Null Count  Dtype\n",
            "---  ------                 --------------  -----\n",
            " 0   Duration               8011 non-null   int64\n",
            " 1   Total_Stops            8011 non-null   int64\n",
            " 2   Price                  8011 non-null   int64\n",
            " 3   Journey_Day            8011 non-null   int64\n",
            " 4   Journey_Month          8011 non-null   int64\n",
            " 5   weekday                8011 non-null   int64\n",
            " 6   Dep_hour               8011 non-null   int64\n",
            " 7   Dep_min                8011 non-null   int64\n",
            " 8   Arrival_hour           8011 non-null   int64\n",
            " 9   Arrival_min            8011 non-null   int64\n",
            " 10  Travel_Time_Arrival    8011 non-null   int64\n",
            " 11  Travel_Time_Dep        8011 non-null   int64\n",
            " 12  Airline_Airline B      8011 non-null   uint8\n",
            " 13  Airline_Airline C      8011 non-null   uint8\n",
            " 14  Airline_Airline D      8011 non-null   uint8\n",
            " 15  Airline_Airline E      8011 non-null   uint8\n",
            " 16  Airline_Airline F      8011 non-null   uint8\n",
            " 17  Airline_Airline G      8011 non-null   uint8\n",
            " 18  Airline_Airline H      8011 non-null   uint8\n",
            " 19  Airline_Airline I      8011 non-null   uint8\n",
            " 20  Airline_Airline J      8011 non-null   uint8\n",
            " 21  Airline_Airline K      8011 non-null   uint8\n",
            " 22  Airline_Airline L      8011 non-null   uint8\n",
            " 23  Source_Chennai         8011 non-null   uint8\n",
            " 24  Source_Delhi           8011 non-null   uint8\n",
            " 25  Source_Kolkata         8011 non-null   uint8\n",
            " 26  Source_Mumbai          8011 non-null   uint8\n",
            " 27  Destination_Cochin     8011 non-null   uint8\n",
            " 28  Destination_Delhi      8011 non-null   uint8\n",
            " 29  Destination_Hyderabad  8011 non-null   uint8\n",
            " 30  Destination_Kolkata    8011 non-null   uint8\n",
            " 31  Destination_New Delhi  8011 non-null   uint8\n",
            "dtypes: int64(12), uint8(20)\n",
            "memory usage: 1.3 MB\n"
          ],
          "name": "stdout"
        }
      ]
    },
    {
      "cell_type": "code",
      "metadata": {
        "id": "RL51ESpUNKqb",
        "colab": {
          "base_uri": "https://localhost:8080/"
        },
        "outputId": "3d851d5e-29f4-40d4-a262-45b544bc970a"
      },
      "source": [
        "df_train.shape"
      ],
      "execution_count": 568,
      "outputs": [
        {
          "output_type": "execute_result",
          "data": {
            "text/plain": [
              "(8011, 32)"
            ]
          },
          "metadata": {
            "tags": []
          },
          "execution_count": 568
        }
      ]
    },
    {
      "cell_type": "markdown",
      "metadata": {
        "id": "2HByUtNFNS05"
      },
      "source": [
        "# Test Data\n"
      ]
    },
    {
      "cell_type": "code",
      "metadata": {
        "id": "vF4vYc8pQKD8",
        "colab": {
          "base_uri": "https://localhost:8080/"
        },
        "outputId": "5ee61fd2-9013-475b-bcf2-33be5ff86104"
      },
      "source": [
        "print(\"Test data Info\")\n",
        "print(\"-\"*75)\n",
        "print(df_test.info())"
      ],
      "execution_count": 569,
      "outputs": [
        {
          "output_type": "stream",
          "text": [
            "Test data Info\n",
            "---------------------------------------------------------------------------\n",
            "<class 'pandas.core.frame.DataFrame'>\n",
            "RangeIndex: 2671 entries, 0 to 2670\n",
            "Data columns (total 10 columns):\n",
            " #   Column           Non-Null Count  Dtype \n",
            "---  ------           --------------  ----- \n",
            " 0   Airline          2671 non-null   object\n",
            " 1   Date_of_Journey  2671 non-null   object\n",
            " 2   Source           2671 non-null   object\n",
            " 3   Destination      2671 non-null   object\n",
            " 4   Route            2671 non-null   object\n",
            " 5   Dep_Time         2671 non-null   object\n",
            " 6   Arrival_Time     2671 non-null   object\n",
            " 7   Duration         2671 non-null   object\n",
            " 8   Total_Stops      2671 non-null   object\n",
            " 9   Additional_Info  2671 non-null   object\n",
            "dtypes: object(10)\n",
            "memory usage: 208.8+ KB\n",
            "None\n"
          ],
          "name": "stdout"
        }
      ]
    },
    {
      "cell_type": "code",
      "metadata": {
        "id": "mqbinXulQSDN",
        "colab": {
          "base_uri": "https://localhost:8080/"
        },
        "outputId": "2906b1d4-7561-4a34-8dd9-d1c44df96d37"
      },
      "source": [
        "print(\"Null values :\")\n",
        "print(\"-\"*75)\n",
        "df_test.dropna(inplace = True)\n",
        "print(df_test.isnull().sum())"
      ],
      "execution_count": 570,
      "outputs": [
        {
          "output_type": "stream",
          "text": [
            "Null values :\n",
            "---------------------------------------------------------------------------\n",
            "Airline            0\n",
            "Date_of_Journey    0\n",
            "Source             0\n",
            "Destination        0\n",
            "Route              0\n",
            "Dep_Time           0\n",
            "Arrival_Time       0\n",
            "Duration           0\n",
            "Total_Stops        0\n",
            "Additional_Info    0\n",
            "dtype: int64\n"
          ],
          "name": "stdout"
        }
      ]
    },
    {
      "cell_type": "code",
      "metadata": {
        "id": "GOzVPj6jQXJu"
      },
      "source": [
        "df_test['Date']=df_test['Date_of_Journey'].str.split('-').str[0]\n",
        "df_test['Month']=df_test['Date_of_Journey'].str.split('-').str[1]\n",
        "df_test['Year']=df_test['Date_of_Journey'].str.split('-').str[2]"
      ],
      "execution_count": 571,
      "outputs": []
    },
    {
      "cell_type": "code",
      "metadata": {
        "id": "jcbL0YM6QnSL"
      },
      "source": [
        "df_test.drop([\"Date_of_Journey\"], axis = 1, inplace = True)"
      ],
      "execution_count": 572,
      "outputs": []
    },
    {
      "cell_type": "code",
      "metadata": {
        "id": "KXdBtfB1QtMF"
      },
      "source": [
        "# Dep_Time\n",
        "df_test[\"Dep_hour\"] = pd.to_datetime(df_test[\"Dep_Time\"]).dt.hour\n",
        "df_test[\"Dep_min\"] = pd.to_datetime(df_test[\"Dep_Time\"]).dt.minute\n",
        "df_test.drop([\"Dep_Time\"], axis = 1, inplace = True)"
      ],
      "execution_count": 573,
      "outputs": []
    },
    {
      "cell_type": "code",
      "metadata": {
        "id": "gBX3KvfTQwhW"
      },
      "source": [
        "\n",
        "# Arrival_Time\n",
        "df_test[\"Arrival_hour\"] = pd.to_datetime(df_test.Arrival_Time).dt.hour\n",
        "df_test[\"Arrival_min\"] = pd.to_datetime(df_test.Arrival_Time).dt.minute\n",
        "df_test.drop([\"Arrival_Time\"], axis = 1, inplace = True)"
      ],
      "execution_count": 574,
      "outputs": []
    },
    {
      "cell_type": "code",
      "metadata": {
        "id": "mbQ4WbpYTkVK",
        "colab": {
          "base_uri": "https://localhost:8080/",
          "height": 289
        },
        "outputId": "665042cd-4b3b-4c50-8001-2b001a4b3545"
      },
      "source": [
        "df_test.head()"
      ],
      "execution_count": 575,
      "outputs": [
        {
          "output_type": "execute_result",
          "data": {
            "text/html": [
              "<div>\n",
              "<style scoped>\n",
              "    .dataframe tbody tr th:only-of-type {\n",
              "        vertical-align: middle;\n",
              "    }\n",
              "\n",
              "    .dataframe tbody tr th {\n",
              "        vertical-align: top;\n",
              "    }\n",
              "\n",
              "    .dataframe thead th {\n",
              "        text-align: right;\n",
              "    }\n",
              "</style>\n",
              "<table border=\"1\" class=\"dataframe\">\n",
              "  <thead>\n",
              "    <tr style=\"text-align: right;\">\n",
              "      <th></th>\n",
              "      <th>Airline</th>\n",
              "      <th>Source</th>\n",
              "      <th>Destination</th>\n",
              "      <th>Route</th>\n",
              "      <th>Duration</th>\n",
              "      <th>Total_Stops</th>\n",
              "      <th>Additional_Info</th>\n",
              "      <th>Date</th>\n",
              "      <th>Month</th>\n",
              "      <th>Year</th>\n",
              "      <th>Dep_hour</th>\n",
              "      <th>Dep_min</th>\n",
              "      <th>Arrival_hour</th>\n",
              "      <th>Arrival_min</th>\n",
              "    </tr>\n",
              "  </thead>\n",
              "  <tbody>\n",
              "    <tr>\n",
              "      <th>0</th>\n",
              "      <td>Airline B</td>\n",
              "      <td>Delhi</td>\n",
              "      <td>Cochin</td>\n",
              "      <td>DEL → HYD → COK</td>\n",
              "      <td>11h 15m</td>\n",
              "      <td>1 stop</td>\n",
              "      <td>No info</td>\n",
              "      <td>27</td>\n",
              "      <td>03</td>\n",
              "      <td>2019</td>\n",
              "      <td>4</td>\n",
              "      <td>55</td>\n",
              "      <td>16</td>\n",
              "      <td>10</td>\n",
              "    </tr>\n",
              "    <tr>\n",
              "      <th>1</th>\n",
              "      <td>Airline E</td>\n",
              "      <td>Kolkata</td>\n",
              "      <td>Banglore</td>\n",
              "      <td>CCU → BLR</td>\n",
              "      <td>2h 20m</td>\n",
              "      <td>non-stop</td>\n",
              "      <td>No info</td>\n",
              "      <td>27</td>\n",
              "      <td>05</td>\n",
              "      <td>2019</td>\n",
              "      <td>22</td>\n",
              "      <td>20</td>\n",
              "      <td>0</td>\n",
              "      <td>40</td>\n",
              "    </tr>\n",
              "    <tr>\n",
              "      <th>2</th>\n",
              "      <td>Airline C</td>\n",
              "      <td>Kolkata</td>\n",
              "      <td>Banglore</td>\n",
              "      <td>CCU → IXR → DEL → BLR</td>\n",
              "      <td>14h 35m</td>\n",
              "      <td>2 stops</td>\n",
              "      <td>No info</td>\n",
              "      <td>06</td>\n",
              "      <td>06</td>\n",
              "      <td>2019</td>\n",
              "      <td>5</td>\n",
              "      <td>50</td>\n",
              "      <td>20</td>\n",
              "      <td>25</td>\n",
              "    </tr>\n",
              "    <tr>\n",
              "      <th>3</th>\n",
              "      <td>Airline A</td>\n",
              "      <td>Banglore</td>\n",
              "      <td>New Delhi</td>\n",
              "      <td>BLR → MAA → DEL</td>\n",
              "      <td>4h 40m</td>\n",
              "      <td>1 stop</td>\n",
              "      <td>No info</td>\n",
              "      <td>06</td>\n",
              "      <td>03</td>\n",
              "      <td>2019</td>\n",
              "      <td>9</td>\n",
              "      <td>45</td>\n",
              "      <td>14</td>\n",
              "      <td>25</td>\n",
              "    </tr>\n",
              "    <tr>\n",
              "      <th>4</th>\n",
              "      <td>Airline B</td>\n",
              "      <td>Delhi</td>\n",
              "      <td>Cochin</td>\n",
              "      <td>DEL → BOM → COK</td>\n",
              "      <td>9h 30m</td>\n",
              "      <td>1 stop</td>\n",
              "      <td>No info</td>\n",
              "      <td>15</td>\n",
              "      <td>06</td>\n",
              "      <td>2019</td>\n",
              "      <td>16</td>\n",
              "      <td>0</td>\n",
              "      <td>1</td>\n",
              "      <td>30</td>\n",
              "    </tr>\n",
              "  </tbody>\n",
              "</table>\n",
              "</div>"
            ],
            "text/plain": [
              "     Airline    Source Destination  ... Dep_min Arrival_hour Arrival_min\n",
              "0  Airline B     Delhi      Cochin  ...      55           16          10\n",
              "1  Airline E   Kolkata    Banglore  ...      20            0          40\n",
              "2  Airline C   Kolkata    Banglore  ...      50           20          25\n",
              "3  Airline A  Banglore   New Delhi  ...      45           14          25\n",
              "4  Airline B     Delhi      Cochin  ...       0            1          30\n",
              "\n",
              "[5 rows x 14 columns]"
            ]
          },
          "metadata": {
            "tags": []
          },
          "execution_count": 575
        }
      ]
    },
    {
      "cell_type": "code",
      "metadata": {
        "id": "ss7A6qTjQzvT"
      },
      "source": [
        "# Duration\n",
        "\n",
        "def duration(test):\n",
        "    test = test.strip()\n",
        "    total=test.split(' ')\n",
        "    to=total[0]\n",
        "    hrs=(int)(to[:-1])*60\n",
        "    if((len(total))==2):\n",
        "        mint=(int)(total[1][:-1])\n",
        "        hrs=hrs+mint\n",
        "    test=str(hrs)\n",
        "    return test\n",
        "df_test['Duration']=df_test['Duration'].apply(duration)"
      ],
      "execution_count": 576,
      "outputs": []
    },
    {
      "cell_type": "code",
      "metadata": {
        "id": "4QEBIeGgQ6a3",
        "colab": {
          "base_uri": "https://localhost:8080/"
        },
        "outputId": "2000c107-945b-4d4c-956a-a819ec878874"
      },
      "source": [
        "# Categorical data\n",
        "\n",
        "print(\"Airline\")\n",
        "print(\"-\"*75)\n",
        "print(df_test[\"Airline\"].value_counts())\n",
        "Airline = pd.get_dummies(df_test[\"Airline\"], drop_first= True)"
      ],
      "execution_count": 577,
      "outputs": [
        {
          "output_type": "stream",
          "text": [
            "Airline\n",
            "---------------------------------------------------------------------------\n",
            "Airline A    968\n",
            "Airline B    503\n",
            "Airline C    465\n",
            "Airline D    290\n",
            "Airline E    193\n",
            "Airline F    119\n",
            "Airline G     84\n",
            "Airline H     48\n",
            "Airline I      1\n",
            "Name: Airline, dtype: int64\n"
          ],
          "name": "stdout"
        }
      ]
    },
    {
      "cell_type": "code",
      "metadata": {
        "id": "EPao75HXRBhM",
        "colab": {
          "base_uri": "https://localhost:8080/"
        },
        "outputId": "ec589242-b85e-42c7-eeab-e31cf2e10460"
      },
      "source": [
        "print(\"Source\")\n",
        "print(\"-\"*75)\n",
        "print(df_test[\"Source\"].value_counts())\n",
        "Source = pd.get_dummies(df_test[\"Source\"], drop_first= True)"
      ],
      "execution_count": 578,
      "outputs": [
        {
          "output_type": "stream",
          "text": [
            "Source\n",
            "---------------------------------------------------------------------------\n",
            "Delhi       1139\n",
            "Kolkata      719\n",
            "Banglore     547\n",
            "Mumbai       174\n",
            "Chennai       92\n",
            "Name: Source, dtype: int64\n"
          ],
          "name": "stdout"
        }
      ]
    },
    {
      "cell_type": "code",
      "metadata": {
        "id": "d7z8UgcHRE9a",
        "colab": {
          "base_uri": "https://localhost:8080/"
        },
        "outputId": "069493b4-5db1-4d35-f5d4-98ded607b736"
      },
      "source": [
        "\n",
        "print(\"Destination\")\n",
        "print(\"-\"*75)\n",
        "print(df_test[\"Destination\"].value_counts())\n",
        "Destination = pd.get_dummies(df_test[\"Destination\"], drop_first = True)\n"
      ],
      "execution_count": 579,
      "outputs": [
        {
          "output_type": "stream",
          "text": [
            "Destination\n",
            "---------------------------------------------------------------------------\n",
            "Cochin       1139\n",
            "Banglore      719\n",
            "Delhi         309\n",
            "New Delhi     238\n",
            "Hyderabad     174\n",
            "Kolkata        92\n",
            "Name: Destination, dtype: int64\n"
          ],
          "name": "stdout"
        }
      ]
    },
    {
      "cell_type": "code",
      "metadata": {
        "id": "AuryHkDURIUD"
      },
      "source": [
        "# Additional_Info contains almost 80% no_info\n",
        "# Route and Total_Stops are related to each other\n",
        "df_test.drop([\"Route\", \"Additional_Info\"], axis = 1, inplace = True)"
      ],
      "execution_count": 580,
      "outputs": []
    },
    {
      "cell_type": "code",
      "metadata": {
        "id": "UDksvNmlRMlM"
      },
      "source": [
        "# Replacing Total_Stops\n",
        "df_test.replace({\"non-stop\": 0, \"1 stop\": 1, \"2 stops\": 2, \"3 stops\": 3, \"4 stops\": 4}, inplace = True)"
      ],
      "execution_count": 581,
      "outputs": []
    },
    {
      "cell_type": "code",
      "metadata": {
        "id": "2M0q6s6ZRPex"
      },
      "source": [
        "# Concatenate dataframe --> test_data + Airline + Source + Destination\n",
        "df_test = pd.concat([df_test, Airline, Source, Destination], axis = 1)"
      ],
      "execution_count": 582,
      "outputs": []
    },
    {
      "cell_type": "code",
      "metadata": {
        "id": "T1KIfNGuRVmp"
      },
      "source": [
        "df_test.drop([\"Airline\", \"Source\", \"Destination\"], axis = 1, inplace = True)"
      ],
      "execution_count": 583,
      "outputs": []
    },
    {
      "cell_type": "code",
      "metadata": {
        "id": "Ie3BAxaSRYX6",
        "colab": {
          "base_uri": "https://localhost:8080/"
        },
        "outputId": "4185456d-34bf-49b6-9271-00026d807b12"
      },
      "source": [
        "print(\"Shape of test data : \", df_test.shape)"
      ],
      "execution_count": 584,
      "outputs": [
        {
          "output_type": "stream",
          "text": [
            "Shape of test data :  (2671, 26)\n"
          ],
          "name": "stdout"
        }
      ]
    },
    {
      "cell_type": "code",
      "metadata": {
        "id": "FW3_cZw3Rg9S",
        "colab": {
          "base_uri": "https://localhost:8080/"
        },
        "outputId": "f3c00837-9057-45f9-dd6a-3abb035c785e"
      },
      "source": [
        "df_test.info()"
      ],
      "execution_count": 585,
      "outputs": [
        {
          "output_type": "stream",
          "text": [
            "<class 'pandas.core.frame.DataFrame'>\n",
            "Int64Index: 2671 entries, 0 to 2670\n",
            "Data columns (total 26 columns):\n",
            " #   Column        Non-Null Count  Dtype \n",
            "---  ------        --------------  ----- \n",
            " 0   Duration      2671 non-null   object\n",
            " 1   Total_Stops   2671 non-null   int64 \n",
            " 2   Date          2671 non-null   object\n",
            " 3   Month         2671 non-null   object\n",
            " 4   Year          2671 non-null   object\n",
            " 5   Dep_hour      2671 non-null   int64 \n",
            " 6   Dep_min       2671 non-null   int64 \n",
            " 7   Arrival_hour  2671 non-null   int64 \n",
            " 8   Arrival_min   2671 non-null   int64 \n",
            " 9   Airline B     2671 non-null   uint8 \n",
            " 10  Airline C     2671 non-null   uint8 \n",
            " 11  Airline D     2671 non-null   uint8 \n",
            " 12  Airline E     2671 non-null   uint8 \n",
            " 13  Airline F     2671 non-null   uint8 \n",
            " 14  Airline G     2671 non-null   uint8 \n",
            " 15  Airline H     2671 non-null   uint8 \n",
            " 16  Airline I     2671 non-null   uint8 \n",
            " 17  Chennai       2671 non-null   uint8 \n",
            " 18  Delhi         2671 non-null   uint8 \n",
            " 19  Kolkata       2671 non-null   uint8 \n",
            " 20  Mumbai        2671 non-null   uint8 \n",
            " 21  Cochin        2671 non-null   uint8 \n",
            " 22  Delhi         2671 non-null   uint8 \n",
            " 23  Hyderabad     2671 non-null   uint8 \n",
            " 24  Kolkata       2671 non-null   uint8 \n",
            " 25  New Delhi     2671 non-null   uint8 \n",
            "dtypes: int64(5), object(4), uint8(17)\n",
            "memory usage: 253.0+ KB\n"
          ],
          "name": "stdout"
        }
      ]
    },
    {
      "cell_type": "code",
      "metadata": {
        "id": "Jw4QaYQ7S154",
        "colab": {
          "base_uri": "https://localhost:8080/",
          "height": 239
        },
        "outputId": "d2cd4595-74ff-445b-ee5f-f2dea6cb8e67"
      },
      "source": [
        "df_test.head()"
      ],
      "execution_count": 586,
      "outputs": [
        {
          "output_type": "execute_result",
          "data": {
            "text/html": [
              "<div>\n",
              "<style scoped>\n",
              "    .dataframe tbody tr th:only-of-type {\n",
              "        vertical-align: middle;\n",
              "    }\n",
              "\n",
              "    .dataframe tbody tr th {\n",
              "        vertical-align: top;\n",
              "    }\n",
              "\n",
              "    .dataframe thead th {\n",
              "        text-align: right;\n",
              "    }\n",
              "</style>\n",
              "<table border=\"1\" class=\"dataframe\">\n",
              "  <thead>\n",
              "    <tr style=\"text-align: right;\">\n",
              "      <th></th>\n",
              "      <th>Duration</th>\n",
              "      <th>Total_Stops</th>\n",
              "      <th>Date</th>\n",
              "      <th>Month</th>\n",
              "      <th>Year</th>\n",
              "      <th>Dep_hour</th>\n",
              "      <th>Dep_min</th>\n",
              "      <th>Arrival_hour</th>\n",
              "      <th>Arrival_min</th>\n",
              "      <th>Airline B</th>\n",
              "      <th>Airline C</th>\n",
              "      <th>Airline D</th>\n",
              "      <th>Airline E</th>\n",
              "      <th>Airline F</th>\n",
              "      <th>Airline G</th>\n",
              "      <th>Airline H</th>\n",
              "      <th>Airline I</th>\n",
              "      <th>Chennai</th>\n",
              "      <th>Delhi</th>\n",
              "      <th>Kolkata</th>\n",
              "      <th>Mumbai</th>\n",
              "      <th>Cochin</th>\n",
              "      <th>Delhi</th>\n",
              "      <th>Hyderabad</th>\n",
              "      <th>Kolkata</th>\n",
              "      <th>New Delhi</th>\n",
              "    </tr>\n",
              "  </thead>\n",
              "  <tbody>\n",
              "    <tr>\n",
              "      <th>0</th>\n",
              "      <td>675</td>\n",
              "      <td>1</td>\n",
              "      <td>27</td>\n",
              "      <td>03</td>\n",
              "      <td>2019</td>\n",
              "      <td>4</td>\n",
              "      <td>55</td>\n",
              "      <td>16</td>\n",
              "      <td>10</td>\n",
              "      <td>1</td>\n",
              "      <td>0</td>\n",
              "      <td>0</td>\n",
              "      <td>0</td>\n",
              "      <td>0</td>\n",
              "      <td>0</td>\n",
              "      <td>0</td>\n",
              "      <td>0</td>\n",
              "      <td>0</td>\n",
              "      <td>1</td>\n",
              "      <td>0</td>\n",
              "      <td>0</td>\n",
              "      <td>1</td>\n",
              "      <td>0</td>\n",
              "      <td>0</td>\n",
              "      <td>0</td>\n",
              "      <td>0</td>\n",
              "    </tr>\n",
              "    <tr>\n",
              "      <th>1</th>\n",
              "      <td>140</td>\n",
              "      <td>0</td>\n",
              "      <td>27</td>\n",
              "      <td>05</td>\n",
              "      <td>2019</td>\n",
              "      <td>22</td>\n",
              "      <td>20</td>\n",
              "      <td>0</td>\n",
              "      <td>40</td>\n",
              "      <td>0</td>\n",
              "      <td>0</td>\n",
              "      <td>0</td>\n",
              "      <td>1</td>\n",
              "      <td>0</td>\n",
              "      <td>0</td>\n",
              "      <td>0</td>\n",
              "      <td>0</td>\n",
              "      <td>0</td>\n",
              "      <td>0</td>\n",
              "      <td>1</td>\n",
              "      <td>0</td>\n",
              "      <td>0</td>\n",
              "      <td>0</td>\n",
              "      <td>0</td>\n",
              "      <td>0</td>\n",
              "      <td>0</td>\n",
              "    </tr>\n",
              "    <tr>\n",
              "      <th>2</th>\n",
              "      <td>875</td>\n",
              "      <td>2</td>\n",
              "      <td>06</td>\n",
              "      <td>06</td>\n",
              "      <td>2019</td>\n",
              "      <td>5</td>\n",
              "      <td>50</td>\n",
              "      <td>20</td>\n",
              "      <td>25</td>\n",
              "      <td>0</td>\n",
              "      <td>1</td>\n",
              "      <td>0</td>\n",
              "      <td>0</td>\n",
              "      <td>0</td>\n",
              "      <td>0</td>\n",
              "      <td>0</td>\n",
              "      <td>0</td>\n",
              "      <td>0</td>\n",
              "      <td>0</td>\n",
              "      <td>1</td>\n",
              "      <td>0</td>\n",
              "      <td>0</td>\n",
              "      <td>0</td>\n",
              "      <td>0</td>\n",
              "      <td>0</td>\n",
              "      <td>0</td>\n",
              "    </tr>\n",
              "    <tr>\n",
              "      <th>3</th>\n",
              "      <td>280</td>\n",
              "      <td>1</td>\n",
              "      <td>06</td>\n",
              "      <td>03</td>\n",
              "      <td>2019</td>\n",
              "      <td>9</td>\n",
              "      <td>45</td>\n",
              "      <td>14</td>\n",
              "      <td>25</td>\n",
              "      <td>0</td>\n",
              "      <td>0</td>\n",
              "      <td>0</td>\n",
              "      <td>0</td>\n",
              "      <td>0</td>\n",
              "      <td>0</td>\n",
              "      <td>0</td>\n",
              "      <td>0</td>\n",
              "      <td>0</td>\n",
              "      <td>0</td>\n",
              "      <td>0</td>\n",
              "      <td>0</td>\n",
              "      <td>0</td>\n",
              "      <td>0</td>\n",
              "      <td>0</td>\n",
              "      <td>0</td>\n",
              "      <td>1</td>\n",
              "    </tr>\n",
              "    <tr>\n",
              "      <th>4</th>\n",
              "      <td>570</td>\n",
              "      <td>1</td>\n",
              "      <td>15</td>\n",
              "      <td>06</td>\n",
              "      <td>2019</td>\n",
              "      <td>16</td>\n",
              "      <td>0</td>\n",
              "      <td>1</td>\n",
              "      <td>30</td>\n",
              "      <td>1</td>\n",
              "      <td>0</td>\n",
              "      <td>0</td>\n",
              "      <td>0</td>\n",
              "      <td>0</td>\n",
              "      <td>0</td>\n",
              "      <td>0</td>\n",
              "      <td>0</td>\n",
              "      <td>0</td>\n",
              "      <td>1</td>\n",
              "      <td>0</td>\n",
              "      <td>0</td>\n",
              "      <td>1</td>\n",
              "      <td>0</td>\n",
              "      <td>0</td>\n",
              "      <td>0</td>\n",
              "      <td>0</td>\n",
              "    </tr>\n",
              "  </tbody>\n",
              "</table>\n",
              "</div>"
            ],
            "text/plain": [
              "  Duration  Total_Stops Date Month  ... Delhi  Hyderabad  Kolkata  New Delhi\n",
              "0      675            1   27    03  ...     0          0        0          0\n",
              "1      140            0   27    05  ...     0          0        0          0\n",
              "2      875            2   06    06  ...     0          0        0          0\n",
              "3      280            1   06    03  ...     0          0        0          1\n",
              "4      570            1   15    06  ...     0          0        0          0\n",
              "\n",
              "[5 rows x 26 columns]"
            ]
          },
          "metadata": {
            "tags": []
          },
          "execution_count": 586
        }
      ]
    },
    {
      "cell_type": "code",
      "metadata": {
        "id": "UZ6zgyKgURgI"
      },
      "source": [
        "def deparrtime(tt):\n",
        "  \n",
        "    if(tt>=16 and tt<21):\n",
        "        x='Evening'\n",
        "    elif(tt>=21 or tt<5):\n",
        "        x='Night'\n",
        "    elif(tt>=5 and tt<11):\n",
        "        x='Morning'\n",
        "    elif(tt>=11 and tt<16):\n",
        "        x='Afternoon'\n",
        "    return x\n",
        "df_test['Dep_Time']=df_test['Dep_hour'].apply(deparrtime)\n",
        "df_test['Arrival_Time']=df_test['Arrival_hour'].apply(deparrtime)"
      ],
      "execution_count": 587,
      "outputs": []
    },
    {
      "cell_type": "code",
      "metadata": {
        "id": "CZCGfqgYUrA7",
        "colab": {
          "base_uri": "https://localhost:8080/"
        },
        "outputId": "95b2fed8-84ee-4441-8523-de78dc70c591"
      },
      "source": [
        "df_test.info()"
      ],
      "execution_count": 588,
      "outputs": [
        {
          "output_type": "stream",
          "text": [
            "<class 'pandas.core.frame.DataFrame'>\n",
            "Int64Index: 2671 entries, 0 to 2670\n",
            "Data columns (total 28 columns):\n",
            " #   Column        Non-Null Count  Dtype \n",
            "---  ------        --------------  ----- \n",
            " 0   Duration      2671 non-null   object\n",
            " 1   Total_Stops   2671 non-null   int64 \n",
            " 2   Date          2671 non-null   object\n",
            " 3   Month         2671 non-null   object\n",
            " 4   Year          2671 non-null   object\n",
            " 5   Dep_hour      2671 non-null   int64 \n",
            " 6   Dep_min       2671 non-null   int64 \n",
            " 7   Arrival_hour  2671 non-null   int64 \n",
            " 8   Arrival_min   2671 non-null   int64 \n",
            " 9   Airline B     2671 non-null   uint8 \n",
            " 10  Airline C     2671 non-null   uint8 \n",
            " 11  Airline D     2671 non-null   uint8 \n",
            " 12  Airline E     2671 non-null   uint8 \n",
            " 13  Airline F     2671 non-null   uint8 \n",
            " 14  Airline G     2671 non-null   uint8 \n",
            " 15  Airline H     2671 non-null   uint8 \n",
            " 16  Airline I     2671 non-null   uint8 \n",
            " 17  Chennai       2671 non-null   uint8 \n",
            " 18  Delhi         2671 non-null   uint8 \n",
            " 19  Kolkata       2671 non-null   uint8 \n",
            " 20  Mumbai        2671 non-null   uint8 \n",
            " 21  Cochin        2671 non-null   uint8 \n",
            " 22  Delhi         2671 non-null   uint8 \n",
            " 23  Hyderabad     2671 non-null   uint8 \n",
            " 24  Kolkata       2671 non-null   uint8 \n",
            " 25  New Delhi     2671 non-null   uint8 \n",
            " 26  Dep_Time      2671 non-null   object\n",
            " 27  Arrival_Time  2671 non-null   object\n",
            "dtypes: int64(5), object(6), uint8(17)\n",
            "memory usage: 294.7+ KB\n"
          ],
          "name": "stdout"
        }
      ]
    },
    {
      "cell_type": "code",
      "metadata": {
        "id": "l2aHN_QzU3HS"
      },
      "source": [
        "df_test[\"Duration\"] = df_test[\"Duration\"].astype(int)"
      ],
      "execution_count": 589,
      "outputs": []
    },
    {
      "cell_type": "code",
      "metadata": {
        "id": "GqKTe2lM5npS"
      },
      "source": [
        "#df_test[\"Travel_Time_Dep\"]=df_test[\"Travel_Time_Dep\"].replace({\"Morning\":1,\"Afternoon\":2,\"Evening\":3,\"Night\":4})"
      ],
      "execution_count": 590,
      "outputs": []
    },
    {
      "cell_type": "code",
      "metadata": {
        "id": "ACFhPVBL5rZk"
      },
      "source": [
        "#df_test[\"Travel_Time_Arrival\"]=df_test[\"Travel_Time_Arrival\"].replace({\"Morning\":1,\"Afternoon\":2,\"Evening\":3,\"Night\":4})"
      ],
      "execution_count": 591,
      "outputs": []
    },
    {
      "cell_type": "markdown",
      "metadata": {
        "id": "4bJZneUTVHn4"
      },
      "source": [
        "#Model Building\n"
      ]
    },
    {
      "cell_type": "code",
      "metadata": {
        "id": "aNtAyZjqVLT3"
      },
      "source": [
        "from sklearn import preprocessing\n",
        "df_train[\"Duration\"]= (df_train[\"Duration\"] - df_train[\"Duration\"].mean())/df_train[\"Duration\"].std()   #standardizing\n",
        "df_test[\"Duration\"]= (df_test[\"Duration\"] - df_test[\"Duration\"].mean())/df_test[\"Duration\"].std()"
      ],
      "execution_count": 592,
      "outputs": []
    },
    {
      "cell_type": "code",
      "metadata": {
        "id": "GccOxQl2iD5Z",
        "colab": {
          "base_uri": "https://localhost:8080/"
        },
        "outputId": "e06fcbdd-31a2-406c-a1dc-3c77ba8718fa"
      },
      "source": [
        "df_train.columns"
      ],
      "execution_count": 593,
      "outputs": [
        {
          "output_type": "execute_result",
          "data": {
            "text/plain": [
              "Index(['Duration', 'Total_Stops', 'Price', 'Journey_Day', 'Journey_Month',\n",
              "       'weekday', 'Dep_hour', 'Dep_min', 'Arrival_hour', 'Arrival_min',\n",
              "       'Travel_Time_Arrival', 'Travel_Time_Dep', 'Airline_Airline B',\n",
              "       'Airline_Airline C', 'Airline_Airline D', 'Airline_Airline E',\n",
              "       'Airline_Airline F', 'Airline_Airline G', 'Airline_Airline H',\n",
              "       'Airline_Airline I', 'Airline_Airline J', 'Airline_Airline K',\n",
              "       'Airline_Airline L', 'Source_Chennai', 'Source_Delhi', 'Source_Kolkata',\n",
              "       'Source_Mumbai', 'Destination_Cochin', 'Destination_Delhi',\n",
              "       'Destination_Hyderabad', 'Destination_Kolkata',\n",
              "       'Destination_New Delhi'],\n",
              "      dtype='object')"
            ]
          },
          "metadata": {
            "tags": []
          },
          "execution_count": 593
        }
      ]
    },
    {
      "cell_type": "code",
      "metadata": {
        "colab": {
          "base_uri": "https://localhost:8080/"
        },
        "id": "8Yr03o_A4XkF",
        "outputId": "1688029b-f40a-40cf-d1e3-0b919610222d"
      },
      "source": [
        "df_train.info()"
      ],
      "execution_count": 594,
      "outputs": [
        {
          "output_type": "stream",
          "text": [
            "<class 'pandas.core.frame.DataFrame'>\n",
            "Int64Index: 8011 entries, 0 to 8011\n",
            "Data columns (total 32 columns):\n",
            " #   Column                 Non-Null Count  Dtype  \n",
            "---  ------                 --------------  -----  \n",
            " 0   Duration               8011 non-null   float64\n",
            " 1   Total_Stops            8011 non-null   int64  \n",
            " 2   Price                  8011 non-null   int64  \n",
            " 3   Journey_Day            8011 non-null   int64  \n",
            " 4   Journey_Month          8011 non-null   int64  \n",
            " 5   weekday                8011 non-null   int64  \n",
            " 6   Dep_hour               8011 non-null   int64  \n",
            " 7   Dep_min                8011 non-null   int64  \n",
            " 8   Arrival_hour           8011 non-null   int64  \n",
            " 9   Arrival_min            8011 non-null   int64  \n",
            " 10  Travel_Time_Arrival    8011 non-null   int64  \n",
            " 11  Travel_Time_Dep        8011 non-null   int64  \n",
            " 12  Airline_Airline B      8011 non-null   uint8  \n",
            " 13  Airline_Airline C      8011 non-null   uint8  \n",
            " 14  Airline_Airline D      8011 non-null   uint8  \n",
            " 15  Airline_Airline E      8011 non-null   uint8  \n",
            " 16  Airline_Airline F      8011 non-null   uint8  \n",
            " 17  Airline_Airline G      8011 non-null   uint8  \n",
            " 18  Airline_Airline H      8011 non-null   uint8  \n",
            " 19  Airline_Airline I      8011 non-null   uint8  \n",
            " 20  Airline_Airline J      8011 non-null   uint8  \n",
            " 21  Airline_Airline K      8011 non-null   uint8  \n",
            " 22  Airline_Airline L      8011 non-null   uint8  \n",
            " 23  Source_Chennai         8011 non-null   uint8  \n",
            " 24  Source_Delhi           8011 non-null   uint8  \n",
            " 25  Source_Kolkata         8011 non-null   uint8  \n",
            " 26  Source_Mumbai          8011 non-null   uint8  \n",
            " 27  Destination_Cochin     8011 non-null   uint8  \n",
            " 28  Destination_Delhi      8011 non-null   uint8  \n",
            " 29  Destination_Hyderabad  8011 non-null   uint8  \n",
            " 30  Destination_Kolkata    8011 non-null   uint8  \n",
            " 31  Destination_New Delhi  8011 non-null   uint8  \n",
            "dtypes: float64(1), int64(11), uint8(20)\n",
            "memory usage: 1.3 MB\n"
          ],
          "name": "stdout"
        }
      ]
    },
    {
      "cell_type": "code",
      "metadata": {
        "id": "YSlon4hSh-dt",
        "colab": {
          "base_uri": "https://localhost:8080/",
          "height": 239
        },
        "outputId": "30074e8f-32db-4545-94d2-64c99abfa153"
      },
      "source": [
        "X = df_train.loc[:,['Duration', 'Total_Stops', 'Journey_Day', 'Journey_Month',\n",
        "       'weekday', 'Dep_hour', 'Dep_min', 'Arrival_hour', 'Arrival_min',\n",
        "       'Airline_Airline B','Airline_Airline C', 'Airline_Airline D', 'Airline_Airline E',\n",
        "       'Airline_Airline F', 'Airline_Airline G', 'Airline_Airline H',\n",
        "       'Airline_Airline I', 'Airline_Airline J', 'Airline_Airline K',\n",
        "       'Airline_Airline L', 'Source_Chennai', 'Source_Delhi', 'Source_Kolkata',\n",
        "       'Source_Mumbai', 'Destination_Cochin', 'Destination_Delhi',\n",
        "       'Destination_Hyderabad', 'Destination_Kolkata',\n",
        "       'Destination_New Delhi']]\n",
        "X.head()"
      ],
      "execution_count": 595,
      "outputs": [
        {
          "output_type": "execute_result",
          "data": {
            "text/html": [
              "<div>\n",
              "<style scoped>\n",
              "    .dataframe tbody tr th:only-of-type {\n",
              "        vertical-align: middle;\n",
              "    }\n",
              "\n",
              "    .dataframe tbody tr th {\n",
              "        vertical-align: top;\n",
              "    }\n",
              "\n",
              "    .dataframe thead th {\n",
              "        text-align: right;\n",
              "    }\n",
              "</style>\n",
              "<table border=\"1\" class=\"dataframe\">\n",
              "  <thead>\n",
              "    <tr style=\"text-align: right;\">\n",
              "      <th></th>\n",
              "      <th>Duration</th>\n",
              "      <th>Total_Stops</th>\n",
              "      <th>Journey_Day</th>\n",
              "      <th>Journey_Month</th>\n",
              "      <th>weekday</th>\n",
              "      <th>Dep_hour</th>\n",
              "      <th>Dep_min</th>\n",
              "      <th>Arrival_hour</th>\n",
              "      <th>Arrival_min</th>\n",
              "      <th>Airline_Airline B</th>\n",
              "      <th>Airline_Airline C</th>\n",
              "      <th>Airline_Airline D</th>\n",
              "      <th>Airline_Airline E</th>\n",
              "      <th>Airline_Airline F</th>\n",
              "      <th>Airline_Airline G</th>\n",
              "      <th>Airline_Airline H</th>\n",
              "      <th>Airline_Airline I</th>\n",
              "      <th>Airline_Airline J</th>\n",
              "      <th>Airline_Airline K</th>\n",
              "      <th>Airline_Airline L</th>\n",
              "      <th>Source_Chennai</th>\n",
              "      <th>Source_Delhi</th>\n",
              "      <th>Source_Kolkata</th>\n",
              "      <th>Source_Mumbai</th>\n",
              "      <th>Destination_Cochin</th>\n",
              "      <th>Destination_Delhi</th>\n",
              "      <th>Destination_Hyderabad</th>\n",
              "      <th>Destination_Kolkata</th>\n",
              "      <th>Destination_New Delhi</th>\n",
              "    </tr>\n",
              "  </thead>\n",
              "  <tbody>\n",
              "    <tr>\n",
              "      <th>0</th>\n",
              "      <td>0.245646</td>\n",
              "      <td>1</td>\n",
              "      <td>12</td>\n",
              "      <td>6</td>\n",
              "      <td>2</td>\n",
              "      <td>20</td>\n",
              "      <td>40</td>\n",
              "      <td>9</td>\n",
              "      <td>25</td>\n",
              "      <td>0</td>\n",
              "      <td>1</td>\n",
              "      <td>0</td>\n",
              "      <td>0</td>\n",
              "      <td>0</td>\n",
              "      <td>0</td>\n",
              "      <td>0</td>\n",
              "      <td>0</td>\n",
              "      <td>0</td>\n",
              "      <td>0</td>\n",
              "      <td>0</td>\n",
              "      <td>0</td>\n",
              "      <td>1</td>\n",
              "      <td>0</td>\n",
              "      <td>0</td>\n",
              "      <td>1</td>\n",
              "      <td>0</td>\n",
              "      <td>0</td>\n",
              "      <td>0</td>\n",
              "      <td>0</td>\n",
              "    </tr>\n",
              "    <tr>\n",
              "      <th>1</th>\n",
              "      <td>-0.899792</td>\n",
              "      <td>0</td>\n",
              "      <td>18</td>\n",
              "      <td>6</td>\n",
              "      <td>1</td>\n",
              "      <td>18</td>\n",
              "      <td>55</td>\n",
              "      <td>22</td>\n",
              "      <td>0</td>\n",
              "      <td>0</td>\n",
              "      <td>0</td>\n",
              "      <td>0</td>\n",
              "      <td>0</td>\n",
              "      <td>0</td>\n",
              "      <td>0</td>\n",
              "      <td>0</td>\n",
              "      <td>0</td>\n",
              "      <td>0</td>\n",
              "      <td>0</td>\n",
              "      <td>0</td>\n",
              "      <td>0</td>\n",
              "      <td>0</td>\n",
              "      <td>0</td>\n",
              "      <td>0</td>\n",
              "      <td>0</td>\n",
              "      <td>1</td>\n",
              "      <td>0</td>\n",
              "      <td>0</td>\n",
              "      <td>0</td>\n",
              "    </tr>\n",
              "    <tr>\n",
              "      <th>2</th>\n",
              "      <td>0.561629</td>\n",
              "      <td>1</td>\n",
              "      <td>18</td>\n",
              "      <td>5</td>\n",
              "      <td>5</td>\n",
              "      <td>3</td>\n",
              "      <td>50</td>\n",
              "      <td>19</td>\n",
              "      <td>15</td>\n",
              "      <td>0</td>\n",
              "      <td>1</td>\n",
              "      <td>0</td>\n",
              "      <td>0</td>\n",
              "      <td>0</td>\n",
              "      <td>0</td>\n",
              "      <td>0</td>\n",
              "      <td>0</td>\n",
              "      <td>0</td>\n",
              "      <td>0</td>\n",
              "      <td>0</td>\n",
              "      <td>0</td>\n",
              "      <td>1</td>\n",
              "      <td>0</td>\n",
              "      <td>0</td>\n",
              "      <td>1</td>\n",
              "      <td>0</td>\n",
              "      <td>0</td>\n",
              "      <td>0</td>\n",
              "      <td>0</td>\n",
              "    </tr>\n",
              "    <tr>\n",
              "      <th>3</th>\n",
              "      <td>0.186399</td>\n",
              "      <td>1</td>\n",
              "      <td>6</td>\n",
              "      <td>5</td>\n",
              "      <td>0</td>\n",
              "      <td>20</td>\n",
              "      <td>0</td>\n",
              "      <td>8</td>\n",
              "      <td>15</td>\n",
              "      <td>0</td>\n",
              "      <td>0</td>\n",
              "      <td>0</td>\n",
              "      <td>0</td>\n",
              "      <td>0</td>\n",
              "      <td>0</td>\n",
              "      <td>0</td>\n",
              "      <td>0</td>\n",
              "      <td>0</td>\n",
              "      <td>0</td>\n",
              "      <td>0</td>\n",
              "      <td>0</td>\n",
              "      <td>0</td>\n",
              "      <td>1</td>\n",
              "      <td>0</td>\n",
              "      <td>0</td>\n",
              "      <td>0</td>\n",
              "      <td>0</td>\n",
              "      <td>0</td>\n",
              "      <td>0</td>\n",
              "    </tr>\n",
              "    <tr>\n",
              "      <th>4</th>\n",
              "      <td>-0.613432</td>\n",
              "      <td>1</td>\n",
              "      <td>9</td>\n",
              "      <td>5</td>\n",
              "      <td>3</td>\n",
              "      <td>6</td>\n",
              "      <td>30</td>\n",
              "      <td>12</td>\n",
              "      <td>0</td>\n",
              "      <td>0</td>\n",
              "      <td>0</td>\n",
              "      <td>0</td>\n",
              "      <td>0</td>\n",
              "      <td>0</td>\n",
              "      <td>0</td>\n",
              "      <td>0</td>\n",
              "      <td>0</td>\n",
              "      <td>0</td>\n",
              "      <td>0</td>\n",
              "      <td>0</td>\n",
              "      <td>0</td>\n",
              "      <td>0</td>\n",
              "      <td>1</td>\n",
              "      <td>0</td>\n",
              "      <td>0</td>\n",
              "      <td>0</td>\n",
              "      <td>0</td>\n",
              "      <td>0</td>\n",
              "      <td>0</td>\n",
              "    </tr>\n",
              "  </tbody>\n",
              "</table>\n",
              "</div>"
            ],
            "text/plain": [
              "   Duration  Total_Stops  ...  Destination_Kolkata  Destination_New Delhi\n",
              "0  0.245646            1  ...                    0                      0\n",
              "1 -0.899792            0  ...                    0                      0\n",
              "2  0.561629            1  ...                    0                      0\n",
              "3  0.186399            1  ...                    0                      0\n",
              "4 -0.613432            1  ...                    0                      0\n",
              "\n",
              "[5 rows x 29 columns]"
            ]
          },
          "metadata": {
            "tags": []
          },
          "execution_count": 595
        }
      ]
    },
    {
      "cell_type": "code",
      "metadata": {
        "id": "EuwOaRpblKqg",
        "colab": {
          "base_uri": "https://localhost:8080/"
        },
        "outputId": "ea32e5df-ca97-42a6-8dcf-9d4ce26f25b9"
      },
      "source": [
        "y=df_train[\"Price\"]\n",
        "y.head()"
      ],
      "execution_count": 596,
      "outputs": [
        {
          "output_type": "execute_result",
          "data": {
            "text/plain": [
              "0    7480\n",
              "1    8016\n",
              "2    8879\n",
              "3    9663\n",
              "4    9663\n",
              "Name: Price, dtype: int64"
            ]
          },
          "metadata": {
            "tags": []
          },
          "execution_count": 596
        }
      ]
    },
    {
      "cell_type": "code",
      "metadata": {
        "id": "bVSkkfOlgagt"
      },
      "source": [
        "X=df_train.drop([\"Price\"],axis=1)\n",
        "Y=df_train[\"Price\"]\n",
        "x=np.array(X)\n",
        "y=np.array(Y)"
      ],
      "execution_count": 597,
      "outputs": []
    },
    {
      "cell_type": "code",
      "metadata": {
        "id": "eS3gfzUegh3L"
      },
      "source": [
        "from sklearn.ensemble import GradientBoostingRegressor\n",
        "from xgboost import XGBRegressor\n",
        "from sklearn.model_selection import GridSearchCV, cross_val_score\n",
        "from sklearn.metrics import make_scorer\n",
        "from sklearn.neighbors import KNeighborsRegressor\n",
        "from sklearn.ensemble import RandomForestRegressor"
      ],
      "execution_count": 598,
      "outputs": []
    },
    {
      "cell_type": "code",
      "metadata": {
        "id": "6Wb6p_magkjP"
      },
      "source": [
        "gbm = GradientBoostingRegressor()\n",
        "xgb = XGBRegressor()"
      ],
      "execution_count": 599,
      "outputs": []
    },
    {
      "cell_type": "code",
      "metadata": {
        "id": "q1XVnxp8gnoS"
      },
      "source": [
        "best_gbm = GridSearchCV(gbm, param_grid={'learning_rate':[0.01,0.05,0.1],'max_depth':[1,2,3],'n_estimators':[100,200,500]}, cv=5, n_jobs=-1)\n",
        "best_xgb = GridSearchCV(xgb, param_grid={'learning_rate':[0.01,0.05,0.1],'max_depth':[1,2,3],'n_estimators':[100,200,500]}, cv=5, n_jobs=-1)"
      ],
      "execution_count": 600,
      "outputs": []
    },
    {
      "cell_type": "code",
      "metadata": {
        "id": "hIZPWObhgski",
        "colab": {
          "base_uri": "https://localhost:8080/"
        },
        "outputId": "a301c2b3-bb74-48f8-942a-47975751cc46"
      },
      "source": [
        "best_gbm.fit(x,y)\n",
        "best_xgb.fit(x,y)"
      ],
      "execution_count": 601,
      "outputs": [
        {
          "output_type": "stream",
          "text": [
            "[18:12:58] WARNING: /workspace/src/objective/regression_obj.cu:152: reg:linear is now deprecated in favor of reg:squarederror.\n"
          ],
          "name": "stdout"
        },
        {
          "output_type": "execute_result",
          "data": {
            "text/plain": [
              "GridSearchCV(cv=5, error_score=nan,\n",
              "             estimator=XGBRegressor(base_score=0.5, booster='gbtree',\n",
              "                                    colsample_bylevel=1, colsample_bynode=1,\n",
              "                                    colsample_bytree=1, gamma=0,\n",
              "                                    importance_type='gain', learning_rate=0.1,\n",
              "                                    max_delta_step=0, max_depth=3,\n",
              "                                    min_child_weight=1, missing=None,\n",
              "                                    n_estimators=100, n_jobs=1, nthread=None,\n",
              "                                    objective='reg:linear', random_state=0,\n",
              "                                    reg_alpha=0, reg_lambda=1,\n",
              "                                    scale_pos_weight=1, seed=None, silent=None,\n",
              "                                    subsample=1, verbosity=1),\n",
              "             iid='deprecated', n_jobs=-1,\n",
              "             param_grid={'learning_rate': [0.01, 0.05, 0.1],\n",
              "                         'max_depth': [1, 2, 3],\n",
              "                         'n_estimators': [100, 200, 500]},\n",
              "             pre_dispatch='2*n_jobs', refit=True, return_train_score=False,\n",
              "             scoring=None, verbose=0)"
            ]
          },
          "metadata": {
            "tags": []
          },
          "execution_count": 601
        }
      ]
    },
    {
      "cell_type": "code",
      "metadata": {
        "id": "I4ucCYGVlbqh",
        "colab": {
          "base_uri": "https://localhost:8080/"
        },
        "outputId": "5b320f99-75e6-4833-c76a-1165dee3b9a1"
      },
      "source": [
        "# Important feature using ExtraTreesRegressor\n",
        "\n",
        "from sklearn.ensemble import ExtraTreesRegressor\n",
        "selection = ExtraTreesRegressor()\n",
        "selection.fit(X, y)"
      ],
      "execution_count": 602,
      "outputs": [
        {
          "output_type": "execute_result",
          "data": {
            "text/plain": [
              "ExtraTreesRegressor(bootstrap=False, ccp_alpha=0.0, criterion='mse',\n",
              "                    max_depth=None, max_features='auto', max_leaf_nodes=None,\n",
              "                    max_samples=None, min_impurity_decrease=0.0,\n",
              "                    min_impurity_split=None, min_samples_leaf=1,\n",
              "                    min_samples_split=2, min_weight_fraction_leaf=0.0,\n",
              "                    n_estimators=100, n_jobs=None, oob_score=False,\n",
              "                    random_state=None, verbose=0, warm_start=False)"
            ]
          },
          "metadata": {
            "tags": []
          },
          "execution_count": 602
        }
      ]
    },
    {
      "cell_type": "code",
      "metadata": {
        "id": "MLkIKbC2lfgU",
        "colab": {
          "base_uri": "https://localhost:8080/"
        },
        "outputId": "cfe4bf18-c98f-45d8-d6af-e973b22ea372"
      },
      "source": [
        "print(selection.feature_importances_)"
      ],
      "execution_count": 603,
      "outputs": [
        {
          "output_type": "stream",
          "text": [
            "[1.19651391e-01 2.18168163e-01 1.12604434e-01 4.41402188e-02\n",
            " 3.01268854e-02 1.95763713e-02 2.40461280e-02 2.07696192e-02\n",
            " 1.99546245e-02 9.70245591e-03 1.38262106e-02 9.78707470e-02\n",
            " 2.77998206e-02 8.56644629e-03 5.29439728e-02 8.09427405e-03\n",
            " 1.31973156e-02 9.57748361e-03 2.22888132e-04 8.14090434e-02\n",
            " 8.42914142e-05 5.01343082e-04 7.71247653e-04 5.35041979e-03\n",
            " 4.77935839e-03 4.02815946e-03 5.95025155e-03 1.82302600e-02\n",
            " 4.83544998e-03 8.48398190e-04 2.23723276e-02]\n"
          ],
          "name": "stdout"
        }
      ]
    },
    {
      "cell_type": "code",
      "metadata": {
        "id": "A3wC-wclljLG",
        "colab": {
          "base_uri": "https://localhost:8080/",
          "height": 483
        },
        "outputId": "1b297548-2d8a-4f31-93dc-6fe452f23a05"
      },
      "source": [
        "#plot graph of feature importances for better visualization\n",
        "\n",
        "plt.figure(figsize = (12,8))\n",
        "feat_importances = pd.Series(selection.feature_importances_, index=X.columns)\n",
        "feat_importances.nlargest(20).plot(kind='barh')\n",
        "plt.show()"
      ],
      "execution_count": 604,
      "outputs": [
        {
          "output_type": "display_data",
          "data": {
            "image/png": "[encoded data removed]",
            "text/plain": [
              "<Figure size 864x576 with 1 Axes>"
            ]
          },
          "metadata": {
            "tags": [],
            "needs_background": "light"
          }
        }
      ]
    },
    {
      "cell_type": "code",
      "metadata": {
        "id": "_OXhwgjtlquJ"
      },
      "source": [
        "from sklearn.model_selection import train_test_split\n",
        "X_train, X_test, y_train, y_test = train_test_split(X, y, test_size = 0.2, random_state = 42)"
      ],
      "execution_count": 605,
      "outputs": []
    },
    {
      "cell_type": "code",
      "metadata": {
        "id": "MYSDQOClltZA",
        "colab": {
          "base_uri": "https://localhost:8080/"
        },
        "outputId": "49bdf13f-b217-4813-837a-a7dd9ab6aee4"
      },
      "source": [
        "from sklearn.ensemble import RandomForestRegressor\n",
        "reg_rf = RandomForestRegressor()\n",
        "reg_rf.fit(X_train, y_train)"
      ],
      "execution_count": 606,
      "outputs": [
        {
          "output_type": "execute_result",
          "data": {
            "text/plain": [
              "RandomForestRegressor(bootstrap=True, ccp_alpha=0.0, criterion='mse',\n",
              "                      max_depth=None, max_features='auto', max_leaf_nodes=None,\n",
              "                      max_samples=None, min_impurity_decrease=0.0,\n",
              "                      min_impurity_split=None, min_samples_leaf=1,\n",
              "                      min_samples_split=2, min_weight_fraction_leaf=0.0,\n",
              "                      n_estimators=100, n_jobs=None, oob_score=False,\n",
              "                      random_state=None, verbose=0, warm_start=False)"
            ]
          },
          "metadata": {
            "tags": []
          },
          "execution_count": 606
        }
      ]
    },
    {
      "cell_type": "code",
      "metadata": {
        "id": "8FZyK8jwlw6-"
      },
      "source": [
        "y_pred = reg_rf.predict(X_test)"
      ],
      "execution_count": 607,
      "outputs": []
    },
    {
      "cell_type": "code",
      "metadata": {
        "id": "Ih_uXRDLl0pf",
        "colab": {
          "base_uri": "https://localhost:8080/"
        },
        "outputId": "4944e393-b49c-47d0-d19b-7dd5be6995b6"
      },
      "source": [
        "reg_rf.score(X_train, y_train)"
      ],
      "execution_count": 608,
      "outputs": [
        {
          "output_type": "execute_result",
          "data": {
            "text/plain": [
              "0.9621966983548922"
            ]
          },
          "metadata": {
            "tags": []
          },
          "execution_count": 608
        }
      ]
    },
    {
      "cell_type": "code",
      "metadata": {
        "id": "pCd1UKnvl5UV",
        "colab": {
          "base_uri": "https://localhost:8080/"
        },
        "outputId": "bd52225d-c1aa-48ab-99d7-94efbec30305"
      },
      "source": [
        "\n",
        "reg_rf.score(X_test, y_test)\n"
      ],
      "execution_count": 609,
      "outputs": [
        {
          "output_type": "execute_result",
          "data": {
            "text/plain": [
              "0.8006580075275317"
            ]
          },
          "metadata": {
            "tags": []
          },
          "execution_count": 609
        }
      ]
    },
    {
      "cell_type": "code",
      "metadata": {
        "id": "rEDX-ex-l_Nf",
        "colab": {
          "base_uri": "https://localhost:8080/",
          "height": 320
        },
        "outputId": "311a67cd-df81-403c-c266-f8998e811077"
      },
      "source": [
        "sns.distplot(y_test-y_pred)\n",
        "plt.show()"
      ],
      "execution_count": 610,
      "outputs": [
        {
          "output_type": "stream",
          "text": [
            "/usr/local/lib/python3.7/dist-packages/seaborn/distributions.py:2557: FutureWarning: `distplot` is a deprecated function and will be removed in a future version. Please adapt your code to use either `displot` (a figure-level function with similar flexibility) or `histplot` (an axes-level function for histograms).\n",
            "  warnings.warn(msg, FutureWarning)\n"
          ],
          "name": "stderr"
        },
        {
          "output_type": "display_data",
          "data": {
            "image/png": "[encoded data removed]",
            "text/plain": [
              "<Figure size 432x288 with 1 Axes>"
            ]
          },
          "metadata": {
            "tags": [],
            "needs_background": "light"
          }
        }
      ]
    },
    {
      "cell_type": "code",
      "metadata": {
        "id": "ZPDC2d2CmC3c",
        "colab": {
          "base_uri": "https://localhost:8080/",
          "height": 280
        },
        "outputId": "1aedd7e8-5fda-447b-cb7a-64fd033fc724"
      },
      "source": [
        "\n",
        "plt.scatter(y_test, y_pred, alpha = 0.5)\n",
        "plt.xlabel(\"y_test\")\n",
        "plt.ylabel(\"y_pred\")\n",
        "plt.show()"
      ],
      "execution_count": 611,
      "outputs": [
        {
          "output_type": "display_data",
          "data": {
            "image/png": "[encoded data removed]",
            "text/plain": [
              "<Figure size 432x288 with 1 Axes>"
            ]
          },
          "metadata": {
            "tags": [],
            "needs_background": "light"
          }
        }
      ]
    },
    {
      "cell_type": "code",
      "metadata": {
        "id": "mB0admwamJXb"
      },
      "source": [
        "from sklearn import metrics"
      ],
      "execution_count": 612,
      "outputs": []
    },
    {
      "cell_type": "code",
      "metadata": {
        "id": "rJO_fxyYmL8H",
        "colab": {
          "base_uri": "https://localhost:8080/"
        },
        "outputId": "80c872d1-78f9-4053-e1ad-e584ce1ce72b"
      },
      "source": [
        "print('MAE:', metrics.mean_absolute_error(y_test, y_pred))\n",
        "print('MSE:', metrics.mean_squared_error(y_test, y_pred))\n",
        "print('RMSE:', np.sqrt(metrics.mean_squared_error(y_test, y_pred)))"
      ],
      "execution_count": 613,
      "outputs": [
        {
          "output_type": "stream",
          "text": [
            "MAE: 1205.9452642947786\n",
            "MSE: 4220468.686279866\n",
            "RMSE: 2054.377931705816\n"
          ],
          "name": "stdout"
        }
      ]
    },
    {
      "cell_type": "code",
      "metadata": {
        "id": "G-bnjrD7mQhJ",
        "colab": {
          "base_uri": "https://localhost:8080/"
        },
        "outputId": "77ba14e7-d857-4817-d489-28eb10f8cbf1"
      },
      "source": [
        "metrics.r2_score(y_test, y_pred)"
      ],
      "execution_count": 614,
      "outputs": [
        {
          "output_type": "execute_result",
          "data": {
            "text/plain": [
              "0.8006580075275317"
            ]
          },
          "metadata": {
            "tags": []
          },
          "execution_count": 614
        }
      ]
    },
    {
      "cell_type": "markdown",
      "metadata": {
        "id": "7ekM7WBnm_-r"
      },
      "source": [
        "#Tuning\n"
      ]
    },
    {
      "cell_type": "code",
      "metadata": {
        "id": "g65N-hP7maV8"
      },
      "source": [
        "from sklearn.model_selection import RandomizedSearchCV"
      ],
      "execution_count": 615,
      "outputs": []
    },
    {
      "cell_type": "code",
      "metadata": {
        "id": "Alnr4s0anHWE"
      },
      "source": [
        "#Randomized Search CV\n",
        "\n",
        "# Number of trees in random forest\n",
        "n_estimators = [int(x) for x in np.linspace(start = 100, stop = 1200, num = 12)]\n",
        "# Number of features to consider at every split\n",
        "max_features = ['auto', 'sqrt']\n",
        "# Maximum number of levels in tree\n",
        "max_depth = [int(x) for x in np.linspace(5, 30, num = 6)]\n",
        "# Minimum number of samples required to split a node\n",
        "min_samples_split = [2, 5, 10, 15, 100]\n",
        "# Minimum number of samples required at each leaf node\n",
        "min_samples_leaf = [1, 2, 5, 10]"
      ],
      "execution_count": 616,
      "outputs": []
    },
    {
      "cell_type": "code",
      "metadata": {
        "id": "PslSjtDinO28"
      },
      "source": [
        "# Create the random grid\n",
        "\n",
        "random_grid = {'n_estimators': n_estimators,\n",
        "               'max_features': max_features,\n",
        "               'max_depth': max_depth,\n",
        "               'min_samples_split': min_samples_split,\n",
        "               'min_samples_leaf': min_samples_leaf}"
      ],
      "execution_count": 617,
      "outputs": []
    },
    {
      "cell_type": "code",
      "metadata": {
        "id": "Z1WDN43InR3D"
      },
      "source": [
        "# Random search of parameters, using 5 fold cross validation, \n",
        "# search across 100 different combinations\n",
        "rf_random = RandomizedSearchCV(estimator = reg_rf, param_distributions = random_grid,scoring='neg_mean_squared_error', n_iter = 10, cv = 5, verbose=2, random_state=42, n_jobs = 1)"
      ],
      "execution_count": 618,
      "outputs": []
    },
    {
      "cell_type": "code",
      "metadata": {
        "id": "FpLiUjv9nUKE",
        "colab": {
          "base_uri": "https://localhost:8080/"
        },
        "outputId": "4a572b4b-e8d3-4494-9165-b9b41195c7a6"
      },
      "source": [
        "rf_random.fit(X_train,y_train)"
      ],
      "execution_count": 619,
      "outputs": [
        {
          "output_type": "stream",
          "text": [
            "Fitting 5 folds for each of 10 candidates, totalling 50 fits\n",
            "[CV] n_estimators=900, min_samples_split=5, min_samples_leaf=5, max_features=sqrt, max_depth=10 \n"
          ],
          "name": "stdout"
        },
        {
          "output_type": "stream",
          "text": [
            "[Parallel(n_jobs=1)]: Using backend SequentialBackend with 1 concurrent workers.\n"
          ],
          "name": "stderr"
        },
        {
          "output_type": "stream",
          "text": [
            "[CV]  n_estimators=900, min_samples_split=5, min_samples_leaf=5, max_features=sqrt, max_depth=10, total=   3.6s\n",
            "[CV] n_estimators=900, min_samples_split=5, min_samples_leaf=5, max_features=sqrt, max_depth=10 \n"
          ],
          "name": "stdout"
        },
        {
          "output_type": "stream",
          "text": [
            "[Parallel(n_jobs=1)]: Done   1 out of   1 | elapsed:    3.6s remaining:    0.0s\n"
          ],
          "name": "stderr"
        },
        {
          "output_type": "stream",
          "text": [
            "[CV]  n_estimators=900, min_samples_split=5, min_samples_leaf=5, max_features=sqrt, max_depth=10, total=   3.9s\n",
            "[CV] n_estimators=900, min_samples_split=5, min_samples_leaf=5, max_features=sqrt, max_depth=10 \n",
            "[CV]  n_estimators=900, min_samples_split=5, min_samples_leaf=5, max_features=sqrt, max_depth=10, total=   3.6s\n",
            "[CV] n_estimators=900, min_samples_split=5, min_samples_leaf=5, max_features=sqrt, max_depth=10 \n",
            "[CV]  n_estimators=900, min_samples_split=5, min_samples_leaf=5, max_features=sqrt, max_depth=10, total=   3.5s\n",
            "[CV] n_estimators=900, min_samples_split=5, min_samples_leaf=5, max_features=sqrt, max_depth=10 \n",
            "[CV]  n_estimators=900, min_samples_split=5, min_samples_leaf=5, max_features=sqrt, max_depth=10, total=   3.5s\n",
            "[CV] n_estimators=1100, min_samples_split=10, min_samples_leaf=2, max_features=sqrt, max_depth=15 \n",
            "[CV]  n_estimators=1100, min_samples_split=10, min_samples_leaf=2, max_features=sqrt, max_depth=15, total=   5.3s\n",
            "[CV] n_estimators=1100, min_samples_split=10, min_samples_leaf=2, max_features=sqrt, max_depth=15 \n",
            "[CV]  n_estimators=1100, min_samples_split=10, min_samples_leaf=2, max_features=sqrt, max_depth=15, total=   5.4s\n",
            "[CV] n_estimators=1100, min_samples_split=10, min_samples_leaf=2, max_features=sqrt, max_depth=15 \n",
            "[CV]  n_estimators=1100, min_samples_split=10, min_samples_leaf=2, max_features=sqrt, max_depth=15, total=   5.3s\n",
            "[CV] n_estimators=1100, min_samples_split=10, min_samples_leaf=2, max_features=sqrt, max_depth=15 \n",
            "[CV]  n_estimators=1100, min_samples_split=10, min_samples_leaf=2, max_features=sqrt, max_depth=15, total=   5.4s\n",
            "[CV] n_estimators=1100, min_samples_split=10, min_samples_leaf=2, max_features=sqrt, max_depth=15 \n",
            "[CV]  n_estimators=1100, min_samples_split=10, min_samples_leaf=2, max_features=sqrt, max_depth=15, total=   5.4s\n",
            "[CV] n_estimators=300, min_samples_split=100, min_samples_leaf=5, max_features=auto, max_depth=15 \n",
            "[CV]  n_estimators=300, min_samples_split=100, min_samples_leaf=5, max_features=auto, max_depth=15, total=   3.7s\n",
            "[CV] n_estimators=300, min_samples_split=100, min_samples_leaf=5, max_features=auto, max_depth=15 \n",
            "[CV]  n_estimators=300, min_samples_split=100, min_samples_leaf=5, max_features=auto, max_depth=15, total=   3.8s\n",
            "[CV] n_estimators=300, min_samples_split=100, min_samples_leaf=5, max_features=auto, max_depth=15 \n",
            "[CV]  n_estimators=300, min_samples_split=100, min_samples_leaf=5, max_features=auto, max_depth=15, total=   3.7s\n",
            "[CV] n_estimators=300, min_samples_split=100, min_samples_leaf=5, max_features=auto, max_depth=15 \n",
            "[CV]  n_estimators=300, min_samples_split=100, min_samples_leaf=5, max_features=auto, max_depth=15, total=   3.7s\n",
            "[CV] n_estimators=300, min_samples_split=100, min_samples_leaf=5, max_features=auto, max_depth=15 \n",
            "[CV]  n_estimators=300, min_samples_split=100, min_samples_leaf=5, max_features=auto, max_depth=15, total=   3.7s\n",
            "[CV] n_estimators=400, min_samples_split=5, min_samples_leaf=5, max_features=auto, max_depth=15 \n",
            "[CV]  n_estimators=400, min_samples_split=5, min_samples_leaf=5, max_features=auto, max_depth=15, total=   6.5s\n",
            "[CV] n_estimators=400, min_samples_split=5, min_samples_leaf=5, max_features=auto, max_depth=15 \n",
            "[CV]  n_estimators=400, min_samples_split=5, min_samples_leaf=5, max_features=auto, max_depth=15, total=   6.6s\n",
            "[CV] n_estimators=400, min_samples_split=5, min_samples_leaf=5, max_features=auto, max_depth=15 \n",
            "[CV]  n_estimators=400, min_samples_split=5, min_samples_leaf=5, max_features=auto, max_depth=15, total=   6.5s\n",
            "[CV] n_estimators=400, min_samples_split=5, min_samples_leaf=5, max_features=auto, max_depth=15 \n",
            "[CV]  n_estimators=400, min_samples_split=5, min_samples_leaf=5, max_features=auto, max_depth=15, total=   6.5s\n",
            "[CV] n_estimators=400, min_samples_split=5, min_samples_leaf=5, max_features=auto, max_depth=15 \n",
            "[CV]  n_estimators=400, min_samples_split=5, min_samples_leaf=5, max_features=auto, max_depth=15, total=   6.5s\n",
            "[CV] n_estimators=700, min_samples_split=5, min_samples_leaf=10, max_features=auto, max_depth=20 \n",
            "[CV]  n_estimators=700, min_samples_split=5, min_samples_leaf=10, max_features=auto, max_depth=20, total=  10.5s\n",
            "[CV] n_estimators=700, min_samples_split=5, min_samples_leaf=10, max_features=auto, max_depth=20 \n",
            "[CV]  n_estimators=700, min_samples_split=5, min_samples_leaf=10, max_features=auto, max_depth=20, total=  10.6s\n",
            "[CV] n_estimators=700, min_samples_split=5, min_samples_leaf=10, max_features=auto, max_depth=20 \n",
            "[CV]  n_estimators=700, min_samples_split=5, min_samples_leaf=10, max_features=auto, max_depth=20, total=  10.5s\n",
            "[CV] n_estimators=700, min_samples_split=5, min_samples_leaf=10, max_features=auto, max_depth=20 \n",
            "[CV]  n_estimators=700, min_samples_split=5, min_samples_leaf=10, max_features=auto, max_depth=20, total=  10.5s\n",
            "[CV] n_estimators=700, min_samples_split=5, min_samples_leaf=10, max_features=auto, max_depth=20 \n",
            "[CV]  n_estimators=700, min_samples_split=5, min_samples_leaf=10, max_features=auto, max_depth=20, total=  10.6s\n",
            "[CV] n_estimators=1000, min_samples_split=2, min_samples_leaf=1, max_features=sqrt, max_depth=25 \n",
            "[CV]  n_estimators=1000, min_samples_split=2, min_samples_leaf=1, max_features=sqrt, max_depth=25, total=   7.9s\n",
            "[CV] n_estimators=1000, min_samples_split=2, min_samples_leaf=1, max_features=sqrt, max_depth=25 \n",
            "[CV]  n_estimators=1000, min_samples_split=2, min_samples_leaf=1, max_features=sqrt, max_depth=25, total=   7.7s\n",
            "[CV] n_estimators=1000, min_samples_split=2, min_samples_leaf=1, max_features=sqrt, max_depth=25 \n",
            "[CV]  n_estimators=1000, min_samples_split=2, min_samples_leaf=1, max_features=sqrt, max_depth=25, total=   7.6s\n",
            "[CV] n_estimators=1000, min_samples_split=2, min_samples_leaf=1, max_features=sqrt, max_depth=25 \n",
            "[CV]  n_estimators=1000, min_samples_split=2, min_samples_leaf=1, max_features=sqrt, max_depth=25, total=   7.6s\n",
            "[CV] n_estimators=1000, min_samples_split=2, min_samples_leaf=1, max_features=sqrt, max_depth=25 \n",
            "[CV]  n_estimators=1000, min_samples_split=2, min_samples_leaf=1, max_features=sqrt, max_depth=25, total=   7.6s\n",
            "[CV] n_estimators=1100, min_samples_split=15, min_samples_leaf=10, max_features=sqrt, max_depth=5 \n",
            "[CV]  n_estimators=1100, min_samples_split=15, min_samples_leaf=10, max_features=sqrt, max_depth=5, total=   3.0s\n",
            "[CV] n_estimators=1100, min_samples_split=15, min_samples_leaf=10, max_features=sqrt, max_depth=5 \n",
            "[CV]  n_estimators=1100, min_samples_split=15, min_samples_leaf=10, max_features=sqrt, max_depth=5, total=   3.0s\n",
            "[CV] n_estimators=1100, min_samples_split=15, min_samples_leaf=10, max_features=sqrt, max_depth=5 \n",
            "[CV]  n_estimators=1100, min_samples_split=15, min_samples_leaf=10, max_features=sqrt, max_depth=5, total=   3.0s\n",
            "[CV] n_estimators=1100, min_samples_split=15, min_samples_leaf=10, max_features=sqrt, max_depth=5 \n",
            "[CV]  n_estimators=1100, min_samples_split=15, min_samples_leaf=10, max_features=sqrt, max_depth=5, total=   3.0s\n",
            "[CV] n_estimators=1100, min_samples_split=15, min_samples_leaf=10, max_features=sqrt, max_depth=5 \n",
            "[CV]  n_estimators=1100, min_samples_split=15, min_samples_leaf=10, max_features=sqrt, max_depth=5, total=   3.0s\n",
            "[CV] n_estimators=300, min_samples_split=15, min_samples_leaf=1, max_features=sqrt, max_depth=15 \n",
            "[CV]  n_estimators=300, min_samples_split=15, min_samples_leaf=1, max_features=sqrt, max_depth=15, total=   1.4s\n",
            "[CV] n_estimators=300, min_samples_split=15, min_samples_leaf=1, max_features=sqrt, max_depth=15 \n",
            "[CV]  n_estimators=300, min_samples_split=15, min_samples_leaf=1, max_features=sqrt, max_depth=15, total=   1.4s\n",
            "[CV] n_estimators=300, min_samples_split=15, min_samples_leaf=1, max_features=sqrt, max_depth=15 \n",
            "[CV]  n_estimators=300, min_samples_split=15, min_samples_leaf=1, max_features=sqrt, max_depth=15, total=   1.4s\n",
            "[CV] n_estimators=300, min_samples_split=15, min_samples_leaf=1, max_features=sqrt, max_depth=15 \n",
            "[CV]  n_estimators=300, min_samples_split=15, min_samples_leaf=1, max_features=sqrt, max_depth=15, total=   1.4s\n",
            "[CV] n_estimators=300, min_samples_split=15, min_samples_leaf=1, max_features=sqrt, max_depth=15 \n",
            "[CV]  n_estimators=300, min_samples_split=15, min_samples_leaf=1, max_features=sqrt, max_depth=15, total=   1.4s\n",
            "[CV] n_estimators=700, min_samples_split=10, min_samples_leaf=2, max_features=sqrt, max_depth=5 \n",
            "[CV]  n_estimators=700, min_samples_split=10, min_samples_leaf=2, max_features=sqrt, max_depth=5, total=   1.9s\n",
            "[CV] n_estimators=700, min_samples_split=10, min_samples_leaf=2, max_features=sqrt, max_depth=5 \n",
            "[CV]  n_estimators=700, min_samples_split=10, min_samples_leaf=2, max_features=sqrt, max_depth=5, total=   1.9s\n",
            "[CV] n_estimators=700, min_samples_split=10, min_samples_leaf=2, max_features=sqrt, max_depth=5 \n",
            "[CV]  n_estimators=700, min_samples_split=10, min_samples_leaf=2, max_features=sqrt, max_depth=5, total=   1.9s\n",
            "[CV] n_estimators=700, min_samples_split=10, min_samples_leaf=2, max_features=sqrt, max_depth=5 \n",
            "[CV]  n_estimators=700, min_samples_split=10, min_samples_leaf=2, max_features=sqrt, max_depth=5, total=   1.9s\n",
            "[CV] n_estimators=700, min_samples_split=10, min_samples_leaf=2, max_features=sqrt, max_depth=5 \n",
            "[CV]  n_estimators=700, min_samples_split=10, min_samples_leaf=2, max_features=sqrt, max_depth=5, total=   1.9s\n",
            "[CV] n_estimators=700, min_samples_split=15, min_samples_leaf=1, max_features=auto, max_depth=20 \n",
            "[CV]  n_estimators=700, min_samples_split=15, min_samples_leaf=1, max_features=auto, max_depth=20, total=  12.6s\n",
            "[CV] n_estimators=700, min_samples_split=15, min_samples_leaf=1, max_features=auto, max_depth=20 \n",
            "[CV]  n_estimators=700, min_samples_split=15, min_samples_leaf=1, max_features=auto, max_depth=20, total=  12.9s\n",
            "[CV] n_estimators=700, min_samples_split=15, min_samples_leaf=1, max_features=auto, max_depth=20 \n",
            "[CV]  n_estimators=700, min_samples_split=15, min_samples_leaf=1, max_features=auto, max_depth=20, total=  12.6s\n",
            "[CV] n_estimators=700, min_samples_split=15, min_samples_leaf=1, max_features=auto, max_depth=20 \n",
            "[CV]  n_estimators=700, min_samples_split=15, min_samples_leaf=1, max_features=auto, max_depth=20, total=  12.6s\n",
            "[CV] n_estimators=700, min_samples_split=15, min_samples_leaf=1, max_features=auto, max_depth=20 \n",
            "[CV]  n_estimators=700, min_samples_split=15, min_samples_leaf=1, max_features=auto, max_depth=20, total=  12.6s\n"
          ],
          "name": "stdout"
        },
        {
          "output_type": "stream",
          "text": [
            "[Parallel(n_jobs=1)]: Done  50 out of  50 | elapsed:  4.7min finished\n"
          ],
          "name": "stderr"
        },
        {
          "output_type": "execute_result",
          "data": {
            "text/plain": [
              "RandomizedSearchCV(cv=5, error_score=nan,\n",
              "                   estimator=RandomForestRegressor(bootstrap=True,\n",
              "                                                   ccp_alpha=0.0,\n",
              "                                                   criterion='mse',\n",
              "                                                   max_depth=None,\n",
              "                                                   max_features='auto',\n",
              "                                                   max_leaf_nodes=None,\n",
              "                                                   max_samples=None,\n",
              "                                                   min_impurity_decrease=0.0,\n",
              "                                                   min_impurity_split=None,\n",
              "                                                   min_samples_leaf=1,\n",
              "                                                   min_samples_split=2,\n",
              "                                                   min_weight_fraction_leaf=0.0,\n",
              "                                                   n_estimators=100,\n",
              "                                                   n_jobs=None, oob_score=Fals...\n",
              "                   iid='deprecated', n_iter=10, n_jobs=1,\n",
              "                   param_distributions={'max_depth': [5, 10, 15, 20, 25, 30],\n",
              "                                        'max_features': ['auto', 'sqrt'],\n",
              "                                        'min_samples_leaf': [1, 2, 5, 10],\n",
              "                                        'min_samples_split': [2, 5, 10, 15,\n",
              "                                                              100],\n",
              "                                        'n_estimators': [100, 200, 300, 400,\n",
              "                                                         500, 600, 700, 800,\n",
              "                                                         900, 1000, 1100,\n",
              "                                                         1200]},\n",
              "                   pre_dispatch='2*n_jobs', random_state=42, refit=True,\n",
              "                   return_train_score=False, scoring='neg_mean_squared_error',\n",
              "                   verbose=2)"
            ]
          },
          "metadata": {
            "tags": []
          },
          "execution_count": 619
        }
      ]
    },
    {
      "cell_type": "code",
      "metadata": {
        "id": "mWBBSJugnX3w",
        "colab": {
          "base_uri": "https://localhost:8080/"
        },
        "outputId": "fa365f79-9207-4dea-eacd-81f731099214"
      },
      "source": [
        "rf_random.best_params_"
      ],
      "execution_count": 620,
      "outputs": [
        {
          "output_type": "execute_result",
          "data": {
            "text/plain": [
              "{'max_depth': 20,\n",
              " 'max_features': 'auto',\n",
              " 'min_samples_leaf': 1,\n",
              " 'min_samples_split': 15,\n",
              " 'n_estimators': 700}"
            ]
          },
          "metadata": {
            "tags": []
          },
          "execution_count": 620
        }
      ]
    },
    {
      "cell_type": "code",
      "metadata": {
        "id": "hp3udSGfnZ4Q"
      },
      "source": [
        "prediction = rf_random.predict(X_test)"
      ],
      "execution_count": 621,
      "outputs": []
    },
    {
      "cell_type": "code",
      "metadata": {
        "id": "Y1WFjE-8ndof",
        "colab": {
          "base_uri": "https://localhost:8080/"
        },
        "outputId": "a382c18c-73eb-45e9-f483-11c2d5b9b435"
      },
      "source": [
        "print('MAE:', metrics.mean_absolute_error(y_test, prediction))\n",
        "print('MSE:', metrics.mean_squared_error(y_test, prediction))\n",
        "print('RMSE:', np.sqrt(metrics.mean_squared_error(y_test, prediction)))"
      ],
      "execution_count": 622,
      "outputs": [
        {
          "output_type": "stream",
          "text": [
            "MAE: 1189.147213009314\n",
            "MSE: 3905065.6968051014\n",
            "RMSE: 1976.1239072500239\n"
          ],
          "name": "stdout"
        }
      ]
    },
    {
      "cell_type": "markdown",
      "metadata": {
        "id": "_rmWlzycnw10"
      },
      "source": [
        "#Testing the model in df_test"
      ]
    },
    {
      "cell_type": "code",
      "metadata": {
        "id": "ubGtGs8Fn76g",
        "colab": {
          "base_uri": "https://localhost:8080/"
        },
        "outputId": "fbd59cd9-396e-4f31-b7e9-5a041b5dde1c"
      },
      "source": [
        "df_test.columns"
      ],
      "execution_count": 623,
      "outputs": [
        {
          "output_type": "execute_result",
          "data": {
            "text/plain": [
              "Index(['Duration', 'Total_Stops', 'Date', 'Month', 'Year', 'Dep_hour',\n",
              "       'Dep_min', 'Arrival_hour', 'Arrival_min', 'Airline B', 'Airline C',\n",
              "       'Airline D', 'Airline E', 'Airline F', 'Airline G', 'Airline H',\n",
              "       'Airline I', 'Chennai', 'Delhi', 'Kolkata', 'Mumbai', 'Cochin', 'Delhi',\n",
              "       'Hyderabad', 'Kolkata', 'New Delhi', 'Dep_Time', 'Arrival_Time'],\n",
              "      dtype='object')"
            ]
          },
          "metadata": {
            "tags": []
          },
          "execution_count": 623
        }
      ]
    },
    {
      "cell_type": "code",
      "metadata": {
        "id": "MZ7jD9ysppBx",
        "colab": {
          "base_uri": "https://localhost:8080/"
        },
        "outputId": "ba8a33e0-cfe6-4666-f1d5-b7d0c87a72a0"
      },
      "source": [
        "df_test.info()"
      ],
      "execution_count": 624,
      "outputs": [
        {
          "output_type": "stream",
          "text": [
            "<class 'pandas.core.frame.DataFrame'>\n",
            "Int64Index: 2671 entries, 0 to 2670\n",
            "Data columns (total 28 columns):\n",
            " #   Column        Non-Null Count  Dtype  \n",
            "---  ------        --------------  -----  \n",
            " 0   Duration      2671 non-null   float64\n",
            " 1   Total_Stops   2671 non-null   int64  \n",
            " 2   Date          2671 non-null   object \n",
            " 3   Month         2671 non-null   object \n",
            " 4   Year          2671 non-null   object \n",
            " 5   Dep_hour      2671 non-null   int64  \n",
            " 6   Dep_min       2671 non-null   int64  \n",
            " 7   Arrival_hour  2671 non-null   int64  \n",
            " 8   Arrival_min   2671 non-null   int64  \n",
            " 9   Airline B     2671 non-null   uint8  \n",
            " 10  Airline C     2671 non-null   uint8  \n",
            " 11  Airline D     2671 non-null   uint8  \n",
            " 12  Airline E     2671 non-null   uint8  \n",
            " 13  Airline F     2671 non-null   uint8  \n",
            " 14  Airline G     2671 non-null   uint8  \n",
            " 15  Airline H     2671 non-null   uint8  \n",
            " 16  Airline I     2671 non-null   uint8  \n",
            " 17  Chennai       2671 non-null   uint8  \n",
            " 18  Delhi         2671 non-null   uint8  \n",
            " 19  Kolkata       2671 non-null   uint8  \n",
            " 20  Mumbai        2671 non-null   uint8  \n",
            " 21  Cochin        2671 non-null   uint8  \n",
            " 22  Delhi         2671 non-null   uint8  \n",
            " 23  Hyderabad     2671 non-null   uint8  \n",
            " 24  Kolkata       2671 non-null   uint8  \n",
            " 25  New Delhi     2671 non-null   uint8  \n",
            " 26  Dep_Time      2671 non-null   object \n",
            " 27  Arrival_Time  2671 non-null   object \n",
            "dtypes: float64(1), int64(5), object(5), uint8(17)\n",
            "memory usage: 294.7+ KB\n"
          ],
          "name": "stdout"
        }
      ]
    },
    {
      "cell_type": "code",
      "metadata": {
        "id": "H1o_MKm1p6KE"
      },
      "source": [
        "df_test[\"Date\"] = df_test[\"Date\"].astype(int)\n",
        "df_test[\"Month\"] = df_test[\"Month\"].astype(int)\n",
        "df_test[\"Year\"] = df_test[\"Year\"].astype(int)"
      ],
      "execution_count": 625,
      "outputs": []
    },
    {
      "cell_type": "code",
      "metadata": {
        "id": "5ABezExnqfuk",
        "colab": {
          "base_uri": "https://localhost:8080/"
        },
        "outputId": "01117c5c-169c-4222-9c58-dfb0e02f13c7"
      },
      "source": [
        "df_test.columns"
      ],
      "execution_count": 629,
      "outputs": [
        {
          "output_type": "execute_result",
          "data": {
            "text/plain": [
              "Index(['Duration', 'Total_Stops', 'Date', 'Month', 'Year', 'Dep_hour',\n",
              "       'Dep_min', 'Arrival_hour', 'Arrival_min', 'Airline B', 'Airline C',\n",
              "       'Airline D', 'Airline E', 'Airline F', 'Airline G', 'Airline H',\n",
              "       'Airline I', 'Chennai', 'Delhi', 'Kolkata', 'Mumbai', 'Cochin', 'Delhi',\n",
              "       'Hyderabad', 'Kolkata', 'New Delhi', 'Dep_Time', 'Arrival_Time'],\n",
              "      dtype='object')"
            ]
          },
          "metadata": {
            "tags": []
          },
          "execution_count": 629
        }
      ]
    },
    {
      "cell_type": "code",
      "metadata": {
        "colab": {
          "base_uri": "https://localhost:8080/"
        },
        "id": "B0-fgewj9ZNl",
        "outputId": "f1b50b16-fd3d-44fc-b453-032e02f8894e"
      },
      "source": [
        "df_test.info()"
      ],
      "execution_count": 630,
      "outputs": [
        {
          "output_type": "stream",
          "text": [
            "<class 'pandas.core.frame.DataFrame'>\n",
            "Int64Index: 2671 entries, 0 to 2670\n",
            "Data columns (total 28 columns):\n",
            " #   Column        Non-Null Count  Dtype  \n",
            "---  ------        --------------  -----  \n",
            " 0   Duration      2671 non-null   float64\n",
            " 1   Total_Stops   2671 non-null   int64  \n",
            " 2   Date          2671 non-null   int64  \n",
            " 3   Month         2671 non-null   int64  \n",
            " 4   Year          2671 non-null   int64  \n",
            " 5   Dep_hour      2671 non-null   int64  \n",
            " 6   Dep_min       2671 non-null   int64  \n",
            " 7   Arrival_hour  2671 non-null   int64  \n",
            " 8   Arrival_min   2671 non-null   int64  \n",
            " 9   Airline B     2671 non-null   uint8  \n",
            " 10  Airline C     2671 non-null   uint8  \n",
            " 11  Airline D     2671 non-null   uint8  \n",
            " 12  Airline E     2671 non-null   uint8  \n",
            " 13  Airline F     2671 non-null   uint8  \n",
            " 14  Airline G     2671 non-null   uint8  \n",
            " 15  Airline H     2671 non-null   uint8  \n",
            " 16  Airline I     2671 non-null   uint8  \n",
            " 17  Chennai       2671 non-null   uint8  \n",
            " 18  Delhi         2671 non-null   uint8  \n",
            " 19  Kolkata       2671 non-null   uint8  \n",
            " 20  Mumbai        2671 non-null   uint8  \n",
            " 21  Cochin        2671 non-null   uint8  \n",
            " 22  Delhi         2671 non-null   uint8  \n",
            " 23  Hyderabad     2671 non-null   uint8  \n",
            " 24  Kolkata       2671 non-null   uint8  \n",
            " 25  New Delhi     2671 non-null   uint8  \n",
            " 26  Dep_Time      2671 non-null   object \n",
            " 27  Arrival_Time  2671 non-null   object \n",
            "dtypes: float64(1), int64(8), object(2), uint8(17)\n",
            "memory usage: 294.7+ KB\n"
          ],
          "name": "stdout"
        }
      ]
    },
    {
      "cell_type": "code",
      "metadata": {
        "colab": {
          "base_uri": "https://localhost:8080/"
        },
        "id": "Y5cgmZsi9vvA",
        "outputId": "f827f1bc-4d66-4c7f-b861-c395f6a172c0"
      },
      "source": [
        "df_test.Dep_Time.value_counts()"
      ],
      "execution_count": 631,
      "outputs": [
        {
          "output_type": "execute_result",
          "data": {
            "text/plain": [
              "Morning      1065\n",
              "Evening       727\n",
              "Afternoon     498\n",
              "Night         381\n",
              "Name: Dep_Time, dtype: int64"
            ]
          },
          "metadata": {
            "tags": []
          },
          "execution_count": 631
        }
      ]
    },
    {
      "cell_type": "code",
      "metadata": {
        "colab": {
          "base_uri": "https://localhost:8080/"
        },
        "id": "dQ5_ml6u9vy4",
        "outputId": "e470b856-82bc-4824-cadb-72258f339bd5"
      },
      "source": [
        "df_test.Arrival_Time.value_counts()"
      ],
      "execution_count": 632,
      "outputs": [
        {
          "output_type": "execute_result",
          "data": {
            "text/plain": [
              "Night        915\n",
              "Evening      770\n",
              "Morning      494\n",
              "Afternoon    492\n",
              "Name: Arrival_Time, dtype: int64"
            ]
          },
          "metadata": {
            "tags": []
          },
          "execution_count": 632
        }
      ]
    },
    {
      "cell_type": "code",
      "metadata": {
        "id": "8CjNifUK9dNF"
      },
      "source": [
        "df_test[\"Dep_Time\"]=df_test[\"Dep_Time\"].replace({\"Morning\":1,\"Afternoon\":2,\"Evening\":3,\"Night\":4})"
      ],
      "execution_count": 633,
      "outputs": []
    },
    {
      "cell_type": "code",
      "metadata": {
        "id": "GYMZcplT9dQe"
      },
      "source": [
        "df_test[\"Arrival_Time\"]=df_test[\"Arrival_Time\"].replace({\"Morning\":1,\"Afternoon\":2,\"Evening\":3,\"Night\":4})"
      ],
      "execution_count": 635,
      "outputs": []
    },
    {
      "cell_type": "code",
      "metadata": {
        "id": "ADZSZMZSqT8s"
      },
      "source": [
        "df_test1= df_test.loc[:,['Duration', 'Total_Stops', 'Date', 'Month', 'Dep_hour',\n",
        "       'Dep_min', 'Arrival_hour', 'Arrival_min', 'Airline B', 'Airline C',\n",
        "       'Airline D', 'Airline E', 'Airline F', 'Airline G', 'Airline H',\n",
        "       'Airline I', 'Chennai', 'Delhi', 'Kolkata', 'Mumbai', 'Cochin', 'Delhi',\n",
        "       'Hyderabad', 'Kolkata', 'New Delhi','Dep_Time','Arrival_Time']]"
      ],
      "execution_count": 636,
      "outputs": []
    },
    {
      "cell_type": "code",
      "metadata": {
        "id": "JAa5BBT2n5RZ"
      },
      "source": [
        "prediction = rf_random.predict(df_test1)"
      ],
      "execution_count": 637,
      "outputs": []
    },
    {
      "cell_type": "code",
      "metadata": {
        "id": "byzMnNKurJDV",
        "colab": {
          "base_uri": "https://localhost:8080/"
        },
        "outputId": "6498c3d9-f224-4cd5-81b8-b5e5e28f87a0"
      },
      "source": [
        "prediction"
      ],
      "execution_count": 638,
      "outputs": [
        {
          "output_type": "execute_result",
          "data": {
            "text/plain": [
              "array([ 8226.7770494 , 34569.18484911, 57493.62418457, ...,\n",
              "       13482.43513923, 15163.55945403, 57293.44114379])"
            ]
          },
          "metadata": {
            "tags": []
          },
          "execution_count": 638
        }
      ]
    },
    {
      "cell_type": "code",
      "metadata": {
        "id": "EIvpZcsan-mN"
      },
      "source": [
        "submission_file = pd.DataFrame(prediction,columns = ['price'])"
      ],
      "execution_count": 639,
      "outputs": []
    },
    {
      "cell_type": "code",
      "metadata": {
        "id": "5k-MzVknoAjx",
        "colab": {
          "base_uri": "https://localhost:8080/",
          "height": 202
        },
        "outputId": "754466e4-1a06-43ec-fcc0-f1e0f026d064"
      },
      "source": [
        "submission_file.head()"
      ],
      "execution_count": 640,
      "outputs": [
        {
          "output_type": "execute_result",
          "data": {
            "text/html": [
              "<div>\n",
              "<style scoped>\n",
              "    .dataframe tbody tr th:only-of-type {\n",
              "        vertical-align: middle;\n",
              "    }\n",
              "\n",
              "    .dataframe tbody tr th {\n",
              "        vertical-align: top;\n",
              "    }\n",
              "\n",
              "    .dataframe thead th {\n",
              "        text-align: right;\n",
              "    }\n",
              "</style>\n",
              "<table border=\"1\" class=\"dataframe\">\n",
              "  <thead>\n",
              "    <tr style=\"text-align: right;\">\n",
              "      <th></th>\n",
              "      <th>price</th>\n",
              "    </tr>\n",
              "  </thead>\n",
              "  <tbody>\n",
              "    <tr>\n",
              "      <th>0</th>\n",
              "      <td>8226.777049</td>\n",
              "    </tr>\n",
              "    <tr>\n",
              "      <th>1</th>\n",
              "      <td>34569.184849</td>\n",
              "    </tr>\n",
              "    <tr>\n",
              "      <th>2</th>\n",
              "      <td>57493.624185</td>\n",
              "    </tr>\n",
              "    <tr>\n",
              "      <th>3</th>\n",
              "      <td>8027.486545</td>\n",
              "    </tr>\n",
              "    <tr>\n",
              "      <th>4</th>\n",
              "      <td>6350.120280</td>\n",
              "    </tr>\n",
              "  </tbody>\n",
              "</table>\n",
              "</div>"
            ],
            "text/plain": [
              "          price\n",
              "0   8226.777049\n",
              "1  34569.184849\n",
              "2  57493.624185\n",
              "3   8027.486545\n",
              "4   6350.120280"
            ]
          },
          "metadata": {
            "tags": []
          },
          "execution_count": 640
        }
      ]
    },
    {
      "cell_type": "code",
      "metadata": {
        "id": "IWDin62tsPWp"
      },
      "source": [
        "submission_file.to_csv('submission_file.csv', index=True)"
      ],
      "execution_count": 641,
      "outputs": []
    }
  ]
}